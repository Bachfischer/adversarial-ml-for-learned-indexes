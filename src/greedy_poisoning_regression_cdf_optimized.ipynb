{
 "cells": [
  {
   "cell_type": "markdown",
   "id": "2310f72a",
   "metadata": {},
   "source": [
    "# TODO: \n",
    "- Use `set()` instead of np.array"
   ]
  },
  {
   "cell_type": "markdown",
   "id": "0b039c51",
   "metadata": {},
   "source": [
    "## Introduction\n",
    "\n",
    "This notebook is an implementation of the greedy poisoning attack on regression models as described in Kornaropoulos et. al - *The Price of Tailoring the Index to Your Data: Poisoning Attacks on Learned Index Structures* (paper available on [Arxiv](https://arxiv.org/abs/2008.00297))"
   ]
  },
  {
   "cell_type": "code",
   "execution_count": 1,
   "id": "777c9564",
   "metadata": {},
   "outputs": [],
   "source": [
    "import csv\n",
    "import numpy as np\n",
    "import pandas as pd\n",
    "from itertools import groupby\n",
    "\n",
    "from sklearn.linear_model import LinearRegression\n",
    "from sklearn import metrics \n",
    "\n",
    "import matplotlib.pyplot as plt  \n",
    "#import warnings, datetime\n",
    "#import scipy.stats as ss"
   ]
  },
  {
   "cell_type": "code",
   "execution_count": 2,
   "id": "2eb939ea",
   "metadata": {},
   "outputs": [],
   "source": [
    "import cProfile"
   ]
  },
  {
   "cell_type": "markdown",
   "id": "1b7b8451",
   "metadata": {},
   "source": [
    "## Algorithm 1 - Greedy Poisoning Regression CDF\n",
    "\n",
    "The following code implements **Algorithm 1 (Greedy Poisoning Regression CDF)** as described in the paper \"*The Price of Tailoring the Index to Your Data: Poisoning Attacks on Learned Index Structures*\"."
   ]
  },
  {
   "cell_type": "code",
   "execution_count": 3,
   "id": "356d9c2d",
   "metadata": {},
   "outputs": [],
   "source": [
    "def rankdata(array):\n",
    "    #arr = np.ravel(np.asarray(array))\n",
    "    algo = 'mergesort'\n",
    "    sorter = np.argsort(array, kind=algo)\n",
    "\n",
    "    inv = np.empty(sorter.size, dtype=np.intp)\n",
    "    inv[sorter] = np.arange(sorter.size, dtype=np.intp)\n",
    "    return inv + 1"
   ]
  },
  {
   "cell_type": "code",
   "execution_count": 20,
   "id": "1c52fe24",
   "metadata": {},
   "outputs": [],
   "source": [
    "# Extracts non-occupied keys for a given sequence\n",
    "def extract_non_occupied_keys(keyset):\n",
    "    n = keyset.shape[0]\n",
    "    \n",
    "    lower_bound = int(keyset[0]-1)\n",
    "    upper_bound = int(keyset[n-1]+1)\n",
    "    \n",
    "    # convert to set to speed up lookup\n",
    "    keyset = set(keyset)\n",
    "\n",
    "    non_occupied_keys = []\n",
    "    for i in range(lower_bound, upper_bound + 1):\n",
    "        if i not in keyset:\n",
    "            non_occupied_keys.append(i)\n",
    "        \n",
    "    return non_occupied_keys"
   ]
  },
  {
   "cell_type": "code",
   "execution_count": 21,
   "id": "68c28772",
   "metadata": {},
   "outputs": [
    {
     "data": {
      "text/plain": [
       "[1, 3, 6, 7, 9, 10, 12]"
      ]
     },
     "execution_count": 21,
     "metadata": {},
     "output_type": "execute_result"
    }
   ],
   "source": [
    "# REMOVE\n",
    "my_list = np.array([2, 4, 5, 8, 11])\n",
    "extract_non_occupied_keys(my_list)"
   ]
  },
  {
   "cell_type": "code",
   "execution_count": 22,
   "id": "57577dc4",
   "metadata": {},
   "outputs": [],
   "source": [
    "# Groups a list of keys into subsequences of consecutive keys \n",
    "def extract_seq(seq):\n",
    "    return [\n",
    "        [x for _, x in g]\n",
    "        for k, g in groupby(\n",
    "            enumerate(seq), \n",
    "            lambda i_x : i_x[0] - i_x[1]\n",
    "        )\n",
    "    ]   \n",
    "\n",
    "# Extract the endpoints of each subsequence\n",
    "def extract_endpoints(subsequences):\n",
    "    endpoints = []\n",
    "    for sequence in subsequences:\n",
    "        if len(sequence) == 1:\n",
    "            endpoints.append(sequence[0])\n",
    "        else:\n",
    "            endpoints.append(sequence[0]) # get first element of sequence\n",
    "            endpoints.append(sequence[len(sequence)-1]) # get last element of sequence\n",
    "            \n",
    "    return endpoints\n",
    "\n",
    "# Partition the non-occupied keys, i.e., keys not in K ∪ P, into subsequences such that each subsequence consists of consecutive non-occupied keys;\n",
    "def partition_non_occupied_keys(K, P):\n",
    "    keyset = np.append(K, list(P))\n",
    "    keyset = np.sort(keyset)\n",
    "\n",
    "    non_occupied_keys = extract_non_occupied_keys(keyset)\n",
    "    \n",
    "    subsequences = extract_seq(non_occupied_keys)\n",
    "    endpoints = extract_endpoints(subsequences)\n",
    "    return np.array(endpoints)\n",
    "\n",
    "# Compute the rank that key S(i) would have if it was inserted in K ∪ P and assign this rank as the i-th element of the new sequence\n",
    "def compute_rank_for_endpoints(endpoints, keyset):\n",
    "    computed_rank_for_endpoint = []\n",
    "    \n",
    "    for endpoint in endpoints:\n",
    "        # PERFORMANCE: conversion to set() not efficient\n",
    "        #keyset_extended = set(np.append(keyset, endpoint))\n",
    "        keyset_extended = np.append(keyset, endpoint)\n",
    "        \n",
    "        # PERFORMANCE: ss.rankdata is very time-consuming\n",
    "        #rank = list(ss.rankdata(keyset_extended, method='ordinal'))\n",
    "        rank = rankdata(keyset_extended)\n",
    "        \n",
    "        # extract rank for the last element in the list (the endpoint)\n",
    "        rank_of_endpoint = rank[len(rank) - 1]\n",
    "        computed_rank_for_endpoint.append(int(rank_of_endpoint))\n",
    "    \n",
    "    return computed_rank_for_endpoint\n",
    "    "
   ]
  },
  {
   "cell_type": "code",
   "execution_count": 23,
   "id": "178faf76",
   "metadata": {},
   "outputs": [],
   "source": [
    "import operator\n",
    "from statistics import mean\n",
    "\n",
    "def obtain_poisoning_keys(p, keyset, rankset):\n",
    "    # Total number of elements\n",
    "    n = keyset.shape[0]\n",
    "\n",
    "    # Number of posoning keys p\n",
    "    P = p * n\n",
    "    poisoning_keys = set()\n",
    "    \n",
    "\n",
    "    for j in range(int(P)):\n",
    "        # Partition the non-occupied keys into subsequences such that each subsequence consists of consecutive non-occupied keys;\n",
    "        # Extract the endpoints of each subsequence and sort them to construct the new sequence of endpoints S(i), where i <= 2(n + j);\n",
    "        endpoints = partition_non_occupied_keys(keyset, poisoning_keys)\n",
    "\n",
    "        # Compute the rank that key S(i) would have if it was inserted in K ∪ P and assign this rank as the i-th element of the new sequence T (i), where i <= 2(n + j) ;\n",
    "        list_rank = compute_rank_for_endpoints(endpoints, keyset)\n",
    "        #print(list_rank)\n",
    "\n",
    "        # Compute the effect of choosing S(1) as a poisoning key and inserting it to K ∪ P with the appropriate rank adjustments. \n",
    "        # Specifically, evaluate the sequences each of which is the mean M for a different variable, e.g., K, R, KR. Compute MK (1), MK2 (1), MKR(1), and L(1) ;\n",
    "        S = endpoints\n",
    "        T = list_rank\n",
    "        \n",
    "        delta_S = {}\n",
    "        M_K = {}\n",
    "        M_K_square = {}\n",
    "        M_R = {}\n",
    "        M_R_square = {}\n",
    "        M_KR = {}\n",
    "        L = {}\n",
    "        \n",
    "        # Calculate M_K(1), M_R(1) etc.\n",
    "        current_keyset = np.append(keyset, S[0])\n",
    "        M_K[0] = np.mean(keyset)\n",
    "\n",
    "        current_rankset = np.append(rankset, T[0])\n",
    "        M_R[0] = np.mean(rankset)\n",
    "\n",
    "        M_K_square[0] = np.mean(keyset**2)\n",
    "\n",
    "        M_R_square[0] = np.mean(rankset**2)\n",
    "\n",
    "        M_KR[0] = np.mean(keyset*rankset)\n",
    "\n",
    "        nominator = (M_KR[0] - (M_K[0] * M_R[0]))**2\n",
    "        denominator = M_K_square[0] - (M_K[0])**2\n",
    "        L[0] = - (nominator / denominator) + M_R_square[0] - (M_R[0])**2\n",
    "\n",
    "        for i in range(1, len(endpoints)-1):\n",
    "            # Calculate M_K(i), M_R(i) etc.\n",
    "            delta_S[i] = S[i+1] - S[i] \n",
    "\n",
    "            M_K[i] = M_K[i-1] + delta_S[i] / (n) \n",
    "            M_K_square[i] = M_K_square[i-1] + (( 2 * S[i] + delta_S[i]) * delta_S[i]) / (n + 1) \n",
    "\n",
    "            M_R[i] = (n + 2) / 2\n",
    "            M_R_square[i] = ((n+2)*(2*n+3)) / 6\n",
    "            M_KR[i] = M_KR[i-1] + ( T[i-1] * delta_S[i]) / (n + 1)\n",
    "\n",
    "            nominator = (M_KR[i] - M_K[i]*M_R[i])**2\n",
    "            denominator = M_K_square[i] - (M_K[i])**2\n",
    "            L[i] = - (nominator / denominator) + M_R_square[i] - (M_R[i])**2\n",
    "\n",
    "        # get argmax of items in L\n",
    "        optimal_key_index = max(L.items(), key=operator.itemgetter(1))[0]\n",
    "        poisoning_keys.add(S[optimal_key_index])\n",
    "    \n",
    "    return poisoning_keys"
   ]
  },
  {
   "cell_type": "markdown",
   "id": "3dd91094",
   "metadata": {},
   "source": [
    "## Linear regression with non-poisoned keys"
   ]
  },
  {
   "cell_type": "code",
   "execution_count": 8,
   "id": "afd02089",
   "metadata": {},
   "outputs": [],
   "source": [
    "df=pd.read_csv('../data/random_2000.csv', sep=',',header=None)\n",
    "\n",
    "X = np.array(df[0]).reshape(-1, 1)\n",
    "y = np.array(df[1])\n",
    "regressor_legitimate = LinearRegression()\n",
    "regressor_legitimate.fit(X, y) \n",
    "\n",
    "y_pred = regressor_legitimate.predict(X)\n",
    "mse_legitimate = metrics.mean_squared_error(y, y_pred)"
   ]
  },
  {
   "cell_type": "code",
   "execution_count": 9,
   "id": "86ce098f",
   "metadata": {},
   "outputs": [
    {
     "name": "stdout",
     "output_type": "stream",
     "text": [
      "Mean Squared Error: 22.990043047393875\n"
     ]
    }
   ],
   "source": [
    "print('Mean Squared Error:', metrics.mean_squared_error(y, y_pred))  "
   ]
  },
  {
   "cell_type": "code",
   "execution_count": 10,
   "id": "d9fad6c7",
   "metadata": {},
   "outputs": [
    {
     "data": {
      "image/png": "[encoded data removed]",
      "text/plain": [
       "<Figure size 432x288 with 1 Axes>"
      ]
     },
     "metadata": {
      "needs_background": "light"
     },
     "output_type": "display_data"
    }
   ],
   "source": [
    "def abline(slope, intercept, color, label):\n",
    "    \"\"\"Plot a line from slope and intercept\"\"\"\n",
    "    axes = plt.gca()\n",
    "    x_vals = np.array(axes.get_xlim())\n",
    "    y_vals = intercept + slope * x_vals\n",
    "    plt.plot(x_vals, y_vals, '--', color=color, label = label)\n",
    "    plt.legend()\n",
    "    plt.xlabel('Keys')\n",
    "    plt.ylabel('Rank')\n",
    "\n",
    "# Plot outputs\n",
    "plt.scatter(X, y,  color='black')\n",
    "abline(regressor_legitimate.coef_, regressor_legitimate.intercept_, color=\"blue\", label=\"Non-poisoned regression line\")\n",
    " \n",
    "plt.show()"
   ]
  },
  {
   "cell_type": "markdown",
   "id": "ceb41315",
   "metadata": {},
   "source": [
    "## Linear regression with poisoned keys"
   ]
  },
  {
   "cell_type": "code",
   "execution_count": 25,
   "id": "485596be",
   "metadata": {},
   "outputs": [],
   "source": [
    "poisoning_keys = obtain_poisoning_keys(p = 0.2, keyset=X, rankset=y)"
   ]
  },
  {
   "cell_type": "code",
   "execution_count": 24,
   "id": "820e4727",
   "metadata": {},
   "outputs": [
    {
     "name": "stdout",
     "output_type": "stream",
     "text": [
      "         19162481 function calls (18078585 primitive calls) in 28.054 seconds\n",
      "\n",
      "   Ordered by: internal time\n",
      "\n",
      "   ncalls  tottime  percall  cumtime  percall filename:lineno(function)\n",
      "        1    5.662    5.662   28.053   28.053 <ipython-input-23-aeacdf803509>:4(obtain_poisoning_keys)\n",
      "   540748    4.023    0.000   10.329    0.000 <ipython-input-3-d0e8c4688c79>:1(rankdata)\n",
      "2168992/1085096    2.993    0.000   12.426    0.000 {built-in method numpy.core._multiarray_umath.implement_array_function}\n",
      "   540748    2.513    0.000    2.513    0.000 {method 'argsort' of 'numpy.ndarray' objects}\n",
      "     2000    1.635    0.001    1.635    0.001 {method 'reduce' of 'numpy.ufunc' objects}\n",
      "      400    1.375    0.003   19.353    0.048 <ipython-input-22-d33869b58f62>:35(compute_rank_for_endpoints)\n",
      "   540748    1.178    0.000    1.178    0.000 {built-in method numpy.arange}\n",
      "   541948    1.040    0.000    6.256    0.000 function_base.py:4690(append)\n",
      "   540748    0.886    0.000    0.886    0.000 {built-in method numpy.empty}\n",
      "  1086696    0.848    0.000    0.848    0.000 {built-in method numpy.array}\n",
      "   541948    0.512    0.000    1.669    0.000 fromnumeric.py:1716(ravel)\n",
      "  1083496    0.498    0.000    0.498    0.000 {method 'ravel' of 'numpy.ndarray' objects}\n",
      "   541948    0.466    0.000    1.948    0.000 <__array_function__ internals>:2(concatenate)\n",
      "   540748    0.451    0.000    4.242    0.000 <__array_function__ internals>:2(argsort)\n",
      "      400    0.388    0.001    0.446    0.001 <ipython-input-20-e0d39eaa303d>:2(extract_non_occupied_keys)\n",
      "   540748    0.387    0.000    3.426    0.000 fromnumeric.py:1004(argsort)\n",
      "   540748    0.384    0.000    3.039    0.000 fromnumeric.py:52(_wrapfunc)\n",
      "   541948    0.382    0.000    7.501    0.000 <__array_function__ internals>:2(append)\n",
      "  1086296    0.354    0.000    1.160    0.000 _asarray.py:110(asanyarray)\n",
      "   541948    0.332    0.000    2.628    0.000 <__array_function__ internals>:2(ravel)\n",
      "   362941    0.247    0.000    0.354    0.000 <ipython-input-22-d33869b58f62>:4(<listcomp>)\n",
      "      400    0.187    0.000    0.273    0.001 <ipython-input-22-d33869b58f62>:12(extract_endpoints)\n",
      "  1801296    0.181    0.000    0.181    0.000 {method 'append' of 'list' objects}\n",
      "  1081896    0.148    0.000    0.148    0.000 {built-in method builtins.len}\n",
      "   543948    0.143    0.000    0.143    0.000 {built-in method builtins.isinstance}\n",
      "   540748    0.142    0.000    0.142    0.000 {built-in method builtins.getattr}\n",
      "      400    0.118    0.000    0.472    0.001 <ipython-input-22-d33869b58f62>:3(<listcomp>)\n",
      "   719800    0.107    0.000    0.107    0.000 <ipython-input-22-d33869b58f62>:7(<lambda>)\n",
      "   541948    0.094    0.000    0.094    0.000 function_base.py:4686(_append_dispatcher)\n",
      "   541948    0.089    0.000    0.089    0.000 multiarray.py:143(concatenate)\n",
      "   540748    0.083    0.000    0.083    0.000 fromnumeric.py:1000(_argsort_dispatcher)\n",
      "   541948    0.081    0.000    0.081    0.000 fromnumeric.py:1712(_ravel_dispatcher)\n",
      "      400    0.043    0.000    0.043    0.000 {built-in method builtins.max}\n",
      "      400    0.024    0.000    1.300    0.003 <ipython-input-22-d33869b58f62>:24(partition_non_occupied_keys)\n",
      "     2000    0.016    0.000    1.670    0.001 _methods.py:161(_mean)\n",
      "     2000    0.013    0.000    0.014    0.000 _methods.py:65(_count_reduce_items)\n",
      "      400    0.012    0.000    0.012    0.000 {method 'sort' of 'numpy.ndarray' objects}\n",
      "     2000    0.006    0.000    1.675    0.001 fromnumeric.py:3301(mean)\n",
      "     2000    0.003    0.000    1.682    0.001 <__array_function__ internals>:2(mean)\n",
      "      400    0.002    0.000    0.474    0.001 <ipython-input-22-d33869b58f62>:2(extract_seq)\n",
      "      400    0.001    0.000    0.001    0.000 {method 'copy' of 'numpy.ndarray' objects}\n",
      "     3200    0.001    0.000    0.001    0.000 {built-in method numpy.core._multiarray_umath.normalize_axis_index}\n",
      "     2000    0.001    0.000    0.001    0.000 {built-in method builtins.hasattr}\n",
      "      400    0.001    0.000    0.015    0.000 fromnumeric.py:844(sort)\n",
      "      400    0.001    0.000    0.016    0.000 <__array_function__ internals>:2(sort)\n",
      "     2000    0.001    0.000    0.001    0.000 fromnumeric.py:3296(_mean_dispatcher)\n",
      "     2000    0.001    0.000    0.001    0.000 {built-in method builtins.issubclass}\n",
      "      400    0.000    0.000    0.000    0.000 {method 'add' of 'set' objects}\n",
      "      400    0.000    0.000    0.000    0.000 {method 'items' of 'dict' objects}\n",
      "        1    0.000    0.000   28.053   28.053 <string>:1(<module>)\n",
      "      400    0.000    0.000    0.000    0.000 fromnumeric.py:840(_sort_dispatcher)\n",
      "        1    0.000    0.000   28.054   28.054 {built-in method builtins.exec}\n",
      "        1    0.000    0.000    0.000    0.000 {method 'disable' of '_lsprof.Profiler' objects}\n",
      "\n",
      "\n"
     ]
    }
   ],
   "source": [
    "cProfile.run('obtain_poisoning_keys(p = 0.2, keyset=X, rankset=y)', sort = \"time\")"
   ]
  },
  {
   "cell_type": "code",
   "execution_count": 26,
   "id": "0671b65a",
   "metadata": {},
   "outputs": [
    {
     "data": {
      "image/png": "[encoded data removed]",
      "text/plain": [
       "<Figure size 432x288 with 1 Axes>"
      ]
     },
     "metadata": {
      "needs_background": "light"
     },
     "output_type": "display_data"
    }
   ],
   "source": [
    "import matplotlib.pyplot as plt\n",
    "import numpy as np\n",
    "from matplotlib import colors\n",
    "from matplotlib.ticker import PercentFormatter\n",
    "\n",
    "def plot_distribution_of_poisoning_keys(poisoning_keys):\n",
    "    # we observe that poisoning keys are densly populated together\n",
    "    plt.hist(poisoning_keys, bins = 100, range=[0, df[0][len(df)-1]])\n",
    "    plt.show()\n",
    "\n",
    "plot_distribution_of_poisoning_keys(poisoning_keys)"
   ]
  },
  {
   "cell_type": "code",
   "execution_count": 28,
   "id": "66ea4f0c",
   "metadata": {},
   "outputs": [],
   "source": [
    "X_poisoned = np.append(X, list(poisoning_keys))\n",
    "y_poisoned = rankdata(X_poisoned)"
   ]
  },
  {
   "cell_type": "code",
   "execution_count": null,
   "id": "bbf57040",
   "metadata": {},
   "outputs": [],
   "source": []
  },
  {
   "cell_type": "markdown",
   "id": "3a29d93f",
   "metadata": {},
   "source": [
    "### Visualization"
   ]
  },
  {
   "cell_type": "code",
   "execution_count": 29,
   "id": "09b92533",
   "metadata": {},
   "outputs": [],
   "source": [
    "X_poisoned = X_poisoned.reshape(-1,1)\n",
    "regressor_poisoned = LinearRegression()\n",
    "regressor_poisoned.fit(X_poisoned, y_poisoned)  \n",
    "\n",
    "y_poisoned_pred = regressor_poisoned.predict(X_poisoned)"
   ]
  },
  {
   "cell_type": "code",
   "execution_count": 30,
   "id": "6ddd9ce3",
   "metadata": {},
   "outputs": [
    {
     "name": "stdout",
     "output_type": "stream",
     "text": [
      "------------------\n",
      "Mean Squared Error: 5015.2233666297\n"
     ]
    }
   ],
   "source": [
    "print(\"------------------\")\n",
    "print('Mean Squared Error:', metrics.mean_squared_error(y_poisoned, y_poisoned_pred))  \n",
    "mse_poisoned = metrics.mean_squared_error(y_poisoned, y_poisoned_pred)"
   ]
  },
  {
   "cell_type": "code",
   "execution_count": 31,
   "id": "acadd8c6",
   "metadata": {},
   "outputs": [],
   "source": [
    "ratio_loss =  mse_poisoned / mse_legitimate"
   ]
  },
  {
   "cell_type": "code",
   "execution_count": 32,
   "id": "47a1dde0",
   "metadata": {},
   "outputs": [
    {
     "data": {
      "image/png": "[encoded data removed]",
      "text/plain": [
       "<Figure size 432x288 with 1 Axes>"
      ]
     },
     "metadata": {
      "needs_background": "light"
     },
     "output_type": "display_data"
    }
   ],
   "source": [
    "# Plot outputs\n",
    "plt.scatter(X_poisoned, y_poisoned,  color='black')\n",
    "abline(regressor_poisoned.coef_, regressor_poisoned.intercept_, color=\"red\", label=\"Poisoned regression line\")\n",
    "abline(regressor_legitimate.coef_, regressor_legitimate.intercept_, color=\"blue\", label=\"Non-poisoned regression line\")\n",
    "label= \"Poisoned vs. non-poisoned regression line for n=\"+ str(X.shape[0]) + \" keys\"\n",
    "plt.title(label=label)\n",
    "plt.show()"
   ]
  },
  {
   "cell_type": "code",
   "execution_count": null,
   "id": "90106d58",
   "metadata": {},
   "outputs": [],
   "source": []
  },
  {
   "cell_type": "code",
   "execution_count": null,
   "id": "6769a35c",
   "metadata": {},
   "outputs": [],
   "source": []
  },
  {
   "cell_type": "code",
   "execution_count": null,
   "id": "33299791",
   "metadata": {},
   "outputs": [],
   "source": []
  },
  {
   "cell_type": "code",
   "execution_count": null,
   "id": "7db33426",
   "metadata": {},
   "outputs": [],
   "source": []
  },
  {
   "cell_type": "markdown",
   "id": "42028730",
   "metadata": {},
   "source": [
    "### Write poisoned keyset to file"
   ]
  },
  {
   "cell_type": "code",
   "execution_count": 203,
   "id": "034dd37c",
   "metadata": {},
   "outputs": [],
   "source": [
    "poisoned_keyset = pd.DataFrame(data=list(X_poisoned))\n",
    "poisoned_keyset.to_csv(\"../data/poisoned_keyset_2000.csv\", sep=',',index=False)"
   ]
  },
  {
   "cell_type": "markdown",
   "id": "704d3d8a",
   "metadata": {},
   "source": [
    "## Linear regression experiments with different key sizes / different poisoning percentages"
   ]
  },
  {
   "cell_type": "code",
   "execution_count": 15,
   "id": "14882091",
   "metadata": {},
   "outputs": [],
   "source": [
    "import random\n",
    "\n",
    "def generate_uniform_data(size):\n",
    "    \n",
    "    data = random.sample(range(2, size * 2), size)\n",
    "    data.sort()\n",
    "    return data"
   ]
  },
  {
   "cell_type": "code",
   "execution_count": 16,
   "id": "3768080d",
   "metadata": {},
   "outputs": [
    {
     "name": "stdout",
     "output_type": "stream",
     "text": [
      "-------------------------\n",
      "Dataset size:  500\n",
      "Mean Squared Error: 10.816464904609312\n",
      "Mean Squared Error: 11.11713079239834\n",
      "Mean Squared Error: 12.038229273838143\n",
      "Mean Squared Error: 13.815707106720806\n",
      "Mean Squared Error: 17.88193188797914\n",
      "Mean Squared Error: 24.44914795010329\n",
      "Mean Squared Error: 29.810067013172063\n",
      "Mean Squared Error: 40.357670960423974\n",
      "Mean Squared Error: 53.644429094707164\n",
      "Mean Squared Error: 66.05976278804661\n",
      "Mean Squared Error: 84.0755512105039\n",
      "Mean Squared Error: 105.08008239241076\n",
      "Mean Squared Error: 128.41479806191754\n",
      "Mean Squared Error: 148.75057197227716\n",
      "Mean Squared Error: 169.84725277689816\n"
     ]
    },
    {
     "data": {
      "image/png": "[encoded data removed]",
      "text/plain": [
       "<Figure size 432x288 with 1 Axes>"
      ]
     },
     "metadata": {
      "needs_background": "light"
     },
     "output_type": "display_data"
    },
    {
     "name": "stdout",
     "output_type": "stream",
     "text": [
      "-------------------------\n",
      "Dataset size:  1000\n",
      "Mean Squared Error: 20.773564268523586\n",
      "Mean Squared Error: 25.78819890323834\n",
      "Mean Squared Error: 38.20042041745141\n",
      "Mean Squared Error: 56.34731516231744\n",
      "Mean Squared Error: 76.13307741398904\n",
      "Mean Squared Error: 104.00910688645017\n",
      "Mean Squared Error: 137.53844998726439\n",
      "Mean Squared Error: 188.29765677644156\n",
      "Mean Squared Error: 243.60929879108775\n",
      "Mean Squared Error: 307.26563547759065\n",
      "Mean Squared Error: 379.5819577658792\n",
      "Mean Squared Error: 459.9276318940463\n",
      "Mean Squared Error: 527.3773904911287\n",
      "Mean Squared Error: 609.9754483106909\n",
      "Mean Squared Error: 708.88213444713\n"
     ]
    },
    {
     "data": {
      "image/png": "[encoded data removed]",
      "text/plain": [
       "<Figure size 432x288 with 1 Axes>"
      ]
     },
     "metadata": {
      "needs_background": "light"
     },
     "output_type": "display_data"
    }
   ],
   "source": [
    "dataset_sizes = [500, 1000]\n",
    "\n",
    "for dataset_size in dataset_sizes:\n",
    "    \n",
    "    print(\"-------------------------\")\n",
    "    print(\"Dataset size: \", dataset_size)\n",
    "    X = generate_uniform_data(dataset_size)\n",
    "    X = np.array(X).reshape(-1, 1)\n",
    "    \n",
    "    y = np.linspace(1, dataset_size, num=dataset_size)\n",
    "\n",
    "    poisoning_percentages = np.linspace(0.01, 0.15, num= 15)\n",
    "\n",
    "    ratio_losses = []\n",
    "    \n",
    "    regressor_legitimate = LinearRegression()\n",
    "    regressor_legitimate.fit(X, y) \n",
    "\n",
    "    y_pred = regressor_legitimate.predict(X)\n",
    "    mse_legitimate = metrics.mean_squared_error(y, y_pred)\n",
    "\n",
    "    for percentage in poisoning_percentages:\n",
    "        poisoning_keys = obtain_poisoning_keys(p = percentage, keyset = X, rankset = y)\n",
    "\n",
    "        #plot_poisoning_keys(poisoning_keys)\n",
    "\n",
    "        X_poisoned = np.append(X, list(poisoning_keys))\n",
    "        y_poisoned = ss.rankdata(X_poisoned)\n",
    "\n",
    "        X_poisoned = X_poisoned.reshape(-1,1)\n",
    "        regressor_poisoned = LinearRegression()\n",
    "        regressor_poisoned.fit(X_poisoned, y_poisoned)  \n",
    "\n",
    "        y_poisoned_pred = regressor_poisoned.predict(X_poisoned)\n",
    "\n",
    "        print('Mean Squared Error:', metrics.mean_squared_error(y_poisoned, y_poisoned_pred))  \n",
    "        mse_poisoned = metrics.mean_squared_error(y_poisoned, y_poisoned_pred)\n",
    "        ratio_loss =  mse_poisoned / mse_legitimate\n",
    "\n",
    "        ratio_losses.append(ratio_loss)\n",
    "\n",
    "    plt.scatter(poisoning_percentages, ratio_losses,  color='black', marker=\"x\")\n",
    "    plt.xlabel('Poisoning Percentage')\n",
    "    plt.ylabel('Ratio Loss')\n",
    "    plt.show()"
   ]
  },
  {
   "cell_type": "code",
   "execution_count": null,
   "id": "5315855a",
   "metadata": {},
   "outputs": [],
   "source": [
    "\n"
   ]
  }
 ],
 "metadata": {
  "kernelspec": {
   "display_name": "Python 3",
   "language": "python",
   "name": "python3"
  },
  "language_info": {
   "codemirror_mode": {
    "name": "ipython",
    "version": 3
   },
   "file_extension": ".py",
   "mimetype": "text/x-python",
   "name": "python",
   "nbconvert_exporter": "python",
   "pygments_lexer": "ipython3",
   "version": "3.9.2"
  }
 },
 "nbformat": 4,
 "nbformat_minor": 5
}
