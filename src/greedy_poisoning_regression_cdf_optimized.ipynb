{
 "cells": [
  {
   "cell_type": "markdown",
   "id": "0b039c51",
   "metadata": {},
   "source": [
    "## Introduction\n",
    "\n",
    "This notebook is an implementation of the greedy poisoning attack on regression models as described in Kornaropoulos et. al - *The Price of Tailoring the Index to Your Data: Poisoning Attacks on Learned Index Structures* (paper available on [Arxiv](https://arxiv.org/abs/2008.00297))"
   ]
  },
  {
   "cell_type": "code",
   "execution_count": 40,
   "id": "777c9564",
   "metadata": {},
   "outputs": [],
   "source": [
    "import csv\n",
    "import numpy as np\n",
    "import pandas as pd\n",
    "import operator\n",
    "\n",
    "from sklearn.linear_model import LinearRegression\n",
    "from sklearn import metrics "
   ]
  },
  {
   "cell_type": "code",
   "execution_count": 41,
   "id": "c9b0bb4a",
   "metadata": {},
   "outputs": [],
   "source": [
    "import cProfile"
   ]
  },
  {
   "cell_type": "code",
   "execution_count": 42,
   "id": "704a8b0e",
   "metadata": {},
   "outputs": [],
   "source": [
    "import matplotlib.pyplot as plt  \n",
    "from matplotlib import colors\n",
    "from matplotlib.ticker import PercentFormatter\n",
    "\n",
    "def plot_distribution_of_poisoning_keys(poisoning_keys, x):\n",
    "    # we observe that poisoning keys are densly populated together\n",
    "    # get range for x-axis by looking at first and last element\n",
    "    plt.hist(poisoning_keys, bins = 100, range=[x[0][0], x[len(x)-1][0]])\n",
    "    plt.show()"
   ]
  },
  {
   "cell_type": "code",
   "execution_count": 120,
   "id": "3dc526e5",
   "metadata": {},
   "outputs": [],
   "source": [
    "def plot_poisoned_and_non_poisoned_regression_line(x, y, x_poisoned, y_poisoned):\n",
    "    regressor = LinearRegression()\n",
    "    regressor.fit(x, y) \n",
    "    y_pred = regressor.predict(x)\n",
    "    \n",
    "    regressor_poisoned = LinearRegression()\n",
    "    regressor_poisoned.fit(x_poisoned, y_poisoned) \n",
    "    \n",
    "    #y_pred_poisoned = regressor_poisoned.predict(x_poisoned)\n",
    "    #plt.scatter(x, y,  color='black')\n",
    "    plt.scatter(x_poisoned, y_poisoned,  color='black')\n",
    "    \n",
    "    abline(regressor_poisoned.coef_, regressor_poisoned.intercept_, color=\"red\", label=\"Poisoned regression line\")\n",
    "    abline(regressor.coef_, regressor.intercept_, color=\"blue\", label=\"Non-poisoned regression line\")\n",
    "    label= \"Poisoned vs. non-poisoned regression line for n=\"+ str(x.shape[0]) + \" keys\"\n",
    "    plt.title(label=label)\n",
    "    plt.show()"
   ]
  },
  {
   "cell_type": "code",
   "execution_count": 43,
   "id": "656a88d0",
   "metadata": {},
   "outputs": [],
   "source": [
    "def abline(slope, intercept, color, label):\n",
    "    \"\"\"Plot a line from slope and intercept\"\"\"\n",
    "    axes = plt.gca()\n",
    "    x_vals = np.array(axes.get_xlim())\n",
    "    y_vals = intercept + slope * x_vals\n",
    "    plt.plot(x_vals, y_vals, '--', color=color, label = label)\n",
    "    plt.legend()\n",
    "    plt.xlabel('Keys')\n",
    "    plt.ylabel('Rank')"
   ]
  },
  {
   "cell_type": "code",
   "execution_count": 44,
   "id": "92aff10e",
   "metadata": {},
   "outputs": [],
   "source": [
    "def calculate_mean_squared_error(x, y):\n",
    "    regressor = LinearRegression()\n",
    "    regressor.fit(x, y) \n",
    "    y_pred = regressor.predict(x)\n",
    "    print('Mean Squared Error:', metrics.mean_squared_error(y, y_pred))  \n",
    "    # Plot outputs\n",
    "    plt.scatter(x, y,  color='black')\n",
    "    abline(regressor.coef_, regressor.intercept_, color=\"blue\", label=\"Regression line\")\n",
    "    plt.show()"
   ]
  },
  {
   "cell_type": "markdown",
   "id": "1b7b8451",
   "metadata": {},
   "source": [
    "## Algorithm 1 - Greedy Poisoning Regression CDF\n",
    "\n",
    "The following code implements **Algorithm 1 (Greedy Poisoning Regression CDF)** as described in the paper \"*The Price of Tailoring the Index to Your Data: Poisoning Attacks on Learned Index Structures*\"."
   ]
  },
  {
   "cell_type": "code",
   "execution_count": 45,
   "id": "5f6e8d75",
   "metadata": {},
   "outputs": [],
   "source": [
    "\"\"\"\n",
    "Source: Scipy - https://github.com/scipy/scipy/blob/v1.7.0/scipy/stats/stats.py#L8631-L8737\n",
    "\"\"\"\n",
    "def rankdata(array):\n",
    "    #arr = np.ravel(np.asarray(array))\n",
    "    algo = 'mergesort'\n",
    "    sorter = np.argsort(array, kind=algo)\n",
    "\n",
    "    inv = np.empty(sorter.size, dtype=np.intp)\n",
    "    inv[sorter] = np.arange(sorter.size, dtype=np.intp)\n",
    "    return inv + 1"
   ]
  },
  {
   "cell_type": "code",
   "execution_count": 159,
   "id": "d090b8cd",
   "metadata": {},
   "outputs": [],
   "source": [
    "# Extracts non-occupied keys for a given sequence\n",
    "def partition_non_occupied_keys_all_in_one(K, P):\n",
    "    keyset = np.append(K, list(P))\n",
    "    keyset = np.sort(keyset)\n",
    "    \n",
    "    n = keyset.shape[0]\n",
    "    \n",
    "    lower_bound = int(keyset[0]-1)\n",
    "    upper_bound = int(keyset[n-1]+1)\n",
    "    \n",
    "    # convert to set to speed up lookup\n",
    "    keyset = set(keyset)\n",
    "    \n",
    "    endpoints = []\n",
    "    is_in_sequence = False\n",
    "    for i in range(lower_bound, upper_bound + 1):\n",
    "        # TODO: We limit the number of endpoints to improve performance\n",
    "        if len(endpoints) > 50000:\n",
    "            return  np.array(endpoints)\n",
    "        elif (i not in keyset and is_in_sequence is False): # if key i is at start of sequence\n",
    "            #print(\"Adding \" + str(i) + \" to non_occupied_keys\")\n",
    "            is_in_sequence = True\n",
    "            endpoints.append(i)\n",
    "        elif i not in keyset and is_in_sequence is True and (i+1) in keyset: # if key i is at end of sequence\n",
    "            #print(\"Adding \" + str(i) + \" to non_occupied_keys because \" + str(i+1) + \" is not in keyset\")\n",
    "            endpoints.append(i)\n",
    "        else: \n",
    "            is_in_sequence = False\n",
    "        \n",
    "    return np.array(endpoints)"
   ]
  },
  {
   "cell_type": "code",
   "execution_count": 109,
   "id": "57577dc4",
   "metadata": {},
   "outputs": [],
   "source": [
    "# Compute the rank that key S(i) would have if it was inserted in K ∪ P and assign this rank as the i-th element of the new sequence\n",
    "def compute_rank_for_endpoints(endpoints, keyset):\n",
    "    computed_rank_for_endpoint = []\n",
    "    \n",
    "    for endpoint in endpoints:\n",
    "        keyset_extended = np.append(keyset, endpoint)\n",
    "        \n",
    "        rank = rankdata(keyset_extended)\n",
    "        \n",
    "        # extract rank for the last element in the list (the endpoint)\n",
    "        rank_of_endpoint = rank[len(rank) - 1]\n",
    "        computed_rank_for_endpoint.append(int(rank_of_endpoint))\n",
    "    \n",
    "    return computed_rank_for_endpoint"
   ]
  },
  {
   "cell_type": "code",
   "execution_count": 147,
   "id": "178faf76",
   "metadata": {},
   "outputs": [],
   "source": [
    "def obtain_poisoning_keys(p, keyset, rankset):\n",
    "    # Total number of elements\n",
    "    n = keyset.shape[0]\n",
    "\n",
    "    # Number of posoning keys P\n",
    "    P = int(p * n)\n",
    "    poisoning_keys = set()\n",
    "    \n",
    "\n",
    "    for j in range(P):\n",
    "        # Partition the non-occupied keys into subsequences such that each subsequence consists of consecutive non-occupied keys;\n",
    "        # Extract the endpoints of each subsequence and sort them to construct the new sequence of endpoints S(i), where i <= 2(n + j);\n",
    "        \n",
    "        # S: endpoints\n",
    "        S = partition_non_occupied_keys_all_in_one(keyset, poisoning_keys)\n",
    "        #print(\"Length of endpoints: \", len(S))\n",
    "        \n",
    "        # TODO: Investigate impact - we downsample the list of endpoints to max n = 1000\n",
    "        # Limit number of endpoints to n = 1000\n",
    "        S = np.random.choice(S, size = 50)\n",
    "\n",
    "        # Compute the rank that key S(i) would have if it was inserted in K ∪ P and assign this rank as the i-th element of the new sequence T (i), where i <= 2(n + j) ;\n",
    "        # T: list_rank\n",
    "        T = compute_rank_for_endpoints(S, keyset)\n",
    "\n",
    "        # Compute the effect of choosing S(1) as a poisoning key and inserting it to K ∪ P with the appropriate rank adjustments. \n",
    "        # Specifically, evaluate the sequences each of which is the mean M for a different variable, e.g., K, R, KR. Compute MK (1), MK2 (1), MKR(1), and L(1) ;\n",
    "\n",
    "        \n",
    "        delta_S = {}\n",
    "        M_K = {}\n",
    "        M_K_square = {}\n",
    "        M_R = {}\n",
    "        M_R_square = {}\n",
    "        M_KR = {}\n",
    "        L = {}\n",
    "        \n",
    "        # Calculate M_K(1), M_R(1) etc.\n",
    "        # insert first potential poisoning key\n",
    "        current_keyset = np.append(keyset, S[0])\n",
    "        M_K[0] = np.mean(current_keyset)\n",
    "\n",
    "        current_rankset = np.append(rankset, T[0])\n",
    "        M_R[0] = np.mean(current_rankset)\n",
    "\n",
    "        M_K_square[0] = np.mean(current_keyset**2)\n",
    "\n",
    "        M_R_square[0] = np.mean(current_rankset**2)\n",
    "\n",
    "        M_KR[0] = np.mean(current_keyset*current_rankset)\n",
    "\n",
    "        nominator = (M_KR[0] - (M_K[0] * M_R[0]))**2\n",
    "        denominator = M_K_square[0] - (M_K[0])**2\n",
    "        L[0] = - (nominator / denominator) + M_R_square[0] - (M_R[0])**2\n",
    "\n",
    "        for i in range(1, len(S)-1):\n",
    "            # Calculate M_K(i), M_R(i) etc.\n",
    "            delta_S[i] = S[i+1] - S[i] \n",
    "\n",
    "            M_K[i] = M_K[i-1] + delta_S[i] / (n) \n",
    "            M_K_square[i] = M_K_square[i-1] + (( 2 * S[i] + delta_S[i]) * delta_S[i]) / (n + 1) \n",
    "\n",
    "            M_R[i] = (n + 2) / 2\n",
    "            M_R_square[i] = ((n+2)*(2*n+3)) / 6\n",
    "            M_KR[i] = M_KR[i-1] + ( T[i-1] * delta_S[i]) / (n + 1)\n",
    "\n",
    "            nominator = (M_KR[i] - M_K[i]*M_R[i])**2\n",
    "            denominator = M_K_square[i] - (M_K[i])**2\n",
    "            L[i] = - (nominator / denominator) + M_R_square[i] - (M_R[i])**2\n",
    "\n",
    "        # get argmax of items in L\n",
    "        optimal_key_index = max(L.items(), key=operator.itemgetter(1))[0]\n",
    "        \n",
    "        poisoning_keys.add(S[optimal_key_index])\n",
    "    \n",
    "    return poisoning_keys"
   ]
  },
  {
   "cell_type": "markdown",
   "id": "3dd91094",
   "metadata": {},
   "source": [
    "## Linear regression with non-poisoned keys"
   ]
  },
  {
   "cell_type": "code",
   "execution_count": 148,
   "id": "afd02089",
   "metadata": {},
   "outputs": [],
   "source": [
    "df = pd.read_csv('../data/random_5000.csv', sep=',',header=None)\n",
    "\n",
    "x = np.array(df[0]).reshape(-1, 1)\n",
    "y = np.array(df[1])"
   ]
  },
  {
   "cell_type": "code",
   "execution_count": 149,
   "id": "edb08cec",
   "metadata": {},
   "outputs": [
    {
     "name": "stdout",
     "output_type": "stream",
     "text": [
      "Mean Squared Error: 116.1583574718299\n"
     ]
    },
    {
     "data": {
      "image/png": "[encoded data removed]",
      "text/plain": [
       "<Figure size 432x288 with 1 Axes>"
      ]
     },
     "metadata": {
      "needs_background": "light"
     },
     "output_type": "display_data"
    }
   ],
   "source": [
    "calculate_mean_squared_error(x, y)"
   ]
  },
  {
   "cell_type": "markdown",
   "id": "ceb41315",
   "metadata": {},
   "source": [
    "## Linear regression with poisoned keys"
   ]
  },
  {
   "cell_type": "code",
   "execution_count": 150,
   "id": "485596be",
   "metadata": {},
   "outputs": [
    {
     "name": "stderr",
     "output_type": "stream",
     "text": [
      "<ipython-input-147-c8bd9ee43004>:61: RuntimeWarning: overflow encountered in ulong_scalars\n",
      "  delta_S[i] = S[i+1] - S[i]\n"
     ]
    }
   ],
   "source": [
    "poisoning_keys = obtain_poisoning_keys(p = 0.2, keyset=x, rankset=y)"
   ]
  },
  {
   "cell_type": "code",
   "execution_count": 102,
   "id": "4d9d6e19",
   "metadata": {},
   "outputs": [
    {
     "name": "stdout",
     "output_type": "stream",
     "text": [
      "         1263929 function calls (1255873 primitive calls) in 0.545 seconds\n",
      "\n",
      "   Ordered by: internal time\n",
      "\n",
      "   ncalls  tottime  percall  cumtime  percall filename:lineno(function)\n",
      "       76    0.255    0.003    0.378    0.005 <ipython-input-100-358a633792ea>:2(partition_non_occupied_keys_all_in_one)\n",
      "   761945    0.061    0.000    0.061    0.000 {built-in method builtins.len}\n",
      "     8588    0.032    0.000    0.032    0.000 {built-in method numpy.array}\n",
      "   383876    0.031    0.000    0.031    0.000 {method 'append' of 'list' objects}\n",
      "16492/8436    0.023    0.000    0.096    0.000 {built-in method numpy.core._multiarray_umath.implement_array_function}\n",
      "     3800    0.023    0.000    0.069    0.000 <ipython-input-45-3d51dcaacfe3>:4(rankdata)\n",
      "        1    0.022    0.022    0.545    0.545 <ipython-input-101-c8bd9ee43004>:4(obtain_poisoning_keys)\n",
      "     3800    0.021    0.000    0.021    0.000 {method 'argsort' of 'numpy.ndarray' objects}\n",
      "       76    0.009    0.000    0.130    0.002 <ipython-input-67-2e95c7474c39>:2(compute_rank_for_endpoints)\n",
      "     4028    0.007    0.000    0.047    0.000 function_base.py:4690(append)\n",
      "     3800    0.007    0.000    0.007    0.000 {built-in method numpy.arange}\n",
      "     3800    0.005    0.000    0.005    0.000 {built-in method numpy.empty}\n",
      "       76    0.005    0.000    0.005    0.000 {method 'sort' of 'numpy.ndarray' objects}\n",
      "     4028    0.004    0.000    0.012    0.000 fromnumeric.py:1716(ravel)\n",
      "     7980    0.003    0.000    0.003    0.000 {method 'ravel' of 'numpy.ndarray' objects}\n",
      "      532    0.003    0.000    0.003    0.000 {method 'reduce' of 'numpy.ufunc' objects}\n",
      "     4028    0.003    0.000    0.016    0.000 <__array_function__ internals>:2(concatenate)\n",
      "     3800    0.003    0.000    0.033    0.000 <__array_function__ internals>:2(argsort)\n",
      "     3800    0.003    0.000    0.027    0.000 fromnumeric.py:1004(argsort)\n",
      "     8512    0.003    0.000    0.009    0.000 _asarray.py:110(asanyarray)\n",
      "     3800    0.003    0.000    0.025    0.000 fromnumeric.py:52(_wrapfunc)\n",
      "     4028    0.003    0.000    0.055    0.000 <__array_function__ internals>:2(append)\n",
      "       76    0.003    0.000    0.006    0.000 {method 'choice' of 'numpy.random.mtrand.RandomState' objects}\n",
      "     4028    0.002    0.000    0.019    0.000 <__array_function__ internals>:2(ravel)\n",
      "      380    0.002    0.000    0.006    0.000 _methods.py:161(_mean)\n",
      "      380    0.001    0.000    0.001    0.000 _methods.py:65(_count_reduce_items)\n",
      "     3952    0.001    0.000    0.001    0.000 {built-in method builtins.getattr}\n",
      "     4408    0.001    0.000    0.001    0.000 {built-in method builtins.isinstance}\n",
      "     4028    0.001    0.000    0.001    0.000 function_base.py:4686(_append_dispatcher)\n",
      "      152    0.001    0.000    0.002    0.000 fromnumeric.py:70(_wrapreduction)\n",
      "     4028    0.001    0.000    0.001    0.000 multiarray.py:143(concatenate)\n",
      "     4028    0.001    0.000    0.001    0.000 fromnumeric.py:1712(_ravel_dispatcher)\n",
      "      380    0.001    0.000    0.006    0.000 fromnumeric.py:3301(mean)\n",
      "     3800    0.001    0.000    0.001    0.000 fromnumeric.py:1000(_argsort_dispatcher)\n",
      "       76    0.000    0.000    0.000    0.000 {built-in method builtins.max}\n",
      "      380    0.000    0.000    0.007    0.000 <__array_function__ internals>:2(mean)\n",
      "      152    0.000    0.000    0.003    0.000 fromnumeric.py:2912(prod)\n",
      "      152    0.000    0.000    0.003    0.000 <__array_function__ internals>:2(prod)\n",
      "       76    0.000    0.000    0.005    0.000 fromnumeric.py:844(sort)\n",
      "       76    0.000    0.000    0.000    0.000 {method 'copy' of 'numpy.ndarray' objects}\n",
      "      380    0.000    0.000    0.000    0.000 {built-in method numpy.core._multiarray_umath.normalize_axis_index}\n",
      "      152    0.000    0.000    0.000    0.000 fromnumeric.py:71(<dictcomp>)\n",
      "      380    0.000    0.000    0.000    0.000 {built-in method builtins.hasattr}\n",
      "      608    0.000    0.000    0.000    0.000 {built-in method builtins.issubclass}\n",
      "       76    0.000    0.000    0.005    0.000 <__array_function__ internals>:2(sort)\n",
      "      380    0.000    0.000    0.000    0.000 fromnumeric.py:3296(_mean_dispatcher)\n",
      "        1    0.000    0.000    0.545    0.545 {built-in method builtins.exec}\n",
      "      228    0.000    0.000    0.000    0.000 {method 'items' of 'dict' objects}\n",
      "      152    0.000    0.000    0.000    0.000 fromnumeric.py:2907(_prod_dispatcher)\n",
      "       76    0.000    0.000    0.000    0.000 {method 'add' of 'set' objects}\n",
      "       76    0.000    0.000    0.000    0.000 fromnumeric.py:840(_sort_dispatcher)\n",
      "        1    0.000    0.000    0.545    0.545 <string>:1(<module>)\n",
      "        1    0.000    0.000    0.000    0.000 {method 'disable' of '_lsprof.Profiler' objects}\n",
      "\n",
      "\n"
     ]
    }
   ],
   "source": [
    "cProfile.run('obtain_poisoning_keys(p = 0.05, keyset=x, rankset=y)', sort = \"time\")"
   ]
  },
  {
   "cell_type": "code",
   "execution_count": 151,
   "id": "0671b65a",
   "metadata": {},
   "outputs": [
    {
     "data": {
      "image/png": "[encoded data removed]",
      "text/plain": [
       "<Figure size 432x288 with 1 Axes>"
      ]
     },
     "metadata": {
      "needs_background": "light"
     },
     "output_type": "display_data"
    }
   ],
   "source": [
    "plot_distribution_of_poisoning_keys(poisoning_keys, x)"
   ]
  },
  {
   "cell_type": "code",
   "execution_count": 152,
   "id": "66ea4f0c",
   "metadata": {},
   "outputs": [],
   "source": [
    "x_poisoned = np.append(x, list(poisoning_keys))\n",
    "y_poisoned = rankdata(x_poisoned)\n",
    "x_poisoned = x_poisoned.reshape(-1,1)"
   ]
  },
  {
   "cell_type": "code",
   "execution_count": 153,
   "id": "36e397dc",
   "metadata": {},
   "outputs": [
    {
     "name": "stdout",
     "output_type": "stream",
     "text": [
      "Mean Squared Error: 4239.088902108528\n"
     ]
    },
    {
     "data": {
      "image/png": "[encoded data removed]",
      "text/plain": [
       "<Figure size 432x288 with 1 Axes>"
      ]
     },
     "metadata": {
      "needs_background": "light"
     },
     "output_type": "display_data"
    }
   ],
   "source": [
    "calculate_mean_squared_error(x_poisoned, y_poisoned)"
   ]
  },
  {
   "cell_type": "code",
   "execution_count": 18,
   "id": "8950c70d",
   "metadata": {},
   "outputs": [],
   "source": [
    "#ratio_loss =  mse_poisoned / mse_legitimates"
   ]
  },
  {
   "cell_type": "markdown",
   "id": "a6452071",
   "metadata": {},
   "source": [
    "### Visualization"
   ]
  },
  {
   "cell_type": "code",
   "execution_count": 154,
   "id": "47a1dde0",
   "metadata": {},
   "outputs": [
    {
     "data": {
      "image/png": "[encoded data removed]",
      "text/plain": [
       "<Figure size 432x288 with 1 Axes>"
      ]
     },
     "metadata": {
      "needs_background": "light"
     },
     "output_type": "display_data"
    }
   ],
   "source": [
    "# Plot outputs\n",
    "plot_poisoned_and_non_poisoned_regression_line(x, y, x_poisoned, y_poisoned)"
   ]
  },
  {
   "cell_type": "markdown",
   "id": "aa6a70ed",
   "metadata": {},
   "source": [
    "### Write poisoned keyset to file"
   ]
  },
  {
   "cell_type": "code",
   "execution_count": 94,
   "id": "53e060c9",
   "metadata": {},
   "outputs": [],
   "source": [
    "poisoned_keyset = pd.DataFrame(data=list(X_poisoned))\n",
    "poisoned_keyset.to_csv(\"../data/poisoned_keyset_5000.csv\", sep=',',index=False)"
   ]
  },
  {
   "cell_type": "markdown",
   "id": "475d881c",
   "metadata": {},
   "source": [
    "## Perform poisoning of SOSD benchmark files"
   ]
  },
  {
   "cell_type": "code",
   "execution_count": 171,
   "id": "213820b8",
   "metadata": {},
   "outputs": [],
   "source": [
    "def read_dataset(dataset_filename : str):\n",
    "    keyset = np.fromfile(\"../data/\" + dataset_filename, dtype=np.uint64)[1:]\n",
    "    print(\"Length of keyset: \", len(keyset))\n",
    "    rankset = rankdata(keyset)\n",
    "    keyset = keyset.reshape(-1, 1)\n",
    "    return (keyset, rankset)"
   ]
  },
  {
   "cell_type": "code",
   "execution_count": 172,
   "id": "d0f22ae1",
   "metadata": {},
   "outputs": [
    {
     "name": "stdout",
     "output_type": "stream",
     "text": [
      "Length of keyset:  1526\n"
     ]
    }
   ],
   "source": [
    "x, y = read_dataset(\"wiki_ts_1M_uint64\")"
   ]
  },
  {
   "cell_type": "code",
   "execution_count": 173,
   "id": "1c5d58b2",
   "metadata": {},
   "outputs": [
    {
     "name": "stdout",
     "output_type": "stream",
     "text": [
      "Mean Squared Error: 19376.28075528213\n"
     ]
    },
    {
     "data": {
      "image/png": "[encoded data removed]",
      "text/plain": [
       "<Figure size 432x288 with 1 Axes>"
      ]
     },
     "metadata": {
      "needs_background": "light"
     },
     "output_type": "display_data"
    }
   ],
   "source": [
    "calculate_mean_squared_error(x, y)"
   ]
  },
  {
   "cell_type": "code",
   "execution_count": 174,
   "id": "cf65c3fe",
   "metadata": {},
   "outputs": [
    {
     "data": {
      "text/plain": [
       "array([[ 979672113],\n",
       "       [1014648675],\n",
       "       [1027557926],\n",
       "       ...,\n",
       "       [1216077107],\n",
       "       [1216140173],\n",
       "       [1216200177]], dtype=uint64)"
      ]
     },
     "execution_count": 174,
     "metadata": {},
     "output_type": "execute_result"
    }
   ],
   "source": [
    "x"
   ]
  },
  {
   "cell_type": "code",
   "execution_count": 175,
   "id": "dd77f317",
   "metadata": {},
   "outputs": [
    {
     "data": {
      "text/plain": [
       "array([   1,    2,    3, ..., 1524, 1525, 1526])"
      ]
     },
     "execution_count": 175,
     "metadata": {},
     "output_type": "execute_result"
    }
   ],
   "source": [
    "y"
   ]
  },
  {
   "cell_type": "code",
   "execution_count": 165,
   "id": "5195f245",
   "metadata": {},
   "outputs": [],
   "source": [
    "poisoning_keys = obtain_poisoning_keys(p = 0.20, keyset=x, rankset=y)"
   ]
  },
  {
   "cell_type": "code",
   "execution_count": 176,
   "id": "6ba435d8",
   "metadata": {},
   "outputs": [
    {
     "name": "stdout",
     "output_type": "stream",
     "text": [
      "         46224723 function calls (46192393 primitive calls) in 15.782 seconds\n",
      "\n",
      "   Ordered by: internal time\n",
      "\n",
      "   ncalls  tottime  percall  cumtime  percall filename:lineno(function)\n",
      "      305   10.191    0.033   14.883    0.049 <ipython-input-159-8a9a01165842>:2(partition_non_occupied_keys_all_in_one)\n",
      " 30485194    2.460    0.000    2.460    0.000 {built-in method builtins.len}\n",
      " 15265555    1.154    0.000    1.154    0.000 {method 'append' of 'list' objects}\n",
      "    34465    1.094    0.000    1.094    0.000 {built-in method numpy.array}\n",
      "        1    0.217    0.217   15.782   15.782 <ipython-input-147-c8bd9ee43004>:4(obtain_poisoning_keys)\n",
      "    15250    0.105    0.000    0.330    0.000 <ipython-input-45-3d51dcaacfe3>:4(rankdata)\n",
      "66185/33855    0.102    0.000    0.422    0.000 {built-in method numpy.core._multiarray_umath.implement_array_function}\n",
      "    15250    0.092    0.000    0.092    0.000 {method 'argsort' of 'numpy.ndarray' objects}\n",
      "    15250    0.057    0.000    0.057    0.000 {built-in method numpy.arange}\n",
      "      305    0.040    0.000    0.604    0.002 <ipython-input-109-2e95c7474c39>:2(compute_rank_for_endpoints)\n",
      "    16165    0.032    0.000    0.209    0.000 function_base.py:4690(append)\n",
      "    15250    0.024    0.000    0.024    0.000 {built-in method numpy.empty}\n",
      "     2135    0.018    0.000    0.018    0.000 {method 'reduce' of 'numpy.ufunc' objects}\n",
      "    32025    0.016    0.000    0.016    0.000 {method 'ravel' of 'numpy.ndarray' objects}\n",
      "    16165    0.015    0.000    0.061    0.000 fromnumeric.py:1716(ravel)\n",
      "    16165    0.014    0.000    0.068    0.000 <__array_function__ internals>:2(concatenate)\n",
      "    15250    0.013    0.000    0.144    0.000 <__array_function__ internals>:2(argsort)\n",
      "    16165    0.013    0.000    0.249    0.000 <__array_function__ internals>:2(append)\n",
      "    34160    0.013    0.000    0.046    0.000 _asarray.py:110(asanyarray)\n",
      "    15250    0.013    0.000    0.108    0.000 fromnumeric.py:52(_wrapfunc)\n",
      "      305    0.013    0.000    0.032    0.000 {method 'choice' of 'numpy.random.mtrand.RandomState' objects}\n",
      "    15250    0.011    0.000    0.120    0.000 fromnumeric.py:1004(argsort)\n",
      "      305    0.011    0.000    0.011    0.000 {method 'sort' of 'numpy.ndarray' objects}\n",
      "    16165    0.010    0.000    0.090    0.000 <__array_function__ internals>:2(ravel)\n",
      "     1525    0.008    0.000    0.027    0.000 _methods.py:161(_mean)\n",
      "     1525    0.006    0.000    0.007    0.000 _methods.py:65(_count_reduce_items)\n",
      "    17690    0.005    0.000    0.005    0.000 {built-in method builtins.isinstance}\n",
      "    15860    0.005    0.000    0.005    0.000 {built-in method builtins.getattr}\n",
      "      610    0.004    0.000    0.014    0.000 fromnumeric.py:70(_wrapreduction)\n",
      "     1525    0.003    0.000    0.030    0.000 fromnumeric.py:3301(mean)\n",
      "    16165    0.003    0.000    0.003    0.000 function_base.py:4686(_append_dispatcher)\n",
      "    16165    0.003    0.000    0.003    0.000 multiarray.py:143(concatenate)\n",
      "    16165    0.003    0.000    0.003    0.000 fromnumeric.py:1712(_ravel_dispatcher)\n",
      "    15250    0.002    0.000    0.002    0.000 fromnumeric.py:1000(_argsort_dispatcher)\n",
      "      610    0.002    0.000    0.016    0.000 fromnumeric.py:2912(prod)\n",
      "      610    0.002    0.000    0.019    0.000 <__array_function__ internals>:2(prod)\n",
      "      305    0.002    0.000    0.002    0.000 {built-in method builtins.max}\n",
      "     1525    0.002    0.000    0.033    0.000 <__array_function__ internals>:2(mean)\n",
      "      305    0.001    0.000    0.013    0.000 fromnumeric.py:844(sort)\n",
      "      305    0.001    0.000    0.001    0.000 {method 'copy' of 'numpy.ndarray' objects}\n",
      "      610    0.001    0.000    0.001    0.000 fromnumeric.py:71(<dictcomp>)\n",
      "     1525    0.001    0.000    0.001    0.000 {built-in method numpy.core._multiarray_umath.normalize_axis_index}\n",
      "     1525    0.001    0.000    0.001    0.000 {built-in method builtins.hasattr}\n",
      "     2440    0.001    0.000    0.001    0.000 {built-in method builtins.issubclass}\n",
      "      305    0.000    0.000    0.013    0.000 <__array_function__ internals>:2(sort)\n",
      "      915    0.000    0.000    0.000    0.000 {method 'items' of 'dict' objects}\n",
      "     1525    0.000    0.000    0.000    0.000 fromnumeric.py:3296(_mean_dispatcher)\n",
      "      305    0.000    0.000    0.000    0.000 {method 'add' of 'set' objects}\n",
      "      610    0.000    0.000    0.000    0.000 fromnumeric.py:2907(_prod_dispatcher)\n",
      "        1    0.000    0.000   15.782   15.782 {built-in method builtins.exec}\n",
      "      305    0.000    0.000    0.000    0.000 fromnumeric.py:840(_sort_dispatcher)\n",
      "        1    0.000    0.000   15.782   15.782 <string>:1(<module>)\n",
      "        1    0.000    0.000    0.000    0.000 {method 'disable' of '_lsprof.Profiler' objects}\n",
      "\n",
      "\n"
     ]
    }
   ],
   "source": [
    "cProfile.run('obtain_poisoning_keys(p = 0.20, keyset=x, rankset=y)', sort = \"time\")"
   ]
  },
  {
   "cell_type": "code",
   "execution_count": 166,
   "id": "77fa4d0c",
   "metadata": {},
   "outputs": [
    {
     "data": {
      "text/plain": [
       "{979673924,\n",
       " 979674076,\n",
       " 979674086,\n",
       " 979674383,\n",
       " 979674839,\n",
       " 979675216,\n",
       " 979676095,\n",
       " 979676158,\n",
       " 979677805,\n",
       " 979678970,\n",
       " 979679128,\n",
       " 979679461,\n",
       " 979681035,\n",
       " 979681349,\n",
       " 979681423,\n",
       " 979681450,\n",
       " 979682325,\n",
       " 979682342,\n",
       " 979682819,\n",
       " 979683124,\n",
       " 979683559,\n",
       " 979685341,\n",
       " 979685463,\n",
       " 979686224,\n",
       " 979686325,\n",
       " 979687476,\n",
       " 979687826,\n",
       " 979687843,\n",
       " 979688229,\n",
       " 979688251,\n",
       " 979688260,\n",
       " 979688657,\n",
       " 979689032,\n",
       " 979689527,\n",
       " 979689640,\n",
       " 979690522,\n",
       " 979690549,\n",
       " 979690572,\n",
       " 979690757,\n",
       " 979690974,\n",
       " 979691207,\n",
       " 979691214,\n",
       " 979691550,\n",
       " 979691708,\n",
       " 979691958,\n",
       " 979692299,\n",
       " 979692761,\n",
       " 979693172,\n",
       " 979693508,\n",
       " 979693619,\n",
       " 979694129,\n",
       " 979694136,\n",
       " 979694307,\n",
       " 979694493,\n",
       " 979695394,\n",
       " 979695793,\n",
       " 979695880,\n",
       " 979696215,\n",
       " 979696266,\n",
       " 979696357,\n",
       " 979696654,\n",
       " 979696786,\n",
       " 979696833,\n",
       " 979696837,\n",
       " 979696847,\n",
       " 979696948,\n",
       " 979697287,\n",
       " 979697525,\n",
       " 979698160,\n",
       " 979698730,\n",
       " 979698936,\n",
       " 979700115,\n",
       " 979700744,\n",
       " 979700906,\n",
       " 979701579,\n",
       " 979702144,\n",
       " 979702207,\n",
       " 979702301,\n",
       " 979702445,\n",
       " 979702710,\n",
       " 979703141,\n",
       " 979703398,\n",
       " 979703599,\n",
       " 979704892,\n",
       " 979705031,\n",
       " 979705036,\n",
       " 979705165,\n",
       " 979705784,\n",
       " 979705878,\n",
       " 979705997,\n",
       " 979706081,\n",
       " 979706124,\n",
       " 979706857,\n",
       " 979707025,\n",
       " 979707110,\n",
       " 979707303,\n",
       " 979707462,\n",
       " 979708421,\n",
       " 979708475,\n",
       " 979709016,\n",
       " 979709124,\n",
       " 979709320,\n",
       " 979709361,\n",
       " 979709584,\n",
       " 979710160,\n",
       " 979710391,\n",
       " 979710632,\n",
       " 979711332,\n",
       " 979711463,\n",
       " 979712027,\n",
       " 979712282,\n",
       " 979712331,\n",
       " 979712434,\n",
       " 979712773,\n",
       " 979714362,\n",
       " 979714366,\n",
       " 979714547,\n",
       " 979714732,\n",
       " 979715115,\n",
       " 979715266,\n",
       " 979715941,\n",
       " 979716396,\n",
       " 979716462,\n",
       " 979716826,\n",
       " 979717037,\n",
       " 979717068,\n",
       " 979718059,\n",
       " 979718083,\n",
       " 979718094,\n",
       " 979718413,\n",
       " 979718415,\n",
       " 979718460,\n",
       " 979718665,\n",
       " 979719458,\n",
       " 979719472,\n",
       " 979719483,\n",
       " 979719656,\n",
       " 979719715,\n",
       " 979719974,\n",
       " 979720717,\n",
       " 979720793,\n",
       " 979720819,\n",
       " 979721278,\n",
       " 979721488,\n",
       " 979722005,\n",
       " 979722677,\n",
       " 979722790,\n",
       " 979723104,\n",
       " 979723149,\n",
       " 979723257,\n",
       " 979723412,\n",
       " 979723521,\n",
       " 979723851,\n",
       " 979723864,\n",
       " 979723871,\n",
       " 979724035,\n",
       " 979724322,\n",
       " 979724595,\n",
       " 979725197,\n",
       " 979725394,\n",
       " 979725431,\n",
       " 979725930,\n",
       " 979725959,\n",
       " 979726480,\n",
       " 979726585,\n",
       " 979726786,\n",
       " 979727025,\n",
       " 979727432,\n",
       " 979727749,\n",
       " 979728414,\n",
       " 979728663,\n",
       " 979728913,\n",
       " 979729719,\n",
       " 979729822,\n",
       " 979730153,\n",
       " 979730570,\n",
       " 979730746,\n",
       " 979730967,\n",
       " 979730993,\n",
       " 979731190,\n",
       " 979731603,\n",
       " 979731719,\n",
       " 979732013,\n",
       " 979732055,\n",
       " 979732392,\n",
       " 979732983,\n",
       " 979733826,\n",
       " 979734166,\n",
       " 979734238,\n",
       " 979735274,\n",
       " 979735287,\n",
       " 979735390,\n",
       " 979735602,\n",
       " 979735851,\n",
       " 979736482,\n",
       " 979736659,\n",
       " 979736664,\n",
       " 979736693,\n",
       " 979736957,\n",
       " 979738038,\n",
       " 979738587,\n",
       " 979738644,\n",
       " 979738927,\n",
       " 979739418,\n",
       " 979739733,\n",
       " 979739779,\n",
       " 979739877,\n",
       " 979739911,\n",
       " 979739978,\n",
       " 979740263,\n",
       " 979740425,\n",
       " 979740803,\n",
       " 979741010,\n",
       " 979741113,\n",
       " 979741549,\n",
       " 979741583,\n",
       " 979742234,\n",
       " 979743157,\n",
       " 979743482,\n",
       " 979744301,\n",
       " 979744972,\n",
       " 979745440,\n",
       " 979745586,\n",
       " 979746657,\n",
       " 979747044,\n",
       " 979747419,\n",
       " 979747714,\n",
       " 979747964,\n",
       " 979748250,\n",
       " 979748303,\n",
       " 979748440,\n",
       " 979748951,\n",
       " 979749286,\n",
       " 979749441,\n",
       " 979749730,\n",
       " 979749792,\n",
       " 979749998,\n",
       " 979750643,\n",
       " 979750684,\n",
       " 979750807,\n",
       " 979751844,\n",
       " 979752162,\n",
       " 979753837,\n",
       " 979753979,\n",
       " 979754441,\n",
       " 979754490,\n",
       " 979754542,\n",
       " 979754755,\n",
       " 979754771,\n",
       " 979755337,\n",
       " 979755352,\n",
       " 979755456,\n",
       " 979755497,\n",
       " 979755665,\n",
       " 979755668,\n",
       " 979755780,\n",
       " 979756844,\n",
       " 979757507,\n",
       " 979757658,\n",
       " 979757795,\n",
       " 979758234,\n",
       " 979758275,\n",
       " 979759116,\n",
       " 979759672,\n",
       " 979759823,\n",
       " 979759852,\n",
       " 979760169,\n",
       " 979760543,\n",
       " 979760554,\n",
       " 979760557,\n",
       " 979761484,\n",
       " 979761742,\n",
       " 979761900,\n",
       " 979761976,\n",
       " 979762065,\n",
       " 979762709,\n",
       " 979762868,\n",
       " 979763189,\n",
       " 979763485,\n",
       " 979763711,\n",
       " 979764630,\n",
       " 979765483,\n",
       " 979765544,\n",
       " 979766240,\n",
       " 979766425,\n",
       " 979766481,\n",
       " 979766934,\n",
       " 979767033,\n",
       " 979767034,\n",
       " 979767039,\n",
       " 979767153,\n",
       " 979767328,\n",
       " 979767459,\n",
       " 979767770,\n",
       " 979768073,\n",
       " 979768373,\n",
       " 979768482,\n",
       " 979768726,\n",
       " 979770535,\n",
       " 979770672,\n",
       " 979771116,\n",
       " 979771166,\n",
       " 979771387,\n",
       " 979771856,\n",
       " 979771912}"
      ]
     },
     "execution_count": 166,
     "metadata": {},
     "output_type": "execute_result"
    }
   ],
   "source": [
    "poisoning_keys"
   ]
  },
  {
   "cell_type": "code",
   "execution_count": 167,
   "id": "cc227b98",
   "metadata": {},
   "outputs": [
    {
     "data": {
      "image/png": "[encoded data removed]",
      "text/plain": [
       "<Figure size 432x288 with 1 Axes>"
      ]
     },
     "metadata": {
      "needs_background": "light"
     },
     "output_type": "display_data"
    }
   ],
   "source": [
    "plot_distribution_of_poisoning_keys(poisoning_keys, x)"
   ]
  },
  {
   "cell_type": "code",
   "execution_count": 168,
   "id": "2a522ad3",
   "metadata": {},
   "outputs": [],
   "source": [
    "x_poisoned = np.append(x, list(poisoning_keys))\n",
    "y_poisoned = rankdata(x_poisoned)\n",
    "x_poisoned = x_poisoned.reshape(-1,1)"
   ]
  },
  {
   "cell_type": "code",
   "execution_count": 169,
   "id": "8d645242",
   "metadata": {},
   "outputs": [
    {
     "name": "stdout",
     "output_type": "stream",
     "text": [
      "Mean Squared Error: 63812.51238979013\n"
     ]
    },
    {
     "data": {
      "image/png": "[encoded data removed]",
      "text/plain": [
       "<Figure size 432x288 with 1 Axes>"
      ]
     },
     "metadata": {
      "needs_background": "light"
     },
     "output_type": "display_data"
    }
   ],
   "source": [
    "calculate_mean_squared_error(x_poisoned, y_poisoned)"
   ]
  },
  {
   "cell_type": "code",
   "execution_count": 170,
   "id": "0e69d38c",
   "metadata": {},
   "outputs": [
    {
     "data": {
      "image/png": "[encoded data removed]",
      "text/plain": [
       "<Figure size 432x288 with 1 Axes>"
      ]
     },
     "metadata": {
      "needs_background": "light"
     },
     "output_type": "display_data"
    }
   ],
   "source": [
    "# Plot outputs\n",
    "plot_poisoned_and_non_poisoned_regression_line(x, y, x_poisoned, y_poisoned)"
   ]
  },
  {
   "cell_type": "code",
   "execution_count": null,
   "id": "24a9e979",
   "metadata": {},
   "outputs": [],
   "source": []
  },
  {
   "cell_type": "code",
   "execution_count": null,
   "id": "25e2bb77",
   "metadata": {},
   "outputs": [],
   "source": []
  },
  {
   "cell_type": "code",
   "execution_count": null,
   "id": "0e72ca3e",
   "metadata": {},
   "outputs": [],
   "source": []
  },
  {
   "cell_type": "code",
   "execution_count": null,
   "id": "a7052b5b",
   "metadata": {},
   "outputs": [],
   "source": []
  },
  {
   "cell_type": "markdown",
   "id": "704d3d8a",
   "metadata": {},
   "source": [
    "## Linear regression experiments with different key sizes / different poisoning percentages"
   ]
  },
  {
   "cell_type": "code",
   "execution_count": 15,
   "id": "14882091",
   "metadata": {},
   "outputs": [],
   "source": [
    "import random\n",
    "\n",
    "def generate_uniform_data(size):\n",
    "    \n",
    "    data = random.sample(range(2, size * 2), size)\n",
    "    data.sort()\n",
    "    return data"
   ]
  },
  {
   "cell_type": "code",
   "execution_count": 16,
   "id": "3768080d",
   "metadata": {},
   "outputs": [
    {
     "name": "stdout",
     "output_type": "stream",
     "text": [
      "-------------------------\n",
      "Dataset size:  500\n",
      "Mean Squared Error: 10.816464904609312\n",
      "Mean Squared Error: 11.11713079239834\n",
      "Mean Squared Error: 12.038229273838143\n",
      "Mean Squared Error: 13.815707106720806\n",
      "Mean Squared Error: 17.88193188797914\n",
      "Mean Squared Error: 24.44914795010329\n",
      "Mean Squared Error: 29.810067013172063\n",
      "Mean Squared Error: 40.357670960423974\n",
      "Mean Squared Error: 53.644429094707164\n",
      "Mean Squared Error: 66.05976278804661\n",
      "Mean Squared Error: 84.0755512105039\n",
      "Mean Squared Error: 105.08008239241076\n",
      "Mean Squared Error: 128.41479806191754\n",
      "Mean Squared Error: 148.75057197227716\n",
      "Mean Squared Error: 169.84725277689816\n"
     ]
    },
    {
     "data": {
      "image/png": "[encoded data removed]",
      "text/plain": [
       "<Figure size 432x288 with 1 Axes>"
      ]
     },
     "metadata": {
      "needs_background": "light"
     },
     "output_type": "display_data"
    },
    {
     "name": "stdout",
     "output_type": "stream",
     "text": [
      "-------------------------\n",
      "Dataset size:  1000\n",
      "Mean Squared Error: 20.773564268523586\n",
      "Mean Squared Error: 25.78819890323834\n",
      "Mean Squared Error: 38.20042041745141\n",
      "Mean Squared Error: 56.34731516231744\n",
      "Mean Squared Error: 76.13307741398904\n",
      "Mean Squared Error: 104.00910688645017\n",
      "Mean Squared Error: 137.53844998726439\n",
      "Mean Squared Error: 188.29765677644156\n",
      "Mean Squared Error: 243.60929879108775\n",
      "Mean Squared Error: 307.26563547759065\n",
      "Mean Squared Error: 379.5819577658792\n",
      "Mean Squared Error: 459.9276318940463\n",
      "Mean Squared Error: 527.3773904911287\n",
      "Mean Squared Error: 609.9754483106909\n",
      "Mean Squared Error: 708.88213444713\n"
     ]
    },
    {
     "data": {
      "image/png": "[encoded data removed]",
      "text/plain": [
       "<Figure size 432x288 with 1 Axes>"
      ]
     },
     "metadata": {
      "needs_background": "light"
     },
     "output_type": "display_data"
    }
   ],
   "source": [
    "dataset_sizes = [500, 1000]\n",
    "\n",
    "for dataset_size in dataset_sizes:\n",
    "    \n",
    "    print(\"-------------------------\")\n",
    "    print(\"Dataset size: \", dataset_size)\n",
    "    X = generate_uniform_data(dataset_size)\n",
    "    X = np.array(X).reshape(-1, 1)\n",
    "    \n",
    "    y = np.linspace(1, dataset_size, num=dataset_size)\n",
    "\n",
    "    poisoning_percentages = np.linspace(0.01, 0.15, num= 15)\n",
    "\n",
    "    ratio_losses = []\n",
    "    \n",
    "    regressor_legitimate = LinearRegression()\n",
    "    regressor_legitimate.fit(X, y) \n",
    "\n",
    "    y_pred = regressor_legitimate.predict(X)\n",
    "    mse_legitimate = metrics.mean_squared_error(y, y_pred)\n",
    "\n",
    "    for percentage in poisoning_percentages:\n",
    "        poisoning_keys = obtain_poisoning_keys(p = percentage, keyset = X, rankset = y)\n",
    "\n",
    "        #plot_poisoning_keys(poisoning_keys)\n",
    "\n",
    "        X_poisoned = np.append(X, list(poisoning_keys))\n",
    "        y_poisoned = rankdata(X_poisoned)\n",
    "\n",
    "        X_poisoned = X_poisoned.reshape(-1,1)\n",
    "        regressor_poisoned = LinearRegression()\n",
    "        regressor_poisoned.fit(X_poisoned, y_poisoned)  \n",
    "\n",
    "        y_poisoned_pred = regressor_poisoned.predict(X_poisoned)\n",
    "\n",
    "        print('Mean Squared Error:', metrics.mean_squared_error(y_poisoned, y_poisoned_pred))  \n",
    "        mse_poisoned = metrics.mean_squared_error(y_poisoned, y_poisoned_pred)\n",
    "        ratio_loss =  mse_poisoned / mse_legitimate\n",
    "\n",
    "        ratio_losses.append(ratio_loss)\n",
    "\n",
    "    plt.scatter(poisoning_percentages, ratio_losses,  color='black', marker=\"x\")\n",
    "    plt.xlabel('Poisoning Percentage')\n",
    "    plt.ylabel('Ratio Loss')\n",
    "    plt.show()"
   ]
  },
  {
   "cell_type": "code",
   "execution_count": null,
   "id": "5315855a",
   "metadata": {},
   "outputs": [],
   "source": [
    "\n"
   ]
  }
 ],
 "metadata": {
  "kernelspec": {
   "display_name": "Python 3",
   "language": "python",
   "name": "python3"
  },
  "language_info": {
   "codemirror_mode": {
    "name": "ipython",
    "version": 3
   },
   "file_extension": ".py",
   "mimetype": "text/x-python",
   "name": "python",
   "nbconvert_exporter": "python",
   "pygments_lexer": "ipython3",
   "version": "3.9.2"
  }
 },
 "nbformat": 4,
 "nbformat_minor": 5
}
