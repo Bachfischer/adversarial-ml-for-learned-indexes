{
 "cells": [
  {
   "cell_type": "markdown",
   "id": "0b039c51",
   "metadata": {},
   "source": [
    "## Introduction\n",
    "\n",
    "This notebook is an implementation of the greedy poisoning attack on regression models as described in Kornaropoulos et. al - *The Price of Tailoring the Index to Your Data: Poisoning Attacks on Learned Index Structures* (paper available on [Arxiv](https://arxiv.org/abs/2008.00297))"
   ]
  },
  {
   "cell_type": "code",
   "execution_count": 1,
   "id": "777c9564",
   "metadata": {},
   "outputs": [],
   "source": [
    "import csv\n",
    "import numpy as np\n",
    "import pandas as pd\n",
    "from itertools import groupby\n",
    "\n",
    "from sklearn.linear_model import LinearRegression\n",
    "from sklearn import metrics \n",
    "\n",
    "#import warnings, datetime\n",
    "#import scipy.stats as ss"
   ]
  },
  {
   "cell_type": "code",
   "execution_count": 2,
   "id": "c9b0bb4a",
   "metadata": {},
   "outputs": [],
   "source": [
    "import cProfile"
   ]
  },
  {
   "cell_type": "code",
   "execution_count": 31,
   "id": "2c0529f9",
   "metadata": {},
   "outputs": [
    {
     "data": {
      "text/plain": [
       "1216200177"
      ]
     },
     "execution_count": 31,
     "metadata": {},
     "output_type": "execute_result"
    }
   ],
   "source": [
    "X[len(X)-1][0]"
   ]
  },
  {
   "cell_type": "code",
   "execution_count": 3,
   "id": "704a8b0e",
   "metadata": {},
   "outputs": [],
   "source": [
    "import matplotlib.pyplot as plt  \n",
    "from matplotlib import colors\n",
    "from matplotlib.ticker import PercentFormatter\n",
    "\n",
    "def plot_distribution_of_poisoning_keys(poisoning_keys, X):\n",
    "    # we observe that poisoning keys are densly populated together\n",
    "    # get range for x-axis by looking at first and last element\n",
    "    plt.hist(poisoning_keys, bins = 100, range=[X[0][0], X[len(X)-1][0]])\n",
    "    plt.show()"
   ]
  },
  {
   "cell_type": "code",
   "execution_count": 4,
   "id": "656a88d0",
   "metadata": {},
   "outputs": [],
   "source": [
    "def abline(slope, intercept, color, label):\n",
    "    \"\"\"Plot a line from slope and intercept\"\"\"\n",
    "    axes = plt.gca()\n",
    "    x_vals = np.array(axes.get_xlim())\n",
    "    y_vals = intercept + slope * x_vals\n",
    "    plt.plot(x_vals, y_vals, '--', color=color, label = label)\n",
    "    plt.legend()\n",
    "    plt.xlabel('Keys')\n",
    "    plt.ylabel('Rank')"
   ]
  },
  {
   "cell_type": "code",
   "execution_count": 5,
   "id": "92aff10e",
   "metadata": {},
   "outputs": [],
   "source": [
    "def calculate_mean_squared_error(x, y):\n",
    "    regressor = LinearRegression()\n",
    "    regressor.fit(x, y) \n",
    "    y_pred = regressor.predict(x)\n",
    "    print('Mean Squared Error:', metrics.mean_squared_error(y, y_pred))  \n",
    "    # Plot outputs\n",
    "    plt.scatter(x, y,  color='black')\n",
    "    abline(regressor.coef_, regressor.intercept_, color=\"blue\", label=\"Regression line\")\n",
    "    plt.show()"
   ]
  },
  {
   "cell_type": "markdown",
   "id": "1b7b8451",
   "metadata": {},
   "source": [
    "## Algorithm 1 - Greedy Poisoning Regression CDF\n",
    "\n",
    "The following code implements **Algorithm 1 (Greedy Poisoning Regression CDF)** as described in the paper \"*The Price of Tailoring the Index to Your Data: Poisoning Attacks on Learned Index Structures*\"."
   ]
  },
  {
   "cell_type": "code",
   "execution_count": 6,
   "id": "5f6e8d75",
   "metadata": {},
   "outputs": [],
   "source": [
    "\"\"\"\n",
    "Source: Scipy - https://github.com/scipy/scipy/blob/v1.7.0/scipy/stats/stats.py#L8631-L8737\n",
    "\"\"\"\n",
    "def rankdata(array):\n",
    "    #arr = np.ravel(np.asarray(array))\n",
    "    algo = 'mergesort'\n",
    "    sorter = np.argsort(array, kind=algo)\n",
    "\n",
    "    inv = np.empty(sorter.size, dtype=np.intp)\n",
    "    inv[sorter] = np.arange(sorter.size, dtype=np.intp)\n",
    "    return inv + 1"
   ]
  },
  {
   "cell_type": "code",
   "execution_count": 7,
   "id": "d090b8cd",
   "metadata": {},
   "outputs": [],
   "source": [
    "# Extracts non-occupied keys for a given sequence\n",
    "def extract_non_occupied_keys(keyset):\n",
    "    n = keyset.shape[0]\n",
    "    \n",
    "    lower_bound = int(keyset[0]-1)\n",
    "    upper_bound = int(keyset[n-1]+1)\n",
    "    \n",
    "    # convert to set to speed up lookup\n",
    "    keyset = set(keyset)\n",
    "\n",
    "    non_occupied_keys = []\n",
    "    for i in range(lower_bound, upper_bound + 1):\n",
    "        if i not in keyset:\n",
    "            non_occupied_keys.append(i)\n",
    "        \n",
    "    return non_occupied_keys"
   ]
  },
  {
   "cell_type": "code",
   "execution_count": 8,
   "id": "88262343",
   "metadata": {},
   "outputs": [
    {
     "data": {
      "text/plain": [
       "[1, 3, 6, 7, 9, 10, 12]"
      ]
     },
     "execution_count": 8,
     "metadata": {},
     "output_type": "execute_result"
    }
   ],
   "source": [
    "# REMOVE\n",
    "my_list = np.array([2, 4, 5, 8, 11])\n",
    "extract_non_occupied_keys(my_list)"
   ]
  },
  {
   "cell_type": "code",
   "execution_count": 9,
   "id": "57577dc4",
   "metadata": {},
   "outputs": [],
   "source": [
    "# Groups a list of keys into subsequences of consecutive keys \n",
    "def extract_seq(seq):\n",
    "    return [\n",
    "        [x for _, x in g]\n",
    "        for k, g in groupby(\n",
    "            enumerate(seq), \n",
    "            lambda i_x : i_x[0] - i_x[1]\n",
    "        )\n",
    "    ]   \n",
    "\n",
    "# Extract the endpoints of each subsequence\n",
    "def extract_endpoints(subsequences):\n",
    "    endpoints = []\n",
    "    for sequence in subsequences:\n",
    "        if len(sequence) == 1:\n",
    "            endpoints.append(sequence[0])\n",
    "        else:\n",
    "            endpoints.append(sequence[0]) # get first element of sequence\n",
    "            endpoints.append(sequence[len(sequence)-1]) # get last element of sequence\n",
    "            \n",
    "    return endpoints\n",
    "\n",
    "# Partition the non-occupied keys, i.e., keys not in K ∪ P, into subsequences such that each subsequence consists of consecutive non-occupied keys;\n",
    "def partition_non_occupied_keys(K, P):\n",
    "    keyset = np.append(K, list(P))\n",
    "    keyset = np.sort(keyset)\n",
    "\n",
    "    non_occupied_keys = extract_non_occupied_keys(keyset)\n",
    "    \n",
    "    subsequences = extract_seq(non_occupied_keys)\n",
    "    endpoints = extract_endpoints(subsequences)\n",
    "    # convert list of endpoints to np.array\n",
    "    return np.array(endpoints)\n",
    "\n",
    "# Compute the rank that key S(i) would have if it was inserted in K ∪ P and assign this rank as the i-th element of the new sequence\n",
    "def compute_rank_for_endpoints(endpoints, keyset):\n",
    "    computed_rank_for_endpoint = []\n",
    "    \n",
    "    for endpoint in endpoints:\n",
    "        # PERFORMANCE: conversion to set() not efficient\n",
    "        #keyset_extended = set(np.append(keyset, endpoint))\n",
    "        keyset_extended = np.append(keyset, endpoint)\n",
    "        \n",
    "        # PERFORMANCE: ss.rankdata is very time-consuming\n",
    "        #rank = list(ss.rankdata(keyset_extended, method='ordinal'))\n",
    "        rank = rankdata(keyset_extended)\n",
    "        \n",
    "        # extract rank for the last element in the list (the endpoint)\n",
    "        rank_of_endpoint = rank[len(rank) - 1]\n",
    "        computed_rank_for_endpoint.append(int(rank_of_endpoint))\n",
    "    \n",
    "    return computed_rank_for_endpoint\n",
    "    "
   ]
  },
  {
   "cell_type": "code",
   "execution_count": 10,
   "id": "178faf76",
   "metadata": {},
   "outputs": [],
   "source": [
    "import operator\n",
    "from statistics import mean\n",
    "\n",
    "def obtain_poisoning_keys(p, keyset, rankset):\n",
    "    # Total number of elements\n",
    "    n = keyset.shape[0]\n",
    "\n",
    "    # Number of posoning keys p\n",
    "    P = p * n\n",
    "    poisoning_keys = set()\n",
    "    \n",
    "\n",
    "    for j in range(int(P)):\n",
    "        # Partition the non-occupied keys into subsequences such that each subsequence consists of consecutive non-occupied keys;\n",
    "        # Extract the endpoints of each subsequence and sort them to construct the new sequence of endpoints S(i), where i <= 2(n + j);\n",
    "        endpoints = partition_non_occupied_keys(keyset, poisoning_keys)\n",
    "\n",
    "        # Compute the rank that key S(i) would have if it was inserted in K ∪ P and assign this rank as the i-th element of the new sequence T (i), where i <= 2(n + j) ;\n",
    "        list_rank = compute_rank_for_endpoints(endpoints, keyset)\n",
    "\n",
    "        # Compute the effect of choosing S(1) as a poisoning key and inserting it to K ∪ P with the appropriate rank adjustments. \n",
    "        # Specifically, evaluate the sequences each of which is the mean M for a different variable, e.g., K, R, KR. Compute MK (1), MK2 (1), MKR(1), and L(1) ;\n",
    "        S = endpoints\n",
    "        T = list_rank\n",
    "        \n",
    "        delta_S = {}\n",
    "        M_K = {}\n",
    "        M_K_square = {}\n",
    "        M_R = {}\n",
    "        M_R_square = {}\n",
    "        M_KR = {}\n",
    "        L = {}\n",
    "        \n",
    "        # Calculate M_K(1), M_R(1) etc.\n",
    "        # insert first potential poisoning key\n",
    "        current_keyset = np.append(keyset, S[0])\n",
    "        M_K[0] = np.mean(keyset)\n",
    "\n",
    "        current_rankset = np.append(rankset, T[0])\n",
    "        M_R[0] = np.mean(rankset)\n",
    "\n",
    "        M_K_square[0] = np.mean(keyset**2)\n",
    "\n",
    "        M_R_square[0] = np.mean(rankset**2)\n",
    "\n",
    "        M_KR[0] = np.mean(keyset*rankset)\n",
    "\n",
    "        nominator = (M_KR[0] - (M_K[0] * M_R[0]))**2\n",
    "        denominator = M_K_square[0] - (M_K[0])**2\n",
    "        L[0] = - (nominator / denominator) + M_R_square[0] - (M_R[0])**2\n",
    "\n",
    "        for i in range(1, len(endpoints)-1):\n",
    "            # Calculate M_K(i), M_R(i) etc.\n",
    "            delta_S[i] = S[i+1] - S[i] \n",
    "\n",
    "            M_K[i] = M_K[i-1] + delta_S[i] / (n) \n",
    "            M_K_square[i] = M_K_square[i-1] + (( 2 * S[i] + delta_S[i]) * delta_S[i]) / (n + 1) \n",
    "\n",
    "            M_R[i] = (n + 2) / 2\n",
    "            M_R_square[i] = ((n+2)*(2*n+3)) / 6\n",
    "            M_KR[i] = M_KR[i-1] + ( T[i-1] * delta_S[i]) / (n + 1)\n",
    "\n",
    "            nominator = (M_KR[i] - M_K[i]*M_R[i])**2\n",
    "            denominator = M_K_square[i] - (M_K[i])**2\n",
    "            L[i] = - (nominator / denominator) + M_R_square[i] - (M_R[i])**2\n",
    "\n",
    "        # get argmax of items in L\n",
    "        optimal_key_index = max(L.items(), key=operator.itemgetter(1))[0]\n",
    "        poisoning_keys.add(S[optimal_key_index])\n",
    "    \n",
    "    return poisoning_keys"
   ]
  },
  {
   "cell_type": "markdown",
   "id": "3dd91094",
   "metadata": {},
   "source": [
    "## Linear regression with non-poisoned keys"
   ]
  },
  {
   "cell_type": "code",
   "execution_count": 11,
   "id": "afd02089",
   "metadata": {},
   "outputs": [],
   "source": [
    "df=pd.read_csv('../data/random_2000.csv', sep=',',header=None)\n",
    "\n",
    "X = np.array(df[0]).reshape(-1, 1)\n",
    "y = np.array(df[1])"
   ]
  },
  {
   "cell_type": "code",
   "execution_count": 12,
   "id": "edb08cec",
   "metadata": {},
   "outputs": [
    {
     "name": "stdout",
     "output_type": "stream",
     "text": [
      "Mean Squared Error: 22.990043047393875\n"
     ]
    },
    {
     "data": {
      "image/png": "[encoded data removed]",
      "text/plain": [
       "<Figure size 432x288 with 1 Axes>"
      ]
     },
     "metadata": {
      "needs_background": "light"
     },
     "output_type": "display_data"
    }
   ],
   "source": [
    "calculate_mean_squared_error(X, y)"
   ]
  },
  {
   "cell_type": "markdown",
   "id": "ceb41315",
   "metadata": {},
   "source": [
    "## Linear regression with poisoned keys"
   ]
  },
  {
   "cell_type": "code",
   "execution_count": 13,
   "id": "485596be",
   "metadata": {},
   "outputs": [],
   "source": [
    "poisoning_keys = obtain_poisoning_keys(p = 0.05, keyset=X, rankset=y)"
   ]
  },
  {
   "cell_type": "code",
   "execution_count": 14,
   "id": "ee203e5a",
   "metadata": {},
   "outputs": [],
   "source": [
    "#cProfile.run('obtain_poisoning_keys(p = 0.005, keyset=X, rankset=y)', sort = \"time\")"
   ]
  },
  {
   "cell_type": "code",
   "execution_count": 15,
   "id": "0671b65a",
   "metadata": {},
   "outputs": [
    {
     "data": {
      "image/png": "[encoded data removed]",
      "text/plain": [
       "<Figure size 432x288 with 1 Axes>"
      ]
     },
     "metadata": {
      "needs_background": "light"
     },
     "output_type": "display_data"
    }
   ],
   "source": [
    "plot_distribution_of_poisoning_keys(poisoning_keys, X)"
   ]
  },
  {
   "cell_type": "code",
   "execution_count": 16,
   "id": "66ea4f0c",
   "metadata": {},
   "outputs": [],
   "source": [
    "X_poisoned = np.append(X, list(poisoning_keys))\n",
    "y_poisoned = rankdata(X_poisoned)\n",
    "X_poisoned = X_poisoned.reshape(-1,1)"
   ]
  },
  {
   "cell_type": "code",
   "execution_count": 17,
   "id": "36e397dc",
   "metadata": {},
   "outputs": [
    {
     "name": "stdout",
     "output_type": "stream",
     "text": [
      "Mean Squared Error: 238.97833221639377\n"
     ]
    },
    {
     "data": {
      "image/png": "[encoded data removed]",
      "text/plain": [
       "<Figure size 432x288 with 1 Axes>"
      ]
     },
     "metadata": {
      "needs_background": "light"
     },
     "output_type": "display_data"
    }
   ],
   "source": [
    "calculate_mean_squared_error(X_poisoned, y_poisoned)"
   ]
  },
  {
   "cell_type": "code",
   "execution_count": 18,
   "id": "8950c70d",
   "metadata": {},
   "outputs": [],
   "source": [
    "#ratio_loss =  mse_poisoned / mse_legitimates"
   ]
  },
  {
   "cell_type": "markdown",
   "id": "a6452071",
   "metadata": {},
   "source": [
    "### Visualization"
   ]
  },
  {
   "cell_type": "code",
   "execution_count": 70,
   "id": "47a1dde0",
   "metadata": {},
   "outputs": [],
   "source": [
    "# Plot outputs\n",
    "#plt.scatter(X_poisoned, y_poisoned,  color='black')\n",
    "#abline(regressor_poisoned.coef_, regressor_poisoned.intercept_, color=\"red\", label=\"Poisoned regression line\")\n",
    "#abline(regressor_legitimate.coef_, regressor_legitimate.intercept_, color=\"blue\", label=\"Non-poisoned regression line\")\n",
    "#label= \"Poisoned vs. non-poisoned regression line for n=\"+ str(X.shape[0]) + \" keys\"\n",
    "#plt.title(label=label)\n",
    "#plt.show()"
   ]
  },
  {
   "cell_type": "code",
   "execution_count": null,
   "id": "a16d0965",
   "metadata": {},
   "outputs": [],
   "source": []
  },
  {
   "cell_type": "code",
   "execution_count": null,
   "id": "971abf93",
   "metadata": {},
   "outputs": [],
   "source": []
  },
  {
   "cell_type": "code",
   "execution_count": null,
   "id": "a9be0800",
   "metadata": {},
   "outputs": [],
   "source": []
  },
  {
   "cell_type": "code",
   "execution_count": null,
   "id": "c2cc019f",
   "metadata": {},
   "outputs": [],
   "source": []
  },
  {
   "cell_type": "markdown",
   "id": "aa6a70ed",
   "metadata": {},
   "source": [
    "### Write poisoned keyset to file"
   ]
  },
  {
   "cell_type": "code",
   "execution_count": 94,
   "id": "53e060c9",
   "metadata": {},
   "outputs": [],
   "source": [
    "poisoned_keyset = pd.DataFrame(data=list(X_poisoned))\n",
    "poisoned_keyset.to_csv(\"../data/poisoned_keyset_5000.csv\", sep=',',index=False)"
   ]
  },
  {
   "cell_type": "code",
   "execution_count": null,
   "id": "043822be",
   "metadata": {},
   "outputs": [],
   "source": []
  },
  {
   "cell_type": "code",
   "execution_count": null,
   "id": "ce0786cf",
   "metadata": {},
   "outputs": [],
   "source": []
  },
  {
   "cell_type": "markdown",
   "id": "475d881c",
   "metadata": {},
   "source": [
    "## Perform poisoning of SOSD benchmark files"
   ]
  },
  {
   "cell_type": "code",
   "execution_count": 19,
   "id": "213820b8",
   "metadata": {},
   "outputs": [
    {
     "name": "stdout",
     "output_type": "stream",
     "text": [
      "Length of keyset:  1526\n"
     ]
    }
   ],
   "source": [
    "def read_dataset(dataset_filename : str):\n",
    "    keyset = np.fromfile(\"../data/\" + dataset_filename, dtype=np.uint64)[1:]\n",
    "    print(\"Length of keyset: \", len(keyset))\n",
    "    rankset = rankdata(keyset)\n",
    "    keyset = keyset.reshape(-1, 1)\n",
    "    return (keyset, rankset)\n",
    "    \n",
    "\n",
    "    \n",
    "X, y = read_dataset(\"wiki_ts_1M_uint64\")"
   ]
  },
  {
   "cell_type": "code",
   "execution_count": 20,
   "id": "1c5d58b2",
   "metadata": {},
   "outputs": [
    {
     "name": "stdout",
     "output_type": "stream",
     "text": [
      "Mean Squared Error: 19376.28075528213\n"
     ]
    },
    {
     "data": {
      "image/png": "[encoded data removed]",
      "text/plain": [
       "<Figure size 432x288 with 1 Axes>"
      ]
     },
     "metadata": {
      "needs_background": "light"
     },
     "output_type": "display_data"
    }
   ],
   "source": [
    "calculate_mean_squared_error(X, y)"
   ]
  },
  {
   "cell_type": "code",
   "execution_count": 21,
   "id": "cf65c3fe",
   "metadata": {},
   "outputs": [
    {
     "data": {
      "text/plain": [
       "array([[ 979672113],\n",
       "       [1014648675],\n",
       "       [1027557926],\n",
       "       ...,\n",
       "       [1216077107],\n",
       "       [1216140173],\n",
       "       [1216200177]], dtype=uint64)"
      ]
     },
     "execution_count": 21,
     "metadata": {},
     "output_type": "execute_result"
    }
   ],
   "source": [
    "X"
   ]
  },
  {
   "cell_type": "code",
   "execution_count": 22,
   "id": "dd77f317",
   "metadata": {},
   "outputs": [
    {
     "data": {
      "text/plain": [
       "array([   1,    2,    3, ..., 1524, 1525, 1526])"
      ]
     },
     "execution_count": 22,
     "metadata": {},
     "output_type": "execute_result"
    }
   ],
   "source": [
    "y"
   ]
  },
  {
   "cell_type": "code",
   "execution_count": 23,
   "id": "5195f245",
   "metadata": {},
   "outputs": [],
   "source": [
    "poisoning_keys = obtain_poisoning_keys(p = 0.001, keyset=X, rankset=y)"
   ]
  },
  {
   "cell_type": "code",
   "execution_count": 32,
   "id": "d7869d5a",
   "metadata": {},
   "outputs": [
    {
     "name": "stdout",
     "output_type": "stream",
     "text": [
      "         473152418 function calls (473146308 primitive calls) in 322.232 seconds\n",
      "\n",
      "   Ordered by: internal time\n",
      "\n",
      "   ncalls  tottime  percall  cumtime  percall filename:lineno(function)\n",
      "     1527  173.578    0.114  215.144    0.141 <ipython-input-9-0804c0eb96f4>:4(<listcomp>)\n",
      "        1   48.670   48.670   66.952   66.952 <ipython-input-7-036c9fa113b1>:2(extract_non_occupied_keys)\n",
      "236526541   41.567    0.000   41.567    0.000 <ipython-input-9-0804c0eb96f4>:7(<lambda>)\n",
      "        1   39.264   39.264  322.218  322.218 <ipython-input-10-a7f07a1f3b96>:4(obtain_poisoning_keys)\n",
      "236532645   18.283    0.000   18.283    0.000 {method 'append' of 'list' objects}\n",
      "        1    0.376    0.376    0.378    0.378 <ipython-input-9-0804c0eb96f4>:12(extract_endpoints)\n",
      "12223/6113    0.109    0.000    0.280    0.000 {built-in method numpy.core._multiarray_umath.implement_array_function}\n",
      "     3052    0.073    0.000    0.151    0.000 <ipython-input-6-3d51dcaacfe3>:4(rankdata)\n",
      "     6117    0.047    0.000    0.047    0.000 {built-in method numpy.array}\n",
      "        5    0.033    0.007    0.033    0.007 {method 'reduce' of 'numpy.ufunc' objects}\n",
      "        1    0.030    0.030    0.345    0.345 <ipython-input-9-0804c0eb96f4>:36(compute_rank_for_endpoints)\n",
      "     3052    0.025    0.000    0.025    0.000 {method 'argsort' of 'numpy.ndarray' objects}\n",
      "     3052    0.020    0.000    0.020    0.000 {built-in method numpy.arange}\n",
      "     3055    0.018    0.000    0.127    0.000 function_base.py:4690(append)\n",
      "        5    0.018    0.004    0.074    0.015 _methods.py:161(_mean)\n",
      "        5    0.015    0.003    0.017    0.003 _methods.py:65(_count_reduce_items)\n",
      "        1    0.013    0.013  322.231  322.231 <string>:1(<module>)\n",
      "     3052    0.013    0.000    0.013    0.000 {built-in method numpy.empty}\n",
      "     3052    0.009    0.000    0.035    0.000 fromnumeric.py:52(_wrapfunc)\n",
      "        1    0.009    0.009  215.153  215.153 <ipython-input-9-0804c0eb96f4>:3(<listcomp>)\n",
      "        1    0.006    0.006  215.159  215.159 <ipython-input-9-0804c0eb96f4>:2(extract_seq)\n",
      "     6109    0.006    0.000    0.006    0.000 {method 'ravel' of 'numpy.ndarray' objects}\n",
      "     3052    0.005    0.000    0.045    0.000 <__array_function__ internals>:2(argsort)\n",
      "        1    0.005    0.005  282.525  282.525 <ipython-input-9-0804c0eb96f4>:24(partition_non_occupied_keys)\n",
      "     3055    0.004    0.000    0.022    0.000 fromnumeric.py:1716(ravel)\n",
      "     3055    0.004    0.000    0.070    0.000 <__array_function__ internals>:2(concatenate)\n",
      "     3055    0.004    0.000    0.032    0.000 <__array_function__ internals>:2(ravel)\n",
      "     3060    0.004    0.000    0.004    0.000 {built-in method builtins.isinstance}\n",
      "     6116    0.004    0.000    0.021    0.000 _asarray.py:110(asanyarray)\n",
      "        5    0.003    0.001    0.003    0.001 fromnumeric.py:3296(_mean_dispatcher)\n",
      "     3052    0.003    0.000    0.038    0.000 fromnumeric.py:1004(argsort)\n",
      "     3055    0.003    0.000    0.167    0.000 <__array_function__ internals>:2(append)\n",
      "        8    0.002    0.000    0.002    0.000 {built-in method numpy.core._multiarray_umath.normalize_axis_index}\n",
      "     6105    0.002    0.000    0.002    0.000 {built-in method builtins.len}\n",
      "        1    0.001    0.001  322.232  322.232 {built-in method builtins.exec}\n",
      "        5    0.001    0.000    0.079    0.016 <__array_function__ internals>:2(mean)\n",
      "        5    0.001    0.000    0.001    0.000 {built-in method builtins.hasattr}\n",
      "     3052    0.001    0.000    0.001    0.000 {built-in method builtins.getattr}\n",
      "        1    0.001    0.001    0.001    0.001 {built-in method builtins.max}\n",
      "     3055    0.001    0.000    0.001    0.000 function_base.py:4686(_append_dispatcher)\n",
      "        1    0.001    0.001    0.001    0.001 {method 'sort' of 'numpy.ndarray' objects}\n",
      "     3055    0.001    0.000    0.001    0.000 multiarray.py:143(concatenate)\n",
      "     3055    0.001    0.000    0.001    0.000 fromnumeric.py:1712(_ravel_dispatcher)\n",
      "        5    0.001    0.000    0.075    0.015 fromnumeric.py:3301(mean)\n",
      "     3052    0.001    0.000    0.001    0.000 fromnumeric.py:1000(_argsort_dispatcher)\n",
      "        1    0.000    0.000    0.001    0.001 <__array_function__ internals>:2(sort)\n",
      "        1    0.000    0.000    0.001    0.001 fromnumeric.py:844(sort)\n",
      "        6    0.000    0.000    0.000    0.000 {built-in method builtins.issubclass}\n",
      "        1    0.000    0.000    0.000    0.000 {method 'add' of 'set' objects}\n",
      "        1    0.000    0.000    0.000    0.000 {method 'items' of 'dict' objects}\n",
      "        1    0.000    0.000    0.000    0.000 {method 'copy' of 'numpy.ndarray' objects}\n",
      "        1    0.000    0.000    0.000    0.000 {method 'disable' of '_lsprof.Profiler' objects}\n",
      "        1    0.000    0.000    0.000    0.000 fromnumeric.py:840(_sort_dispatcher)\n",
      "\n",
      "\n"
     ]
    }
   ],
   "source": [
    "cProfile.run('obtain_poisoning_keys(p = 0.001, keyset=X, rankset=y)', sort = \"time\")"
   ]
  },
  {
   "cell_type": "code",
   "execution_count": 24,
   "id": "6e3b183f",
   "metadata": {},
   "outputs": [
    {
     "data": {
      "text/plain": [
       "{979672112}"
      ]
     },
     "execution_count": 24,
     "metadata": {},
     "output_type": "execute_result"
    }
   ],
   "source": [
    "poisoning_keys"
   ]
  },
  {
   "cell_type": "code",
   "execution_count": 25,
   "id": "cc227b98",
   "metadata": {},
   "outputs": [
    {
     "data": {
      "image/png": "[encoded data removed]",
      "text/plain": [
       "<Figure size 432x288 with 1 Axes>"
      ]
     },
     "metadata": {
      "needs_background": "light"
     },
     "output_type": "display_data"
    }
   ],
   "source": [
    "plot_distribution_of_poisoning_keys(poisoning_keys, X)"
   ]
  },
  {
   "cell_type": "code",
   "execution_count": 28,
   "id": "8972ffc9",
   "metadata": {},
   "outputs": [],
   "source": [
    "X_poisoned = np.append(X, list(poisoning_keys))\n",
    "y_poisoned = rankdata(X_poisoned)\n",
    "X_poisoned = X_poisoned.reshape(-1,1)"
   ]
  },
  {
   "cell_type": "code",
   "execution_count": 29,
   "id": "8d645242",
   "metadata": {},
   "outputs": [
    {
     "name": "stdout",
     "output_type": "stream",
     "text": [
      "Mean Squared Error: 21030.497860920623\n"
     ]
    },
    {
     "data": {
      "image/png": "[encoded data removed]",
      "text/plain": [
       "<Figure size 432x288 with 1 Axes>"
      ]
     },
     "metadata": {
      "needs_background": "light"
     },
     "output_type": "display_data"
    }
   ],
   "source": [
    "calculate_mean_squared_error(X_poisoned, y_poisoned)"
   ]
  },
  {
   "cell_type": "code",
   "execution_count": null,
   "id": "0e69d38c",
   "metadata": {},
   "outputs": [],
   "source": [
    "# Plot outputs\n",
    "#plt.scatter(X_poisoned, y_poisoned,  color='black')\n",
    "#abline(regressor_poisoned.coef_, regressor_poisoned.intercept_, color=\"red\", label=\"Poisoned regression line\")\n",
    "#abline(regressor_legitimate.coef_, regressor_legitimate.intercept_, color=\"blue\", label=\"Non-poisoned regression line\")\n",
    "#label= \"Poisoned vs. non-poisoned regression line for n=\"+ str(X.shape[0]) + \" keys\"\n",
    "#plt.title(label=label)\n",
    "#plt.show()"
   ]
  },
  {
   "cell_type": "code",
   "execution_count": null,
   "id": "24a9e979",
   "metadata": {},
   "outputs": [],
   "source": []
  },
  {
   "cell_type": "code",
   "execution_count": null,
   "id": "25e2bb77",
   "metadata": {},
   "outputs": [],
   "source": []
  },
  {
   "cell_type": "code",
   "execution_count": null,
   "id": "0e72ca3e",
   "metadata": {},
   "outputs": [],
   "source": []
  },
  {
   "cell_type": "code",
   "execution_count": null,
   "id": "a7052b5b",
   "metadata": {},
   "outputs": [],
   "source": []
  },
  {
   "cell_type": "markdown",
   "id": "704d3d8a",
   "metadata": {},
   "source": [
    "## Linear regression experiments with different key sizes / different poisoning percentages"
   ]
  },
  {
   "cell_type": "code",
   "execution_count": 15,
   "id": "14882091",
   "metadata": {},
   "outputs": [],
   "source": [
    "import random\n",
    "\n",
    "def generate_uniform_data(size):\n",
    "    \n",
    "    data = random.sample(range(2, size * 2), size)\n",
    "    data.sort()\n",
    "    return data"
   ]
  },
  {
   "cell_type": "code",
   "execution_count": 16,
   "id": "3768080d",
   "metadata": {},
   "outputs": [
    {
     "name": "stdout",
     "output_type": "stream",
     "text": [
      "-------------------------\n",
      "Dataset size:  500\n",
      "Mean Squared Error: 10.816464904609312\n",
      "Mean Squared Error: 11.11713079239834\n",
      "Mean Squared Error: 12.038229273838143\n",
      "Mean Squared Error: 13.815707106720806\n",
      "Mean Squared Error: 17.88193188797914\n",
      "Mean Squared Error: 24.44914795010329\n",
      "Mean Squared Error: 29.810067013172063\n",
      "Mean Squared Error: 40.357670960423974\n",
      "Mean Squared Error: 53.644429094707164\n",
      "Mean Squared Error: 66.05976278804661\n",
      "Mean Squared Error: 84.0755512105039\n",
      "Mean Squared Error: 105.08008239241076\n",
      "Mean Squared Error: 128.41479806191754\n",
      "Mean Squared Error: 148.75057197227716\n",
      "Mean Squared Error: 169.84725277689816\n"
     ]
    },
    {
     "data": {
      "image/png": "[encoded data removed]",
      "text/plain": [
       "<Figure size 432x288 with 1 Axes>"
      ]
     },
     "metadata": {
      "needs_background": "light"
     },
     "output_type": "display_data"
    },
    {
     "name": "stdout",
     "output_type": "stream",
     "text": [
      "-------------------------\n",
      "Dataset size:  1000\n",
      "Mean Squared Error: 20.773564268523586\n",
      "Mean Squared Error: 25.78819890323834\n",
      "Mean Squared Error: 38.20042041745141\n",
      "Mean Squared Error: 56.34731516231744\n",
      "Mean Squared Error: 76.13307741398904\n",
      "Mean Squared Error: 104.00910688645017\n",
      "Mean Squared Error: 137.53844998726439\n",
      "Mean Squared Error: 188.29765677644156\n",
      "Mean Squared Error: 243.60929879108775\n",
      "Mean Squared Error: 307.26563547759065\n",
      "Mean Squared Error: 379.5819577658792\n",
      "Mean Squared Error: 459.9276318940463\n",
      "Mean Squared Error: 527.3773904911287\n",
      "Mean Squared Error: 609.9754483106909\n",
      "Mean Squared Error: 708.88213444713\n"
     ]
    },
    {
     "data": {
      "image/png": "[encoded data removed]",
      "text/plain": [
       "<Figure size 432x288 with 1 Axes>"
      ]
     },
     "metadata": {
      "needs_background": "light"
     },
     "output_type": "display_data"
    }
   ],
   "source": [
    "dataset_sizes = [500, 1000]\n",
    "\n",
    "for dataset_size in dataset_sizes:\n",
    "    \n",
    "    print(\"-------------------------\")\n",
    "    print(\"Dataset size: \", dataset_size)\n",
    "    X = generate_uniform_data(dataset_size)\n",
    "    X = np.array(X).reshape(-1, 1)\n",
    "    \n",
    "    y = np.linspace(1, dataset_size, num=dataset_size)\n",
    "\n",
    "    poisoning_percentages = np.linspace(0.01, 0.15, num= 15)\n",
    "\n",
    "    ratio_losses = []\n",
    "    \n",
    "    regressor_legitimate = LinearRegression()\n",
    "    regressor_legitimate.fit(X, y) \n",
    "\n",
    "    y_pred = regressor_legitimate.predict(X)\n",
    "    mse_legitimate = metrics.mean_squared_error(y, y_pred)\n",
    "\n",
    "    for percentage in poisoning_percentages:\n",
    "        poisoning_keys = obtain_poisoning_keys(p = percentage, keyset = X, rankset = y)\n",
    "\n",
    "        #plot_poisoning_keys(poisoning_keys)\n",
    "\n",
    "        X_poisoned = np.append(X, list(poisoning_keys))\n",
    "        y_poisoned = rankdata(X_poisoned)\n",
    "\n",
    "        X_poisoned = X_poisoned.reshape(-1,1)\n",
    "        regressor_poisoned = LinearRegression()\n",
    "        regressor_poisoned.fit(X_poisoned, y_poisoned)  \n",
    "\n",
    "        y_poisoned_pred = regressor_poisoned.predict(X_poisoned)\n",
    "\n",
    "        print('Mean Squared Error:', metrics.mean_squared_error(y_poisoned, y_poisoned_pred))  \n",
    "        mse_poisoned = metrics.mean_squared_error(y_poisoned, y_poisoned_pred)\n",
    "        ratio_loss =  mse_poisoned / mse_legitimate\n",
    "\n",
    "        ratio_losses.append(ratio_loss)\n",
    "\n",
    "    plt.scatter(poisoning_percentages, ratio_losses,  color='black', marker=\"x\")\n",
    "    plt.xlabel('Poisoning Percentage')\n",
    "    plt.ylabel('Ratio Loss')\n",
    "    plt.show()"
   ]
  },
  {
   "cell_type": "code",
   "execution_count": null,
   "id": "5315855a",
   "metadata": {},
   "outputs": [],
   "source": [
    "\n"
   ]
  }
 ],
 "metadata": {
  "kernelspec": {
   "display_name": "Python 3",
   "language": "python",
   "name": "python3"
  },
  "language_info": {
   "codemirror_mode": {
    "name": "ipython",
    "version": 3
   },
   "file_extension": ".py",
   "mimetype": "text/x-python",
   "name": "python",
   "nbconvert_exporter": "python",
   "pygments_lexer": "ipython3",
   "version": "3.9.2"
  }
 },
 "nbformat": 4,
 "nbformat_minor": 5
}
