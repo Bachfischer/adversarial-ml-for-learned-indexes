{
 "cells": [
  {
   "cell_type": "code",
   "execution_count": 1,
   "id": "927c8dc7",
   "metadata": {},
   "outputs": [],
   "source": [
    "import pandas as pd\n",
    "import numpy as np \n",
    "import matplotlib.pyplot as plt "
   ]
  },
  {
   "cell_type": "code",
   "execution_count": 2,
   "id": "8a63f26b",
   "metadata": {},
   "outputs": [],
   "source": [
    "#df = pd.read_csv('../experimental-results/results_mocked.csv', sep=',',header=0)"
   ]
  },
  {
   "cell_type": "code",
   "execution_count": 3,
   "id": "e92a85f5",
   "metadata": {},
   "outputs": [],
   "source": [
    "#df"
   ]
  },
  {
   "cell_type": "code",
   "execution_count": 12,
   "id": "d73529c3",
   "metadata": {},
   "outputs": [],
   "source": [
    "def plot_chart_for_workload(filename : str):\n",
    "    df = pd.read_csv('../experimental-results/' + filename, sep=',',header=0)\n",
    "\n",
    "    datasets = ['books_200M_uint32', 'fb_200M_uint32', 'osmc_200M_uint32', 'wiki_200M_uint32']\n",
    "\n",
    "    best_results_alex = []\n",
    "    best_results_binary_search = []\n",
    "    best_results_btree = []\n",
    "    best_results_pgm = []\n",
    "    for dataset_name in datasets:\n",
    "        best_results_alex.append(df[(df[\"dataset_name\"] == dataset_name) & (df[\"index_name\"]=='ALEX')]['median_time'].min())\n",
    "        best_results_binary_search.append(df[(df[\"dataset_name\"] == dataset_name) & (df[\"index_name\"]=='BinarySearch')]['median_time'].min())\n",
    "        best_results_btree.append(df[(df[\"dataset_name\"] == dataset_name) & (df[\"index_name\"]=='BTree')]['median_time'].min())\n",
    "        best_results_pgm.append(df[(df[\"dataset_name\"] == dataset_name) & (df[\"index_name\"]=='DynamicPGM')]['median_time'].min())\n",
    "\n",
    "    N = 4\n",
    "    ind = np.arange(N) \n",
    "    width = 0.17\n",
    "\n",
    "    bar1 = plt.bar(ind, best_results_alex, width, color = 'green')\n",
    "    bar2 = plt.bar(ind+width, best_results_binary_search, width, color = 'orange')\n",
    "    bar3 = plt.bar(ind+width*2, best_results_btree, width, color = 'blue')\n",
    "    bar4 = plt.bar(ind+width*3, best_results_pgm, width, color = 'red')\n",
    "\n",
    "    #plt.xlabel(\"Datasets\")\n",
    "    #plt.ylabel('Latencies')\n",
    "\n",
    "    plt.xticks(ind+width*1.5,['books', 'fb', 'osmc', 'wiki'])\n",
    "\n",
    "    # Put a legend above plot\n",
    "    #plt.legend((bar1, bar2, bar3, bar4), ('ALEX', 'BinarySearch', 'BTree', 'PGM'), bbox_to_anchor=(0,1.02,1,0.2), loc='upper left', ncol=4)\n",
    "    plt.show()"
   ]
  },
  {
   "cell_type": "code",
   "execution_count": 13,
   "id": "792e65b2",
   "metadata": {},
   "outputs": [
    {
     "data": {
      "image/png": "[encoded data removed]",
      "text/plain": [
       "<Figure size 432x288 with 1 Axes>"
      ]
     },
     "metadata": {
      "needs_background": "light"
     },
     "output_type": "display_data"
    }
   ],
   "source": [
    "plot_chart_for_workload('results_mocked.csv')"
   ]
  },
  {
   "cell_type": "code",
   "execution_count": null,
   "id": "3413ac7f",
   "metadata": {},
   "outputs": [],
   "source": []
  }
 ],
 "metadata": {
  "kernelspec": {
   "display_name": "Python 3",
   "language": "python",
   "name": "python3"
  },
  "language_info": {
   "codemirror_mode": {
    "name": "ipython",
    "version": 3
   },
   "file_extension": ".py",
   "mimetype": "text/x-python",
   "name": "python",
   "nbconvert_exporter": "python",
   "pygments_lexer": "ipython3",
   "version": "3.9.2"
  }
 },
 "nbformat": 4,
 "nbformat_minor": 5
}
