{
 "cells": [
  {
   "cell_type": "code",
   "execution_count": 1,
   "id": "18d33242",
   "metadata": {},
   "outputs": [],
   "source": [
    "import numpy as np\n",
    "import struct\n",
    "import os"
   ]
  },
  {
   "cell_type": "code",
   "execution_count": 71,
   "id": "20288751",
   "metadata": {},
   "outputs": [],
   "source": [
    "def downsample_dataset(dataset_filename : str, downsample_factor):\n",
    "    full_keyset = np.fromfile(\"../data/\" + dataset_filename + \"_ts_200M_uint64\", dtype=np.uint64)[1:]\n",
    "    reduced_keyset = np.delete(full_keyset, np.arange(0, full_keyset.size, downsample_factor))\n",
    "    downsampled_keyset = full_keyset[::downsample_factor]\n",
    "    print(\"Length of downsampled keyset: \", len(downsampled_keyset))\n",
    "    \n",
    "    with open(\"../data/\" + dataset_filename + \"_ts_1M_uint64\", \"wb\") as output_file:\n",
    "        output_file.write(struct.pack(\"Q\", len(nd)))\n",
    "        downsampled_keyset.tofile(output_file)"
   ]
  },
  {
   "cell_type": "code",
   "execution_count": 72,
   "id": "0160096f",
   "metadata": {},
   "outputs": [
    {
     "name": "stdout",
     "output_type": "stream",
     "text": [
      "Length of downsampled keyset:  1526\n"
     ]
    }
   ],
   "source": [
    "downsample_dataset(\"wiki\", 131072)"
   ]
  },
  {
   "cell_type": "code",
   "execution_count": null,
   "id": "783b6ece",
   "metadata": {},
   "outputs": [],
   "source": []
  },
  {
   "cell_type": "markdown",
   "id": "72933582",
   "metadata": {},
   "source": [
    "## Visualization"
   ]
  },
  {
   "cell_type": "code",
   "execution_count": 2,
   "id": "fb0b4413",
   "metadata": {},
   "outputs": [],
   "source": [
    "from sklearn.linear_model import LinearRegression\n",
    "from sklearn import metrics\n",
    "\n",
    "import matplotlib.pyplot as plt  \n",
    "from matplotlib import colors\n",
    "from matplotlib.ticker import PercentFormatter"
   ]
  },
  {
   "cell_type": "code",
   "execution_count": 3,
   "id": "d6fab39a",
   "metadata": {},
   "outputs": [],
   "source": [
    "def abline(slope, intercept, color, label):\n",
    "    \"\"\"Plot a line from slope and intercept\"\"\"\n",
    "    axes = plt.gca()\n",
    "    x_vals = np.array(axes.get_xlim())\n",
    "    y_vals = intercept + slope * x_vals\n",
    "    plt.plot(x_vals, y_vals, '--', color=color, label = label)\n",
    "    plt.legend()\n",
    "    plt.xlabel('Keys')\n",
    "    plt.ylabel('Rank')"
   ]
  },
  {
   "cell_type": "code",
   "execution_count": 4,
   "id": "79fc921f",
   "metadata": {},
   "outputs": [],
   "source": [
    "def calculate_mean_squared_error(x, y):\n",
    "    regressor = LinearRegression()\n",
    "    regressor.fit(x, y) \n",
    "    y_pred = regressor.predict(x)\n",
    "    print('Mean Squared Error:', metrics.mean_squared_error(y, y_pred))  \n",
    "    # Plot outputs\n",
    "    plt.scatter(x, y,  color='black')\n",
    "    abline(regressor.coef_, regressor.intercept_, color=\"blue\", label=\"Regression line\")\n",
    "    plt.show()"
   ]
  },
  {
   "cell_type": "code",
   "execution_count": 9,
   "id": "fb2c06a4",
   "metadata": {},
   "outputs": [],
   "source": [
    "def plot_distribution_of_keys(X):\n",
    "    # we observe that poisoning keys are densly populated together\n",
    "    # get range for x-axis by looking at first and last element\n",
    "    plt.hist(X, bins = 100)\n",
    "    plt.show()"
   ]
  },
  {
   "cell_type": "code",
   "execution_count": 19,
   "id": "9e040a4a",
   "metadata": {},
   "outputs": [],
   "source": [
    "def plot_cdf(X):\n",
    "    y_values= np.arange(len(X))/float(len(X)-1)\n",
    "    plt.plot(X, y_values)\n",
    "    plt.show()"
   ]
  },
  {
   "cell_type": "code",
   "execution_count": 6,
   "id": "e0629d0c",
   "metadata": {},
   "outputs": [],
   "source": [
    "\"\"\"\n",
    "Source: Scipy - https://github.com/scipy/scipy/blob/v1.7.0/scipy/stats/stats.py#L8631-L8737\n",
    "\"\"\"\n",
    "def rankdata(array):\n",
    "    #arr = np.ravel(np.asarray(array))\n",
    "    algo = 'mergesort'\n",
    "    sorter = np.argsort(array, kind=algo)\n",
    "\n",
    "    inv = np.empty(sorter.size, dtype=np.intp)\n",
    "    inv[sorter] = np.arange(sorter.size, dtype=np.intp)\n",
    "    return inv + 1"
   ]
  },
  {
   "cell_type": "code",
   "execution_count": 15,
   "id": "4f05ebff",
   "metadata": {},
   "outputs": [
    {
     "name": "stdout",
     "output_type": "stream",
     "text": [
      "Length of keyset:  200000000\n"
     ]
    }
   ],
   "source": [
    "def read_dataset(dataset_filename : str):\n",
    "    keyset = np.fromfile(\"../data/\" + dataset_filename + \"_ts_200M_uint64\", dtype=np.uint64)[1:]\n",
    "    print(\"Length of keyset: \", len(keyset))\n",
    "    rankset = rankdata(keyset)\n",
    "    keyset = keyset.reshape(-1, 1)\n",
    "    return (keyset, rankset)\n",
    "    \n",
    "\n",
    "    \n",
    "X, y = read_dataset(\"wiki\")"
   ]
  },
  {
   "cell_type": "code",
   "execution_count": 10,
   "id": "527189c7",
   "metadata": {},
   "outputs": [
    {
     "data": {
      "image/png": "[encoded data removed]",
      "text/plain": [
       "<Figure size 432x288 with 1 Axes>"
      ]
     },
     "metadata": {
      "needs_background": "light"
     },
     "output_type": "display_data"
    }
   ],
   "source": [
    "plot_distribution_of_keys(X)"
   ]
  },
  {
   "cell_type": "code",
   "execution_count": null,
   "id": "056b1cec",
   "metadata": {},
   "outputs": [],
   "source": [
    "#plot_cdf(X)"
   ]
  },
  {
   "cell_type": "code",
   "execution_count": null,
   "id": "42da5a57",
   "metadata": {},
   "outputs": [],
   "source": []
  },
  {
   "cell_type": "code",
   "execution_count": null,
   "id": "54801065",
   "metadata": {},
   "outputs": [],
   "source": []
  },
  {
   "cell_type": "code",
   "execution_count": null,
   "id": "337b2ed3",
   "metadata": {},
   "outputs": [],
   "source": []
  },
  {
   "cell_type": "code",
   "execution_count": null,
   "id": "b6fd8657",
   "metadata": {},
   "outputs": [
    {
     "name": "stdout",
     "output_type": "stream",
     "text": [
      "Mean Squared Error: 313316295613760.6\n"
     ]
    }
   ],
   "source": [
    "calculate_mean_squared_error(X, y)"
   ]
  },
  {
   "cell_type": "code",
   "execution_count": null,
   "id": "7678d788",
   "metadata": {},
   "outputs": [],
   "source": []
  }
 ],
 "metadata": {
  "kernelspec": {
   "display_name": "Python 3",
   "language": "python",
   "name": "python3"
  },
  "language_info": {
   "codemirror_mode": {
    "name": "ipython",
    "version": 3
   },
   "file_extension": ".py",
   "mimetype": "text/x-python",
   "name": "python",
   "nbconvert_exporter": "python",
   "pygments_lexer": "ipython3",
   "version": "3.9.2"
  }
 },
 "nbformat": 4,
 "nbformat_minor": 5
}
