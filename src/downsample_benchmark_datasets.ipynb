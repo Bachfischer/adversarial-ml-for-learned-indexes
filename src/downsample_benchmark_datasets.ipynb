{
 "cells": [
  {
   "cell_type": "code",
   "execution_count": 68,
   "id": "18d33242",
   "metadata": {},
   "outputs": [],
   "source": [
    "import numpy as np\n",
    "import struct\n",
    "import os"
   ]
  },
  {
   "cell_type": "code",
   "execution_count": 71,
   "id": "20288751",
   "metadata": {},
   "outputs": [],
   "source": [
    "def downsample_dataset(dataset_filename : str, downsample_factor):\n",
    "    full_keyset = np.fromfile(\"../data/\" + dataset_filename + \"_ts_200M_uint64\", dtype=np.uint64)[1:]\n",
    "    reduced_keyset = np.delete(full_keyset, np.arange(0, full_keyset.size, downsample_factor))\n",
    "    downsampled_keyset = full_keyset[::downsample_factor]\n",
    "    print(\"Length of downsampled keyset: \", len(downsampled_keyset))\n",
    "    \n",
    "    with open(\"../data/\" + dataset_filename + \"_ts_1M_uint64\", \"wb\") as output_file:\n",
    "        output_file.write(struct.pack(\"Q\", len(nd)))\n",
    "        downsampled_keyset.tofile(output_file)"
   ]
  },
  {
   "cell_type": "code",
   "execution_count": 72,
   "id": "0160096f",
   "metadata": {},
   "outputs": [
    {
     "name": "stdout",
     "output_type": "stream",
     "text": [
      "Length of downsampled keyset:  1526\n"
     ]
    }
   ],
   "source": [
    "downsample_dataset(\"wiki\", 131072)"
   ]
  },
  {
   "cell_type": "code",
   "execution_count": null,
   "id": "783b6ece",
   "metadata": {},
   "outputs": [],
   "source": []
  },
  {
   "cell_type": "code",
   "execution_count": null,
   "id": "66efee13",
   "metadata": {},
   "outputs": [],
   "source": []
  }
 ],
 "metadata": {
  "kernelspec": {
   "display_name": "Python 3",
   "language": "python",
   "name": "python3"
  },
  "language_info": {
   "codemirror_mode": {
    "name": "ipython",
    "version": 3
   },
   "file_extension": ".py",
   "mimetype": "text/x-python",
   "name": "python",
   "nbconvert_exporter": "python",
   "pygments_lexer": "ipython3",
   "version": "3.9.2"
  }
 },
 "nbformat": 4,
 "nbformat_minor": 5
}
