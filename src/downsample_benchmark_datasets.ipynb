{
 "cells": [
  {
   "cell_type": "code",
   "execution_count": 49,
   "id": "930913fa",
   "metadata": {},
   "outputs": [],
   "source": [
    "import numpy as np\n",
    "import struct\n",
    "import os"
   ]
  },
  {
   "cell_type": "code",
   "execution_count": 50,
   "id": "d3dc66fe",
   "metadata": {},
   "outputs": [],
   "source": [
    "#file =  open(\"../data/wiki_ts_200M_uint64\", \"rb\")\n",
    "\n",
    "#read keys from file\n",
    "#wiki_keys = np.fromfile(file, dtype=np.uint64)\n",
    "\n",
    "full_keyset = np.fromfile(\"../data/wiki_ts_200M_uint64\", dtype=np.uint64)[1:]"
   ]
  },
  {
   "cell_type": "code",
   "execution_count": 51,
   "id": "ef6af571",
   "metadata": {},
   "outputs": [
    {
     "data": {
      "text/plain": [
       "array([ 979672113,  979672371,  979676171, ..., 1216240435, 1216240436,\n",
       "       1216240436], dtype=uint64)"
      ]
     },
     "execution_count": 51,
     "metadata": {},
     "output_type": "execute_result"
    }
   ],
   "source": [
    "full_keyset"
   ]
  },
  {
   "cell_type": "code",
   "execution_count": 52,
   "id": "7ed14478",
   "metadata": {},
   "outputs": [],
   "source": [
    "reduced_keyset = np.delete(full_keyset, np.arange(0, full_keyset.size, 128))"
   ]
  },
  {
   "cell_type": "code",
   "execution_count": 53,
   "id": "b1481a0a",
   "metadata": {},
   "outputs": [],
   "source": [
    "downsampled_keyset = d[::128]"
   ]
  },
  {
   "cell_type": "code",
   "execution_count": 54,
   "id": "74c72f0c",
   "metadata": {},
   "outputs": [
    {
     "data": {
      "text/plain": [
       "1562500"
      ]
     },
     "execution_count": 54,
     "metadata": {},
     "output_type": "execute_result"
    }
   ],
   "source": [
    "len(downsampled_keyset)"
   ]
  },
  {
   "cell_type": "code",
   "execution_count": 55,
   "id": "7f2518c8",
   "metadata": {},
   "outputs": [],
   "source": [
    "with open(\"../data/wiki_ts_1M_uint64\", \"wb\") as f:\n",
    "    f.write(struct.pack(\"Q\", len(nd)))\n",
    "    downsampled_keyset.tofile(f)"
   ]
  },
  {
   "cell_type": "code",
   "execution_count": 11,
   "id": "2857ecf7",
   "metadata": {},
   "outputs": [
    {
     "name": "stdout",
     "output_type": "stream",
     "text": [
      "[ 979672113  979672371  979676171 ... 1216240435 1216240436 1216240436]\n"
     ]
    }
   ],
   "source": []
  },
  {
   "cell_type": "code",
   "execution_count": null,
   "id": "105a1ac8",
   "metadata": {},
   "outputs": [],
   "source": []
  }
 ],
 "metadata": {
  "kernelspec": {
   "display_name": "Python 3",
   "language": "python",
   "name": "python3"
  },
  "language_info": {
   "codemirror_mode": {
    "name": "ipython",
    "version": 3
   },
   "file_extension": ".py",
   "mimetype": "text/x-python",
   "name": "python",
   "nbconvert_exporter": "python",
   "pygments_lexer": "ipython3",
   "version": "3.9.2"
  }
 },
 "nbformat": 4,
 "nbformat_minor": 5
}
