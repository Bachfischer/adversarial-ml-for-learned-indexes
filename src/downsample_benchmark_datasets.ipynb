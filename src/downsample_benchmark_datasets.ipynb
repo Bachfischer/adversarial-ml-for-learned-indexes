{
 "cells": [
  {
   "cell_type": "code",
   "execution_count": 21,
   "id": "18d33242",
   "metadata": {},
   "outputs": [],
   "source": [
    "import numpy as np\n",
    "import struct"
   ]
  },
  {
   "cell_type": "code",
   "execution_count": 71,
   "id": "20288751",
   "metadata": {},
   "outputs": [],
   "source": [
    "def downsample_dataset(dataset_filename : str, downsample_factor):\n",
    "    full_keyset = np.fromfile(\"../data/\" + dataset_filename + \"_ts_200M_uint64\", dtype=np.uint64)[1:]\n",
    "    reduced_keyset = np.delete(full_keyset, np.arange(0, full_keyset.size, downsample_factor))\n",
    "    downsampled_keyset = full_keyset[::downsample_factor]\n",
    "    print(\"Length of downsampled keyset: \", len(downsampled_keyset))\n",
    "    \n",
    "    with open(\"../data/\" + dataset_filename + \"_ts_1M_uint64\", \"wb\") as output_file:\n",
    "        output_file.write(struct.pack(\"Q\", len(downsampled_keyset)))\n",
    "        downsampled_keyset.tofile(output_file)"
   ]
  },
  {
   "cell_type": "code",
   "execution_count": 72,
   "id": "0160096f",
   "metadata": {},
   "outputs": [
    {
     "name": "stdout",
     "output_type": "stream",
     "text": [
      "Length of downsampled keyset:  1526\n"
     ]
    }
   ],
   "source": [
    "#downsample_dataset(\"wiki\", 131072)"
   ]
  },
  {
   "cell_type": "code",
   "execution_count": null,
   "id": "783b6ece",
   "metadata": {},
   "outputs": [],
   "source": []
  },
  {
   "cell_type": "markdown",
   "id": "72933582",
   "metadata": {},
   "source": [
    "## Visualization"
   ]
  },
  {
   "cell_type": "code",
   "execution_count": 2,
   "id": "fb0b4413",
   "metadata": {},
   "outputs": [],
   "source": [
    "from sklearn.linear_model import LinearRegression\n",
    "from sklearn import metrics\n",
    "\n",
    "import matplotlib.pyplot as plt  \n",
    "from matplotlib import colors\n",
    "from matplotlib.ticker import PercentFormatter"
   ]
  },
  {
   "cell_type": "code",
   "execution_count": 3,
   "id": "d6fab39a",
   "metadata": {},
   "outputs": [],
   "source": [
    "def abline(slope, intercept, color, label):\n",
    "    \"\"\"Plot a line from slope and intercept\"\"\"\n",
    "    axes = plt.gca()\n",
    "    x_vals = np.array(axes.get_xlim())\n",
    "    y_vals = intercept + slope * x_vals\n",
    "    plt.plot(x_vals, y_vals, '--', color=color, label = label)\n",
    "    plt.legend()\n",
    "    plt.xlabel('Keys')\n",
    "    plt.ylabel('Rank')"
   ]
  },
  {
   "cell_type": "code",
   "execution_count": 4,
   "id": "79fc921f",
   "metadata": {},
   "outputs": [],
   "source": [
    "def calculate_mean_squared_error(x, y):\n",
    "    regressor = LinearRegression()\n",
    "    regressor.fit(x, y) \n",
    "    y_pred = regressor.predict(x)\n",
    "    print('Mean Squared Error:', metrics.mean_squared_error(y, y_pred))  \n",
    "    # Plot outputs\n",
    "    plt.scatter(x, y,  color='black')\n",
    "    abline(regressor.coef_, regressor.intercept_, color=\"blue\", label=\"Regression line\")\n",
    "    plt.show()"
   ]
  },
  {
   "cell_type": "code",
   "execution_count": 5,
   "id": "fb2c06a4",
   "metadata": {},
   "outputs": [],
   "source": [
    "def plot_distribution_of_keys(X):\n",
    "    # we observe that poisoning keys are densly populated together\n",
    "    # get range for x-axis by looking at first and last element\n",
    "    plt.hist(X, bins = 100)\n",
    "    plt.show()"
   ]
  },
  {
   "cell_type": "code",
   "execution_count": 6,
   "id": "9e040a4a",
   "metadata": {},
   "outputs": [],
   "source": [
    "def plot_cdf(X):\n",
    "    plt.hist(X, bins = 100, density = True, cumulative=True, label='CDF', histtype='step', alpha=0.55, color='purple')\n",
    "    plt.show()"
   ]
  },
  {
   "cell_type": "code",
   "execution_count": 7,
   "id": "e0629d0c",
   "metadata": {},
   "outputs": [],
   "source": [
    "\"\"\"\n",
    "Source: Scipy - https://github.com/scipy/scipy/blob/v1.7.0/scipy/stats/stats.py#L8631-L8737\n",
    "\"\"\"\n",
    "def rankdata(array):\n",
    "    #arr = np.ravel(np.asarray(array))\n",
    "    algo = 'mergesort'\n",
    "    sorter = np.argsort(array, kind=algo)\n",
    "\n",
    "    inv = np.empty(sorter.size, dtype=np.intp)\n",
    "    inv[sorter] = np.arange(sorter.size, dtype=np.intp)\n",
    "    return inv + 1"
   ]
  },
  {
   "cell_type": "code",
   "execution_count": 8,
   "id": "4f05ebff",
   "metadata": {},
   "outputs": [],
   "source": [
    "def read_dataset(dataset_filename : str):\n",
    "    keyset = np.fromfile(\"../data/\" + dataset_filename, dtype=np.uint64)[1:]\n",
    "    print(\"Length of keyset: \", len(keyset))\n",
    "    rankset = rankdata(keyset)\n",
    "    keyset = keyset.reshape(-1, 1)\n",
    "    return (keyset, rankset)"
   ]
  },
  {
   "cell_type": "code",
   "execution_count": 60,
   "id": "089e2775",
   "metadata": {},
   "outputs": [
    {
     "name": "stdout",
     "output_type": "stream",
     "text": [
      "Length of keyset:  200000000\n"
     ]
    },
    {
     "data": {
      "image/png": "[encoded data removed]",
      "text/plain": [
       "<Figure size 432x288 with 1 Axes>"
      ]
     },
     "metadata": {
      "needs_background": "light"
     },
     "output_type": "display_data"
    }
   ],
   "source": [
    "X, y = read_dataset(\"books_200M_uint64\")\n",
    "plot_cdf(X)"
   ]
  },
  {
   "cell_type": "code",
   "execution_count": 37,
   "id": "7c013038",
   "metadata": {},
   "outputs": [
    {
     "name": "stdout",
     "output_type": "stream",
     "text": [
      "Length of keyset:  200000000\n"
     ]
    }
   ],
   "source": [
    "X, y = read_dataset(\"fb_200M_uint64\")"
   ]
  },
  {
   "cell_type": "code",
   "execution_count": 56,
   "id": "527189c7",
   "metadata": {},
   "outputs": [
    {
     "data": {
      "image/png": "[encoded data removed]",
      "text/plain": [
       "<Figure size 432x288 with 1 Axes>"
      ]
     },
     "metadata": {
      "needs_background": "light"
     },
     "output_type": "display_data"
    }
   ],
   "source": [
    "plot_distribution_of_keys(X[0:200000000-21])"
   ]
  },
  {
   "cell_type": "code",
   "execution_count": 58,
   "id": "75855944",
   "metadata": {},
   "outputs": [
    {
     "data": {
      "image/png": "[encoded data removed]",
      "text/plain": [
       "<Figure size 432x288 with 1 Axes>"
      ]
     },
     "metadata": {
      "needs_background": "light"
     },
     "output_type": "display_data"
    }
   ],
   "source": [
    "plot_cdf(X[0:200000000-21])"
   ]
  },
  {
   "cell_type": "code",
   "execution_count": 12,
   "id": "b6fd8657",
   "metadata": {},
   "outputs": [],
   "source": [
    "#calculate_mean_squared_error(X, y)"
   ]
  },
  {
   "cell_type": "code",
   "execution_count": null,
   "id": "7678d788",
   "metadata": {},
   "outputs": [],
   "source": []
  },
  {
   "cell_type": "code",
   "execution_count": 25,
   "id": "8c1dd6a7",
   "metadata": {},
   "outputs": [
    {
     "name": "stdout",
     "output_type": "stream",
     "text": [
      "Length of keyset:  200020000\n"
     ]
    }
   ],
   "source": [
    "X_poisoned, y_poisoned = read_dataset(\"poisoned_osm_cellids_200M_uint64\")"
   ]
  },
  {
   "cell_type": "code",
   "execution_count": 26,
   "id": "11d7498f",
   "metadata": {},
   "outputs": [
    {
     "data": {
      "image/png": "[encoded data removed]",
      "text/plain": [
       "<Figure size 432x288 with 1 Axes>"
      ]
     },
     "metadata": {
      "needs_background": "light"
     },
     "output_type": "display_data"
    }
   ],
   "source": [
    "plot_cdf(X_poisoned)"
   ]
  },
  {
   "cell_type": "markdown",
   "id": "79d079ec",
   "metadata": {},
   "source": [
    "## Experiments"
   ]
  },
  {
   "cell_type": "code",
   "execution_count": 27,
   "id": "29921940",
   "metadata": {},
   "outputs": [
    {
     "data": {
      "text/plain": [
       "array([[   33246697004540789],\n",
       "       [   33803812205905263],\n",
       "       [   35354035426312061],\n",
       "       ...,\n",
       "       [13748546747251582973],\n",
       "       [13748549577969753901],\n",
       "       [13748550930623082253]], dtype=uint64)"
      ]
     },
     "execution_count": 27,
     "metadata": {},
     "output_type": "execute_result"
    }
   ],
   "source": [
    "X"
   ]
  },
  {
   "cell_type": "code",
   "execution_count": 28,
   "id": "2736e3a1",
   "metadata": {},
   "outputs": [
    {
     "data": {
      "text/plain": [
       "array([[   33246697004540788],\n",
       "       [   33246697004540789],\n",
       "       [   33246697004540790],\n",
       "       ...,\n",
       "       [13748546747251582973],\n",
       "       [13748549577969753901],\n",
       "       [13748550930623082253]], dtype=uint64)"
      ]
     },
     "execution_count": 28,
     "metadata": {},
     "output_type": "execute_result"
    }
   ],
   "source": [
    "X_poisoned"
   ]
  },
  {
   "cell_type": "code",
   "execution_count": 29,
   "id": "ad1a1833",
   "metadata": {},
   "outputs": [
    {
     "data": {
      "text/plain": [
       "200000000"
      ]
     },
     "execution_count": 29,
     "metadata": {},
     "output_type": "execute_result"
    }
   ],
   "source": [
    "len(X[np.in1d(X, X_poisoned)])"
   ]
  },
  {
   "cell_type": "code",
   "execution_count": 31,
   "id": "55ed9e09",
   "metadata": {},
   "outputs": [],
   "source": [
    "temp = np.setdiff1d(X_poisoned, X)"
   ]
  },
  {
   "cell_type": "code",
   "execution_count": 36,
   "id": "2c6c4554",
   "metadata": {},
   "outputs": [
    {
     "data": {
      "text/plain": [
       "array([1192263903657061320, 1192263903657061321, 1192263903657061322,\n",
       "       1192263903657061323, 1192263903657061324, 1192263903657061325,\n",
       "       1192263903657061326, 1192263903657061327, 1192263903657061328,\n",
       "       1192263903657061329, 1192263903657061330, 1192263903657061331,\n",
       "       1192263903657061332, 1192263903657061333, 1192263903657061334,\n",
       "       1192263903657061335, 1192263903657061336, 1192263903657061337,\n",
       "       1192263903657061338, 1192263903657061339, 1192263903657061340,\n",
       "       1192263903657061341, 1192263903657061342, 1192263903657061343,\n",
       "       1192263903657061344, 1192263903657061345, 1192263903657061346,\n",
       "       1192263903657061347, 1192263903657061348, 1192263903657061349,\n",
       "       1192263903657061350, 1192263903657061351, 1192263903657061352,\n",
       "       1192263903657061353, 1192263903657061354, 1192263903657061355,\n",
       "       1192263903657061356, 1192263903657061357, 1192263903657061358,\n",
       "       1192263903657061359, 1192263903657061360, 1192263903657061361,\n",
       "       1192263903657061362, 1192263903657061363, 1192263903657061364,\n",
       "       1192263903657061365, 1192263903657061366, 1192263903657061367,\n",
       "       1192263903657061368, 1192263903657061369, 1192263903657061370,\n",
       "       1192263903657061371, 1192263903657061372, 1192263903657061373,\n",
       "       1192263903657061374, 1192263903657061375, 1192263903657061376,\n",
       "       1192263903657061377, 1192263903657061378, 1192263903657061379,\n",
       "       1192263903657061380, 1192263903657061381, 1192263903657061382,\n",
       "       1192263903657061383, 1192263903657061384, 1192263903657061385,\n",
       "       1192263903657061386, 1192263903657061387, 1192263903657061388,\n",
       "       1192263903657061389, 1192263903657061390, 1192263903657061391,\n",
       "       1192263903657061392, 1192263903657061393, 1192263903657061394,\n",
       "       1192263903657061395, 1192263903657061396, 1192263903657061397,\n",
       "       1192263903657061398, 1192263903657061399, 1192263903657061400,\n",
       "       1192263903657061401, 1192263903657061402, 1192263903657061403,\n",
       "       1192263903657061404, 1192263903657061405, 1192263903657061406,\n",
       "       1192263903657061407, 1192263903657061408, 1192263903657061409,\n",
       "       1192263903657061410, 1192263903657061411, 1192263903657061412,\n",
       "       1192263903657061413, 1192263903657061414, 1192263903657061415,\n",
       "       1192263903657061416, 1192263903657061417, 1192263903657061418,\n",
       "       1192263903657061419, 1192263903657061420, 1192263903657061421,\n",
       "       1192263903657061422, 1192263903657061423, 1192263903657061424,\n",
       "       1192263903657061425, 1192263903657061426, 1192263903657061427,\n",
       "       1192263903657061428, 1192263903657061429, 1192263903657061430,\n",
       "       1192263903657061431, 1192263903657061432, 1192263903657061433,\n",
       "       1192263903657061434, 1192263903657061435, 1192263903657061436,\n",
       "       1192263903657061437, 1192263903657061438, 1192263903657061439,\n",
       "       1192263903657061440, 1192263903657061441, 1192263903657061442,\n",
       "       1192263903657061443, 1192263903657061444, 1192263903657061445,\n",
       "       1192263903657061446, 1192263903657061447, 1192263903657061448,\n",
       "       1192263903657061449, 1192263903657061450, 1192263903657061451,\n",
       "       1192263903657061452, 1192263903657061453, 1192263903657061454,\n",
       "       1192263903657061455, 1192263903657061456, 1192263903657061457,\n",
       "       1192263903657061458, 1192263903657061459, 1192263903657061460,\n",
       "       1192263903657061461, 1192263903657061462, 1192263903657061463,\n",
       "       1192263903657061464, 1192263903657061465, 1192263903657061466,\n",
       "       1192263903657061467, 1192263903657061468, 1192263903657061469,\n",
       "       1192263903657061470, 1192263903657061471, 1192263903657061472,\n",
       "       1192263903657061473, 1192263903657061474, 1192263903657061475,\n",
       "       1192263903657061476, 1192263903657061477, 1192263903657061478,\n",
       "       1192263903657061479, 1192263903657061480, 1192263903657061481,\n",
       "       1192263903657061482, 1192263903657061483, 1192263903657061484,\n",
       "       1192263903657061485, 1192263903657061486, 1192263903657061487,\n",
       "       1192263903657061488, 1192263903657061489, 1192263903657061490,\n",
       "       1192263903657061491, 1192263903657061492, 1192263903657061493,\n",
       "       1192263903657061494, 1192263903657061495, 1192263903657061496,\n",
       "       1192263903657061497, 1192263903657061498, 1192263903657061499,\n",
       "       1192263903657061500, 1192263903657061501, 1192263903657061502,\n",
       "       1192263903657061503, 1192263903657061504, 1192263903657061505,\n",
       "       1192263903657061506, 1192263903657061507, 1192263903657061508,\n",
       "       1192263903657061509, 1192263903657061510, 1192263903657061511,\n",
       "       1192263903657061512, 1192263903657061513, 1192263903657061514,\n",
       "       1192263903657061515, 1192263903657061516, 1192263903657061517,\n",
       "       1192263903657061518, 1192263903657061519, 1192263903657061520,\n",
       "       1192263903657061521, 1192263903657061522, 1192263903657061523,\n",
       "       1192263903657061524, 1192263903657061525, 1192263903657061526,\n",
       "       1192263903657061527, 1192263903657061528, 1192263903657061529,\n",
       "       1192263903657061530, 1192263903657061531, 1192263903657061532,\n",
       "       1192263903657061533, 1192263903657061534, 1192263903657061535,\n",
       "       1192263903657061536, 1192263903657061537, 1192263903657061538,\n",
       "       1192263903657061539, 1192263903657061540, 1192263903657061541,\n",
       "       1192263903657061542, 1192263903657061543, 1192263903657061544,\n",
       "       1192263903657061545, 1192263903657061546, 1192263903657061547,\n",
       "       1192263903657061548, 1192263903657061549, 1192263903657061550,\n",
       "       1192263903657061551, 1192263903657061552, 1192263903657061553,\n",
       "       1192263903657061554, 1192263903657061555, 1192263903657061556,\n",
       "       1192263903657061557, 1192263903657061558, 1192263903657061559,\n",
       "       1192263903657061560, 1192263903657061561, 1192263903657061562,\n",
       "       1192263903657061563, 1192263903657061564, 1192263903657061565,\n",
       "       1192263903657061566, 1192263903657061567, 1192263903657061568,\n",
       "       1192263903657061569, 1192263903657061570, 1192263903657061571,\n",
       "       1192263903657061572, 1192263903657061573, 1192263903657061574,\n",
       "       1192263903657061575, 1192263903657061576, 1192263903657061577,\n",
       "       1192263903657061578, 1192263903657061579, 1192263903657061580,\n",
       "       1192263903657061581, 1192263903657061582, 1192263903657061583,\n",
       "       1192263903657061584, 1192263903657061585, 1192263903657061586,\n",
       "       1192263903657061587, 1192263903657061588, 1192263903657061589,\n",
       "       1192263903657061590, 1192263903657061591, 1192263903657061592,\n",
       "       1192263903657061593, 1192263903657061594, 1192263903657061595,\n",
       "       1192263903657061596, 1192263903657061597, 1192263903657061598,\n",
       "       1192263903657061599, 1192263903657061600, 1192263903657061601,\n",
       "       1192263903657061602, 1192263903657061603, 1192263903657061604,\n",
       "       1192263903657061605, 1192263903657061606, 1192263903657061607,\n",
       "       1192263903657061608, 1192263903657061609, 1192263903657061610,\n",
       "       1192263903657061611, 1192263903657061612, 1192263903657061613,\n",
       "       1192263903657061614, 1192263903657061615, 1192263903657061616,\n",
       "       1192263903657061617, 1192263903657061618, 1192263903657061619,\n",
       "       1192263903657061620, 1192263903657061621, 1192263903657061622,\n",
       "       1192263903657061623, 1192263903657061624, 1192263903657061625,\n",
       "       1192263903657061626, 1192263903657061627, 1192263903657061628,\n",
       "       1192263903657061629, 1192263903657061630, 1192263903657061631,\n",
       "       1192263903657061632, 1192263903657061633, 1192263903657061634,\n",
       "       1192263903657061635, 1192263903657061636, 1192263903657061637,\n",
       "       1192263903657061638, 1192263903657061639, 1192263903657061640,\n",
       "       1192263903657061641, 1192263903657061642, 1192263903657061643,\n",
       "       1192263903657061644, 1192263903657061645, 1192263903657061646,\n",
       "       1192263903657061647, 1192263903657061648, 1192263903657061649,\n",
       "       1192263903657061650, 1192263903657061651, 1192263903657061652,\n",
       "       1192263903657061653, 1192263903657061654, 1192263903657061655,\n",
       "       1192263903657061656, 1192263903657061657, 1192263903657061658,\n",
       "       1192263903657061659, 1192263903657061660, 1192263903657061661,\n",
       "       1192263903657061662, 1192263903657061663, 1192263903657061664,\n",
       "       1192263903657061665, 1192263903657061666, 1192263903657061667,\n",
       "       1192263903657061668, 1192263903657061669, 1192263903657061670,\n",
       "       1192263903657061671, 1192263903657061672, 1192263903657061673,\n",
       "       1192263903657061674, 1192263903657061675, 1192263903657061676,\n",
       "       1192263903657061677, 1192263903657061678, 1192263903657061679,\n",
       "       1192263903657061680, 1192263903657061681, 1192263903657061682,\n",
       "       1192263903657061683, 1192263903657061684, 1192263903657061685,\n",
       "       1192263903657061686, 1192263903657061687, 1192263903657061688,\n",
       "       1192263903657061689, 1192263903657061690, 1192263903657061691,\n",
       "       1192263903657061692, 1192263903657061693, 1192263903657061694,\n",
       "       1192263903657061695, 1192263903657061696, 1192263903657061697,\n",
       "       1192263903657061698, 1192263903657061699, 1192263903657061700,\n",
       "       1192263903657061701, 1192263903657061702, 1192263903657061703,\n",
       "       1192263903657061704, 1192263903657061705, 1192263903657061706,\n",
       "       1192263903657061707, 1192263903657061708, 1192263903657061709,\n",
       "       1192263903657061710, 1192263903657061711, 1192263903657061712,\n",
       "       1192263903657061713, 1192263903657061714, 1192263903657061715,\n",
       "       1192263903657061716, 1192263903657061717, 1192263903657061718,\n",
       "       1192263903657061719, 1192263903657061720, 1192263903657061721,\n",
       "       1192263903657061722, 1192263903657061723, 1192263903657061724,\n",
       "       1192263903657061725, 1192263903657061726, 1192263903657061727,\n",
       "       1192263903657061728, 1192263903657061729, 1192263903657061730,\n",
       "       1192263903657061731, 1192263903657061732, 1192263903657061733,\n",
       "       1192263903657061734, 1192263903657061735, 1192263903657061736,\n",
       "       1192263903657061737, 1192263903657061738, 1192263903657061739,\n",
       "       1192263903657061740, 1192263903657061741, 1192263903657061742,\n",
       "       1192263903657061743, 1192263903657061744, 1192263903657061745,\n",
       "       1192263903657061746, 1192263903657061747, 1192263903657061748,\n",
       "       1192263903657061749, 1192263903657061750, 1192263903657061751,\n",
       "       1192263903657061752, 1192263903657061753, 1192263903657061754,\n",
       "       1192263903657061755, 1192263903657061756, 1192263903657061757,\n",
       "       1192263903657061758, 1192263903657061759, 1192263903657061760,\n",
       "       1192263903657061761, 1192263903657061762, 1192263903657061763,\n",
       "       1192263903657061764, 1192263903657061765, 1192263903657061766,\n",
       "       1192263903657061767, 1192263903657061768, 1192263903657061769,\n",
       "       1192263903657061770, 1192263903657061771, 1192263903657061772,\n",
       "       1192263903657061773, 1192263903657061774, 1192263903657061775,\n",
       "       1192263903657061776, 1192263903657061777, 1192263903657061778,\n",
       "       1192263903657061779, 1192263903657061780, 1192263903657061781,\n",
       "       1192263903657061782, 1192263903657061783, 1192263903657061784,\n",
       "       1192263903657061785, 1192263903657061786, 1192263903657061787,\n",
       "       1192263903657061788, 1192263903657061789, 1192263903657061790,\n",
       "       1192263903657061791, 1192263903657061792, 1192263903657061793,\n",
       "       1192263903657061794, 1192263903657061795, 1192263903657061796,\n",
       "       1192263903657061797, 1192263903657061798, 1192263903657061799,\n",
       "       1192263903657061800, 1192263903657061801, 1192263903657061802,\n",
       "       1192263903657061803, 1192263903657061804, 1192263903657061805,\n",
       "       1192263903657061806, 1192263903657061807, 1192263903657061808,\n",
       "       1192263903657061809, 1192263903657061810, 1192263903657061811,\n",
       "       1192263903657061812, 1192263903657061813, 1192263903657061814,\n",
       "       1192263903657061815, 1192263903657061816, 1192263903657061817,\n",
       "       1192263903657061818, 1192263903657061819, 1192263903657061820,\n",
       "       1192263903657061821, 1192263903657061822, 1192263903657061823,\n",
       "       1192263903657061824, 1192263903657061825, 1192263903657061826,\n",
       "       1192263903657061827, 1192263903657061828, 1192263903657061829,\n",
       "       1192263903657061830, 1192263903657061831, 1192263903657061832,\n",
       "       1192263903657061833, 1192263903657061834, 1192263903657061835,\n",
       "       1192263903657061836, 1192263903657061837, 1192263903657061838,\n",
       "       1192263903657061839, 1192263903657061840, 1192263903657061841,\n",
       "       1192263903657061842, 1192263903657061843, 1192263903657061844,\n",
       "       1192263903657061845, 1192263903657061846, 1192263903657061847,\n",
       "       1192263903657061848, 1192263903657061849, 1192263903657061850,\n",
       "       1192263903657061851, 1192263903657061852, 1192263903657061853,\n",
       "       1192263903657061854, 1192263903657061855, 1192263903657061856,\n",
       "       1192263903657061857, 1192263903657061858, 1192263903657061859,\n",
       "       1192263903657061860, 1192263903657061861, 1192263903657061862,\n",
       "       1192263903657061863, 1192263903657061864, 1192263903657061865,\n",
       "       1192263903657061866, 1192263903657061867, 1192263903657061868,\n",
       "       1192263903657061869, 1192263903657061870, 1192263903657061871,\n",
       "       1192263903657061872, 1192263903657061873, 1192263903657061874,\n",
       "       1192263903657061875, 1192263903657061876, 1192263903657061877,\n",
       "       1192263903657061878, 1192263903657061879, 1192263903657061880,\n",
       "       1192263903657061881, 1192263903657061882, 1192263903657061883,\n",
       "       1192263903657061884, 1192263903657061885, 1192263903657061886,\n",
       "       1192263903657061887, 1192263903657061888, 1192263903657061889,\n",
       "       1192263903657061890, 1192263903657061891, 1192263903657061892,\n",
       "       1192263903657061893, 1192263903657061894, 1192263903657061895,\n",
       "       1192263903657061896, 1192263903657061897, 1192263903657061898,\n",
       "       1192263903657061900, 1192263903657061901, 1192263903657061902,\n",
       "       1192263903657061903, 1192263903657061904, 1192263903657061905,\n",
       "       1192263903657061906, 1192263903657061907, 1192263903657061908,\n",
       "       1192263903657061909, 1192263903657061911, 1192263903657061912,\n",
       "       1192263903657061913, 1192263903657061914, 1192263903657061915,\n",
       "       1192263903657061916, 1192263903657061918, 1192263903657061919,\n",
       "       1192263903657061920, 1192263903657061927, 1192263903657061947,\n",
       "       1359467590753533696, 1359467590753533697, 1359467590753533698,\n",
       "       1359467590753533699, 1359467590753533700, 1359467590753533701,\n",
       "       1359467590753533702, 1359467590753533703, 1359467590753533704,\n",
       "       1359467590753533705, 1359467590753533706, 1359467590753533707,\n",
       "       1359467590753533708, 1359467590753533709, 1359467590753533710,\n",
       "       1359467590753533711, 1359467590753533712, 1359467590753533713,\n",
       "       1359467590753533714, 1359467590753533715, 1359467590753533716,\n",
       "       1359467590753533717, 1359467590753533718, 1359467590753533719,\n",
       "       1359467590753533720, 1359467590753533721, 1359467590753533722,\n",
       "       1359467590753533723, 1359467590753533724, 1359467590753533725,\n",
       "       1359467590753533726, 1359467590753533727, 1359467590753533728,\n",
       "       1359467590753533729, 1359467590753533730, 1359467590753533731,\n",
       "       1359467590753533732, 1359467590753533733, 1359467590753533734,\n",
       "       1359467590753533735, 1359467590753533736, 1359467590753533737,\n",
       "       1359467590753533738, 1359467590753533739, 1359467590753533740,\n",
       "       1359467590753533741, 1359467590753533742, 1359467590753533743,\n",
       "       1359467590753533744, 1359467590753533745, 1359467590753533746,\n",
       "       1359467590753533747, 1359467590753533748, 1359467590753533749,\n",
       "       1359467590753533750, 1359467590753533751, 1359467590753533752,\n",
       "       1359467590753533753, 1359467590753533754, 1359467590753533755,\n",
       "       1359467590753533756, 1359467590753533757, 1359467590753533758,\n",
       "       1359467590753533760, 1359467590753533761, 1359467590753533762,\n",
       "       1359467590753533763, 1359467590753533764, 1359467590753533765,\n",
       "       1359467590753533766, 1359467590753533767, 1359467590753533768,\n",
       "       1359467590753533769, 1359467590753533770, 1359467590753533771,\n",
       "       1359467590753533772, 1359467590753533773, 1359467590753533774,\n",
       "       1359467590753533775, 1359467590753533776, 1359467590753533777,\n",
       "       1359467590753533778, 1359467590753533779, 1359467590753533780,\n",
       "       1359467590753533781, 1359467590753533782, 1359467590753533783,\n",
       "       1359467590753533784, 1359467590753533785, 1359467590753533786,\n",
       "       1359467590753533787, 1359467590753533788, 1359467590753533789,\n",
       "       1359467590753533790, 1359467590753533791, 1359467590753533792,\n",
       "       1359467590753533793, 1359467590753533794, 1359467590753533795,\n",
       "       1359467590753533796, 1359467590753533797, 1359467590753533798,\n",
       "       1359467590753533799, 1359467590753533800, 1359467590753533801,\n",
       "       1359467590753533802, 1359467590753533803, 1359467590753533804,\n",
       "       1359467590753533805, 1359467590753533806, 1359467590753533807,\n",
       "       1359467590753533808, 1359467590753533809, 1359467590753533810,\n",
       "       1359467590753533811, 1359467590753533812, 1359467590753533813,\n",
       "       1359467590753533814, 1359467590753533815, 1359467590753533816,\n",
       "       1359467590753533817, 1359467590753533818, 1359467590753533819,\n",
       "       1359467590753533820, 1359467590753533821, 1359467590753533822,\n",
       "       1359467590753533823, 1359467590753533824, 1359467590753533825,\n",
       "       1359467590753533826, 1359467590753533827, 1359467590753533828,\n",
       "       1359467590753533829, 1359467590753533830, 1359467590753533831,\n",
       "       1359467590753533832, 1359467590753533833, 1359467590753533834,\n",
       "       1359467590753533835, 1359467590753533836, 1359467590753533837,\n",
       "       1359467590753533838, 1359467590753533839, 1359467590753533840,\n",
       "       1359467590753533841, 1359467590753533842, 1359467590753533843,\n",
       "       1359467590753533844, 1359467590753533845, 1359467590753533846,\n",
       "       1359467590753533847, 1359467590753533848, 1359467590753533849,\n",
       "       1359467590753533850, 1359467590753533851, 1359467590753533852,\n",
       "       1359467590753533853, 1359467590753533854, 1359467590753533855,\n",
       "       1359467590753533856, 1359467590753533857, 1359467590753533858,\n",
       "       1359467590753533859, 1359467590753533860, 1359467590753533861,\n",
       "       1359467590753533862, 1359467590753533863, 1359467590753533864,\n",
       "       1359467590753533865, 1359467590753533866, 1359467590753533867,\n",
       "       1359467590753533868, 1359467590753533869, 1359467590753533870,\n",
       "       1359467590753533871, 1359467590753533872, 1359467590753533873,\n",
       "       1359467590753533874, 1359467590753533875, 1359467590753533876,\n",
       "       1359467590753533877, 1359467590753533878, 1359467590753533879,\n",
       "       1359467590753533880, 1359467590753533881, 1359467590753533882,\n",
       "       1359467590753533883, 1359467590753533884, 1359467590753533885,\n",
       "       1359467590753533886, 1359467590753533887, 1359467590753533888,\n",
       "       1359467590753533889, 1359467590753533890, 1359467590753533891,\n",
       "       1359467590753533892, 1359467590753533893, 1359467590753533894,\n",
       "       1359467590753533895, 1359467590753533896, 1359467590753533897,\n",
       "       1359467590753533898, 1359467590753533899, 1359467590753533900,\n",
       "       1359467590753533901, 1359467590753533902, 1359467590753533903,\n",
       "       1359467590753533904, 1359467590753533905, 1359467590753533906,\n",
       "       1359467590753533907, 1359467590753533908, 1359467590753533909,\n",
       "       1359467590753533910, 1359467590753533911, 1359467590753533912,\n",
       "       1359467590753533913, 1359467590753533914, 1359467590753533915,\n",
       "       1359467590753533916, 1359467590753533917, 1359467590753533918,\n",
       "       1359467590753533919, 1359467590753533920, 1359467590753533921,\n",
       "       1359467590753533922, 1359467590753533923, 1359467590753533924,\n",
       "       1359467590753533925, 1359467590753533926, 1359467590753533927,\n",
       "       1359467590753533928, 1359467590753533929, 1359467590753533930,\n",
       "       1359467590753533931, 1359467590753533932, 1359467590753533933,\n",
       "       1359467590753533934, 1359467590753533935, 1359467590753533936,\n",
       "       1359467590753533937, 1359467590753533938, 1359467590753533939,\n",
       "       1359467590753533940, 1359467590753533941, 1359467590753533942,\n",
       "       1359467590753533943, 1359467590753533944, 1359467590753533945,\n",
       "       1359467590753533946, 1359467590753533947, 1359467590753533948,\n",
       "       1359467590753533949, 1359467590753533950, 1359467590753533951,\n",
       "       1359467590753533952, 1359467590753533953, 1359467590753533954,\n",
       "       1359467590753533955, 1359467590753533956, 1359467590753533957,\n",
       "       1359467590753533958, 1359467590753533959, 1359467590753533960,\n",
       "       1359467590753533961, 1359467590753533962, 1359467590753533963,\n",
       "       1359467590753533964, 1359467590753533965, 1359467590753533966,\n",
       "       1359467590753533967, 1359467590753533968, 1359467590753533969,\n",
       "       1359467590753533970, 1359467590753533971, 1359467590753533972,\n",
       "       1359467590753533973, 1359467590753533974, 1359467590753533975,\n",
       "       1359467590753533976, 1359467590753533977, 1359467590753533978,\n",
       "       1359467590753533979, 1359467590753533980, 1359467590753533981,\n",
       "       1359467590753533982, 1359467590753533983, 1359467590753533984,\n",
       "       1359467590753533985, 1359467590753533986, 1359467590753533987,\n",
       "       1359467590753533988, 1359467590753533989, 1359467590753533990,\n",
       "       1359467590753533991, 1359467590753533992, 1359467590753533993,\n",
       "       1359467590753533994, 1359467590753533995, 1359467590753533996,\n",
       "       1359467590753533997, 1359467590753533998, 1359467590753533999,\n",
       "       1359467590753534000, 1359467590753534001, 1359467590753534002,\n",
       "       1359467590753534003, 1359467590753534004, 1359467590753534005,\n",
       "       1359467590753534006, 1359467590753534007, 1359467590753534008,\n",
       "       1359467590753534009, 1359467590753534010, 1359467590753534011,\n",
       "       1359467590753534012, 1359467590753534013, 1359467590753534014,\n",
       "       1359467590753534015, 1359467590753534016, 1359467590753534017,\n",
       "       1359467590753534018, 1359467590753534019, 1359467590753534020,\n",
       "       1359467590753534021, 1359467590753534022, 1359467590753534023,\n",
       "       1359467590753534024, 1359467590753534025, 1359467590753534026,\n",
       "       1359467590753534027, 1359467590753534028, 1359467590753534029,\n",
       "       1359467590753534030, 1359467590753534031, 1359467590753534032,\n",
       "       1359467590753534033, 1359467590753534034, 1359467590753534035,\n",
       "       1359467590753534036, 1359467590753534037, 1359467590753534038,\n",
       "       1359467590753534039, 1359467590753534040, 1359467590753534041,\n",
       "       1359467590753534042, 1359467590753534043, 1359467590753534044,\n",
       "       1359467590753534045, 1359467590753534046, 1359467590753534047,\n",
       "       1359467590753534048, 1359467590753534049, 1359467590753534050,\n",
       "       1359467590753534051, 1359467590753534052, 1359467590753534053,\n",
       "       1359467590753534054, 1359467590753534055, 1359467590753534056,\n",
       "       1359467590753534057, 1359467590753534058, 1359467590753534059,\n",
       "       1359467590753534060, 1359467590753534061, 1359467590753534062,\n",
       "       1359467590753534063, 1359467590753534064, 1359467590753534065,\n",
       "       1359467590753534066, 1359467590753534067, 1359467590753534068,\n",
       "       1359467590753534069, 1359467590753534070, 1359467590753534071,\n",
       "       1359467590753534072, 1359467590753534073, 1359467590753534074,\n",
       "       1359467590753534075, 1359467590753534076, 1359467590753534077,\n",
       "       1359467590753534078, 1359467590753534079, 1359467590753534080,\n",
       "       1359467590753534081, 1359467590753534082, 1359467590753534083,\n",
       "       1359467590753534084, 1359467590753534085, 1359467590753534086,\n",
       "       1359467590753534087, 1359467590753534088, 1359467590753534089,\n",
       "       1359467590753534090, 1359467590753534091, 1359467590753534092,\n",
       "       1359467590753534093, 1359467590753534094, 1359467590753534095,\n",
       "       1359467590753534096], dtype=uint64)"
      ]
     },
     "execution_count": 36,
     "metadata": {},
     "output_type": "execute_result"
    }
   ],
   "source": [
    "temp[1000:2000]"
   ]
  },
  {
   "cell_type": "code",
   "execution_count": null,
   "id": "50162b50",
   "metadata": {},
   "outputs": [],
   "source": []
  }
 ],
 "metadata": {
  "kernelspec": {
   "display_name": "Python 3",
   "language": "python",
   "name": "python3"
  },
  "language_info": {
   "codemirror_mode": {
    "name": "ipython",
    "version": 3
   },
   "file_extension": ".py",
   "mimetype": "text/x-python",
   "name": "python",
   "nbconvert_exporter": "python",
   "pygments_lexer": "ipython3",
   "version": "3.9.2"
  }
 },
 "nbformat": 4,
 "nbformat_minor": 5
}
