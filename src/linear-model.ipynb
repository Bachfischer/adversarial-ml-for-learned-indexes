{
 "cells": [
  {
   "cell_type": "code",
   "execution_count": 7,
   "id": "45a545e8",
   "metadata": {},
   "outputs": [],
   "source": [
    "import csv\n",
    "import numpy as np\n",
    "import pandas as pd\n",
    "from itertools import groupby\n",
    "\n",
    "from sklearn.linear_model import LinearRegression\n",
    "from sklearn.model_selection import train_test_split\n",
    "from sklearn import metrics \n",
    "import matplotlib.pyplot as plt  \n",
    "import warnings, datetime\n",
    "import scipy.stats as ss\n"
   ]
  },
  {
   "cell_type": "code",
   "execution_count": 8,
   "id": "41953c02",
   "metadata": {},
   "outputs": [],
   "source": [
    "df=pd.read_csv('data/random_500.csv', sep=',',header=None)"
   ]
  },
  {
   "cell_type": "code",
   "execution_count": 9,
   "id": "4009fa19",
   "metadata": {},
   "outputs": [],
   "source": [
    "# x value is the key, y value is the rank\n",
    "X = np.array(df[0]).reshape(-1, 1)\n",
    "y = df[1]"
   ]
  },
  {
   "cell_type": "markdown",
   "id": "dc627206",
   "metadata": {},
   "source": [
    "## Greedy Poisoning Regression CDF"
   ]
  },
  {
   "cell_type": "code",
   "execution_count": 10,
   "id": "6a1d36f4",
   "metadata": {},
   "outputs": [],
   "source": [
    "def extract_non_occupied_keys(keyset):\n",
    "    \n",
    "    n = keyset.shape[0]\n",
    "    lower_bound = int(keyset[0]-1)\n",
    "    upper_bound = int(keyset[n-1]+1)\n",
    "    non_occupied_keys = []\n",
    "    for i in range(lower_bound, upper_bound + 1):\n",
    "        if i not in keyset:\n",
    "            non_occupied_keys.append(i)\n",
    "        \n",
    "    return non_occupied_keys\n",
    "\n",
    "\n",
    "def extract_seq(seq):\n",
    "    return [\n",
    "        [x for _, x in g]\n",
    "        for k, g in groupby(\n",
    "            enumerate(seq), \n",
    "            lambda i_x : i_x[0] - i_x[1]\n",
    "        )\n",
    "    ]   \n",
    "\n",
    "def extract_endpoints(subsequences):\n",
    "    endpoints = []\n",
    "    for sequence in subsequences:\n",
    "        if len(sequence) == 1:\n",
    "            endpoints.append(sequence[0])\n",
    "        else:\n",
    "            endpoints.append(sequence[0])\n",
    "            endpoints.append(sequence[len(sequence)-1])\n",
    "            \n",
    "    return endpoints\n",
    "\n",
    "def partition_non_occupied_keys(K, P):\n",
    "    keyset = np.append(K, list(P))\n",
    "    keyset = np.sort(keyset)\n",
    "\n",
    "    non_occupied_keys = extract_non_occupied_keys(keyset)\n",
    "    \n",
    "    subsequences = extract_seq(non_occupied_keys)\n",
    "    endpoints = extract_endpoints(subsequences)\n",
    "    return np.array(endpoints)\n",
    "\n",
    "\n",
    "def compute_rank_for_endpoints(endpoints):\n",
    "    list_rank = []\n",
    "    \n",
    "    for endpoint in endpoints:\n",
    "        rank_X = X.copy()\n",
    "        rank_X = np.append(rank_X, endpoint)\n",
    "        rank = list(ss.rankdata(rank_X))\n",
    "        #print(rank_X)\n",
    "        list_rank.append(int(rank[len(rank)-1]))\n",
    "    \n",
    "    return list_rank\n",
    "    "
   ]
  },
  {
   "cell_type": "code",
   "execution_count": 69,
   "id": "bd9b1ed5",
   "metadata": {},
   "outputs": [],
   "source": [
    "import operator\n",
    "from statistics import mean\n",
    "\n",
    "\n",
    "S = None\n",
    "T = None\n",
    "\n",
    "delta_S = {}\n",
    "M_k = {}\n",
    "M_k_square = {}\n",
    "\n",
    "M_R = {}\n",
    "M_R_square = {}\n",
    "M_KR = {}\n",
    "\n",
    "L = {}\n",
    "\n",
    "def reset_values():\n",
    "    delta_S = {}\n",
    "    M_k = {}\n",
    "    M_k_square = {}\n",
    "    M_R = {}\n",
    "    M_R_square = {}\n",
    "    M_KR = {}\n",
    "    L = {}\n",
    "\n",
    "\n",
    "\n",
    "def calculate_initial_effects(i, S, T):\n",
    "    \n",
    "    keyset = np.array(X.copy())\n",
    "    keyset = np.append(keyset, S[i])\n",
    "    M_k[i] = mean(keyset)\n",
    "    \n",
    "    rankset = y.copy()\n",
    "    rankset = np.append(rankset, T[i])\n",
    "    M_R[i] = mean(rankset)\n",
    "    \n",
    "    M_k_square[i] = np.mean(keyset**2)\n",
    "    \n",
    "    M_R_square[i] = np.mean(rankset**2)\n",
    "    \n",
    "    M_KR[i] = np.mean(keyset*rankset)\n",
    "    \n",
    "    nominator = (M_KR[i] - (M_k[i] * M_R[i]))**2\n",
    "    denominator = M_k_square[i] - (M_k[i])**2\n",
    "    L[i] = - (nominator / denominator) + M_R_square[i] - (M_R[i])**2\n",
    "\n",
    "def calculate_effects(i, S, T):\n",
    "        # Total number of elements\n",
    "        n = df.shape[0]\n",
    "        \n",
    "        delta_S[i] = S[i+1] - S[i] \n",
    "\n",
    "        M_k[i] = M_k[i-1] + delta_S[i] / (n) \n",
    "        M_k_square[i] = M_k_square[i-1] + (( 2 * S[i] + delta_S[i]) * delta_S[i]) / (n + 1) \n",
    "\n",
    "        M_R[i] = (n + 2) / 2\n",
    "        M_R_square[i] = ((n+2)*(2*n+3)) / 6\n",
    "        M_KR[i] = M_KR[i-1] + ( T[i-1] * delta_S[i]) / (n + 1)\n",
    "\n",
    "        nominator = (M_KR[i] - M_k[i]*M_R[i])**2\n",
    "        denominator = M_k_square[i] - (M_k[i])**2\n",
    "        L[i] = - (nominator / denominator) + M_R_square[i] - (M_R[i])**2\n",
    "    \n",
    "\n",
    "def obtain_poisoning_keys(p):\n",
    "    # Total number of elements\n",
    "    n = df.shape[0]\n",
    "\n",
    "    # Number of posoning keys p\n",
    "    P = p * n\n",
    "    poisoning_keys = set()\n",
    "\n",
    "    for j in range(int(P)):\n",
    "        # Partition the non-occupied keys into subsequences such that each subsequence consists of consecutive non-occupied keys;\n",
    "        # Extract the endpoints of each subsequence and sort them to construct the new sequence of endpoints S(i), where i <= 2(n + j);\n",
    "        endpoints = partition_non_occupied_keys(X, poisoning_keys)\n",
    "\n",
    "        # Compute the rank that key S(i) would have if it was inserted in K union P and assign this rank as the i-th element of the new sequence T (i), where i <= 2(n + j)\n",
    "        list_rank = compute_rank_for_endpoints(endpoints)\n",
    "\n",
    "        # Compute the effect of choosing S(1) as a poisoning key and inserting it to K union P with the appropriate rank adjustments. \n",
    "        # Specifically, evaluate the sequences each of which is the mean M for a different variable, e.g., K, R, KR. Compute MK (1), MK2 (1), MKR(1), and L(1) ;\n",
    "        reset_values()\n",
    "\n",
    "        S = endpoints\n",
    "        T = list_rank\n",
    "\n",
    "\n",
    "        calculate_initial_effects(0, S, T)\n",
    "\n",
    "        for i in range(1, len(endpoints)-1):\n",
    "            calculate_effects(i, S, T)\n",
    "\n",
    "        # get argmax of items in L\n",
    "        optimal_key_index = max(L.items(), key=operator.itemgetter(1))[0]\n",
    "        #print(S[optimal_key_index])\n",
    "        poisoning_keys.add(S[optimal_key_index])\n",
    "        #print(L)\n",
    "    \n",
    "    return poisoning_keys"
   ]
  },
  {
   "cell_type": "code",
   "execution_count": null,
   "id": "3458507b",
   "metadata": {},
   "outputs": [],
   "source": []
  },
  {
   "cell_type": "markdown",
   "id": "426c2566",
   "metadata": {},
   "source": [
    "## Linear regression with non-poissoned keys"
   ]
  },
  {
   "cell_type": "code",
   "execution_count": 70,
   "id": "3c5aa704",
   "metadata": {},
   "outputs": [],
   "source": [
    "regressor_legitimate = LinearRegression()\n",
    "regressor_legitimate.fit(X, y) \n",
    "\n",
    "y_pred = regressor_legitimate.predict(X)"
   ]
  },
  {
   "cell_type": "code",
   "execution_count": 71,
   "id": "fe326af5",
   "metadata": {},
   "outputs": [
    {
     "name": "stdout",
     "output_type": "stream",
     "text": [
      "------------------\n",
      "Mean Squared Error: 14.705531571425096\n"
     ]
    }
   ],
   "source": [
    "print(\"------------------\")\n",
    "print('Mean Squared Error:', metrics.mean_squared_error(y, y_pred))  \n",
    "mse_legitimate = metrics.mean_squared_error(y, y_pred)"
   ]
  },
  {
   "cell_type": "code",
   "execution_count": 72,
   "id": "929bf7d8",
   "metadata": {},
   "outputs": [
    {
     "data": {
      "image/png": "[encoded data removed]",
      "text/plain": [
       "<Figure size 432x288 with 1 Axes>"
      ]
     },
     "metadata": {
      "needs_background": "light"
     },
     "output_type": "display_data"
    }
   ],
   "source": [
    "def abline(slope, intercept):\n",
    "    \"\"\"Plot a line from slope and intercept\"\"\"\n",
    "    axes = plt.gca()\n",
    "    x_vals = np.array(axes.get_xlim())\n",
    "    y_vals = intercept + slope * x_vals\n",
    "    plt.plot(x_vals, y_vals, '--')\n",
    "\n",
    "# Plot outputs\n",
    "plt.scatter(X, y,  color='black')\n",
    "abline(regressor_legitimate.coef_, regressor_legitimate.intercept_)\n",
    "plt.show()"
   ]
  },
  {
   "cell_type": "markdown",
   "id": "ce21d259",
   "metadata": {},
   "source": [
    "## Linear regression with poissoned keys"
   ]
  },
  {
   "cell_type": "code",
   "execution_count": 73,
   "id": "891ee8f1",
   "metadata": {},
   "outputs": [],
   "source": [
    "poisoning_keys = obtain_poisoning_keys(p = 0.2)"
   ]
  },
  {
   "cell_type": "code",
   "execution_count": 74,
   "id": "e3ec4b84",
   "metadata": {},
   "outputs": [
    {
     "data": {
      "image/png": "[encoded data removed]",
      "text/plain": [
       "<Figure size 432x288 with 1 Axes>"
      ]
     },
     "metadata": {
      "needs_background": "light"
     },
     "output_type": "display_data"
    }
   ],
   "source": [
    "import matplotlib.pyplot as plt\n",
    "import numpy as np\n",
    "from matplotlib import colors\n",
    "from matplotlib.ticker import PercentFormatter\n",
    "\n",
    "def plot_poisoning_keys(poisoning_keys):\n",
    "    # we observe that poissoning keys are densly populated together\n",
    "    plt.hist(poisoning_keys, bins = 10, range=[0, df[0][len(df)-1]])\n",
    "    plt.show()\n",
    "\n",
    "plot_poisoning_keys(poisoning_keys)"
   ]
  },
  {
   "cell_type": "code",
   "execution_count": 75,
   "id": "05c82ad4",
   "metadata": {},
   "outputs": [],
   "source": [
    "X_poissoned = np.append(X, list(poisoning_keys))\n",
    "y_poissoned = ss.rankdata(X_poissoned)"
   ]
  },
  {
   "cell_type": "code",
   "execution_count": 76,
   "id": "33ac5214",
   "metadata": {},
   "outputs": [],
   "source": [
    "X_poissoned = X_poissoned.reshape(-1,1)\n",
    "regressor_poissoned = LinearRegression()\n",
    "regressor_poissoned.fit(X_poissoned, y_poissoned)  \n",
    "\n",
    "y_poissoned_pred = regressor_poissoned.predict(X_poissoned)"
   ]
  },
  {
   "cell_type": "code",
   "execution_count": 77,
   "id": "5b9eb07f",
   "metadata": {},
   "outputs": [
    {
     "name": "stdout",
     "output_type": "stream",
     "text": [
      "------------------\n",
      "Mean Squared Error: 313.3296896963877\n"
     ]
    }
   ],
   "source": [
    "print(\"------------------\")\n",
    "print('Mean Squared Error:', metrics.mean_squared_error(y_poissoned, y_poissoned_pred))  \n",
    "mse_poissoned = metrics.mean_squared_error(y_poissoned, y_poissoned_pred)"
   ]
  },
  {
   "cell_type": "code",
   "execution_count": 78,
   "id": "ded28605",
   "metadata": {},
   "outputs": [],
   "source": [
    "ratio_loss =  mse_poissoned / mse_legitimate"
   ]
  },
  {
   "cell_type": "code",
   "execution_count": 79,
   "id": "0dbf03c4",
   "metadata": {},
   "outputs": [
    {
     "name": "stdout",
     "output_type": "stream",
     "text": [
      "21.30692713653623\n"
     ]
    }
   ],
   "source": [
    "print(ratio_loss)"
   ]
  },
  {
   "cell_type": "code",
   "execution_count": 80,
   "id": "8f0f6b1c",
   "metadata": {},
   "outputs": [
    {
     "data": {
      "image/png": "[encoded data removed]",
      "text/plain": [
       "<Figure size 432x288 with 1 Axes>"
      ]
     },
     "metadata": {
      "needs_background": "light"
     },
     "output_type": "display_data"
    }
   ],
   "source": [
    "# Plot outputs\n",
    "plt.scatter(X_poissoned, y_poissoned,  color='black')\n",
    "abline(regressor_poissoned.coef_, regressor_poissoned.intercept_)\n",
    "plt.show()"
   ]
  },
  {
   "cell_type": "markdown",
   "id": "0318c849",
   "metadata": {},
   "source": [
    "## Experiments"
   ]
  },
  {
   "cell_type": "code",
   "execution_count": null,
   "id": "f7dd8f0e",
   "metadata": {},
   "outputs": [],
   "source": []
  },
  {
   "cell_type": "code",
   "execution_count": 85,
   "id": "97d0ceb2",
   "metadata": {},
   "outputs": [
    {
     "name": "stdout",
     "output_type": "stream",
     "text": [
      "------------------\n",
      "Mean Squared Error: 19.593873342240812\n",
      "------------------\n",
      "Mean Squared Error: 25.362443611616705\n",
      "------------------\n",
      "Mean Squared Error: 37.6545958726067\n",
      "------------------\n",
      "Mean Squared Error: 47.94161826733278\n",
      "------------------\n",
      "Mean Squared Error: 63.248337105765025\n",
      "------------------\n",
      "Mean Squared Error: 80.01137727248495\n",
      "------------------\n",
      "Mean Squared Error: 87.38468715028186\n",
      "------------------\n",
      "Mean Squared Error: 88.32178063766662\n",
      "------------------\n",
      "Mean Squared Error: 91.10630058552096\n",
      "------------------\n",
      "Mean Squared Error: 96.00220629846436\n",
      "------------------\n",
      "Mean Squared Error: 103.25630924928554\n",
      "------------------\n",
      "Mean Squared Error: 113.00168142069712\n",
      "------------------\n",
      "Mean Squared Error: 127.26158215550312\n",
      "------------------\n",
      "Mean Squared Error: 142.77838884597824\n",
      "------------------\n",
      "Mean Squared Error: 168.37143102210638\n"
     ]
    }
   ],
   "source": [
    "poisoning_percentages = np.linspace(0.01, 0.15, num= 15)\n",
    "\n",
    "ratio_losses = []\n",
    "\n",
    "for percentage in poisoning_percentages:\n",
    "    poisoning_keys = obtain_poisoning_keys(p = percentage)\n",
    "    \n",
    "    #plot_poisoning_keys(poisoning_keys)\n",
    "    \n",
    "    X_poissoned = np.append(X, list(poisoning_keys))\n",
    "    y_poissoned = ss.rankdata(X_poissoned)\n",
    "    \n",
    "    X_poissoned = X_poissoned.reshape(-1,1)\n",
    "    regressor_poissoned = LinearRegression()\n",
    "    regressor_poissoned.fit(X_poissoned, y_poissoned)  \n",
    "\n",
    "    y_poissoned_pred = regressor_poissoned.predict(X_poissoned)\n",
    "    \n",
    "    print(\"------------------\")\n",
    "    print('Mean Squared Error:', metrics.mean_squared_error(y_poissoned, y_poissoned_pred))  \n",
    "    mse_poissoned = metrics.mean_squared_error(y_poissoned, y_poissoned_pred)\n",
    "    ratio_loss =  mse_poissoned / mse_legitimate\n",
    "    \n",
    "    ratio_losses.append(ratio_loss)\n",
    "\n",
    "plt.scatter(poisoning_percentages, ratio_losses,  color='black', marker=\"x\")\n",
    "plt.show()"
   ]
  },
  {
   "cell_type": "code",
   "execution_count": 84,
   "id": "7e61c35b",
   "metadata": {},
   "outputs": [
    {
     "data": {
      "image/png": "[encoded data removed]",
      "text/plain": [
       "<Figure size 432x288 with 1 Axes>"
      ]
     },
     "metadata": {
      "needs_background": "light"
     },
     "output_type": "display_data"
    }
   ],
   "source": []
  },
  {
   "cell_type": "code",
   "execution_count": null,
   "id": "021a84a5",
   "metadata": {},
   "outputs": [],
   "source": []
  }
 ],
 "metadata": {
  "kernelspec": {
   "display_name": "Python 3",
   "language": "python",
   "name": "python3"
  },
  "language_info": {
   "codemirror_mode": {
    "name": "ipython",
    "version": 3
   },
   "file_extension": ".py",
   "mimetype": "text/x-python",
   "name": "python",
   "nbconvert_exporter": "python",
   "pygments_lexer": "ipython3",
   "version": "3.9.2"
  }
 },
 "nbformat": 4,
 "nbformat_minor": 5
}
