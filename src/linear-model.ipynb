{
 "cells": [
  {
   "cell_type": "code",
   "execution_count": 39,
   "id": "979e3e25",
   "metadata": {},
   "outputs": [],
   "source": [
    "import csv\n",
    "import numpy as np\n",
    "import pandas as pd\n",
    "\n",
    "from sklearn.linear_model import LinearRegression\n",
    "from sklearn.model_selection import train_test_split\n",
    "from sklearn import metrics \n",
    "import matplotlib.pyplot as plt  \n",
    "# coding=utf-8\n",
    "import warnings, datetime"
   ]
  },
  {
   "cell_type": "code",
   "execution_count": 40,
   "id": "968fc8ea",
   "metadata": {},
   "outputs": [],
   "source": [
    "df=pd.read_csv('data/random.csv', sep=',',header=None)\n",
    "#df = df[0:500]"
   ]
  },
  {
   "cell_type": "code",
   "execution_count": 41,
   "id": "df39b11e",
   "metadata": {},
   "outputs": [],
   "source": [
    "n = df.shape[0]"
   ]
  },
  {
   "cell_type": "code",
   "execution_count": 47,
   "id": "4d87ac73",
   "metadata": {},
   "outputs": [],
   "source": [
    "X = np.array(df[0]).reshape(-1, 1)\n",
    "y = df[1]"
   ]
  },
  {
   "cell_type": "code",
   "execution_count": 48,
   "id": "89d95051",
   "metadata": {},
   "outputs": [
    {
     "data": {
      "text/plain": [
       "array([[    1],\n",
       "       [    3],\n",
       "       [    8],\n",
       "       ...,\n",
       "       [19995],\n",
       "       [19997],\n",
       "       [19999]])"
      ]
     },
     "execution_count": 48,
     "metadata": {},
     "output_type": "execute_result"
    }
   ],
   "source": [
    "X"
   ]
  },
  {
   "cell_type": "code",
   "execution_count": 49,
   "id": "610b38e7",
   "metadata": {},
   "outputs": [],
   "source": [
    "X_train, X_test, y_train, y_test = train_test_split(X, y, test_size=0.1, random_state=0)  \n",
    "\n",
    "start = datetime.datetime.now()\n",
    "\n",
    "regressor = LinearRegression()\n",
    "regressor.fit(X_train, y_train)  \n",
    "\n",
    "build = datetime.datetime.now() - start\n",
    "\n",
    "start = datetime.datetime.now()\n",
    "y_pred = regressor.predict(X_test)  \n",
    "\n",
    "lookup = datetime.datetime.now() - start"
   ]
  },
  {
   "cell_type": "code",
   "execution_count": 50,
   "id": "74820388",
   "metadata": {},
   "outputs": [
    {
     "name": "stdout",
     "output_type": "stream",
     "text": [
      "Intercept:  -0.3299661732069694\n",
      "Slope:  [0.00499967]\n"
     ]
    }
   ],
   "source": [
    "print(\"Intercept: \", regressor.intercept_)\n",
    "print(\"Slope: \", regressor.coef_)"
   ]
  },
  {
   "cell_type": "code",
   "execution_count": 57,
   "id": "86fa77bd",
   "metadata": {},
   "outputs": [
    {
     "data": {
      "text/plain": [
       "array([49.66673408])"
      ]
     },
     "execution_count": 57,
     "metadata": {},
     "output_type": "execute_result"
    }
   ],
   "source": [
    "X_test_pred = np.array([[10000]]).reshape(-1,1)\n",
    "y_test_pred = regressor.predict(X_test_pred) \n",
    "y_test_pred"
   ]
  },
  {
   "cell_type": "code",
   "execution_count": 53,
   "id": "b26eaab0",
   "metadata": {},
   "outputs": [
    {
     "name": "stdout",
     "output_type": "stream",
     "text": [
      "------------------\n",
      "Build time: 0:00:00.001281\n",
      "Lookup time: 0:00:00.000842\n",
      "Mean Absolute Error: 0.259945890049755\n",
      "Mean Squared Error: 0.09591859715498009\n",
      "Root Mean Squared Error: 0.30970727656123953\n"
     ]
    }
   ],
   "source": [
    "print(\"------------------\")\n",
    "print(\"Build time: \" + str(build))\n",
    "print(\"Lookup time: \" + str(lookup))\n",
    "print('Mean Absolute Error:', metrics.mean_absolute_error(y_test, y_pred))  \n",
    "print('Mean Squared Error:', metrics.mean_squared_error(y_test, y_pred))  \n",
    "print('Root Mean Squared Error:', np.sqrt(metrics.mean_squared_error(y_test, y_pred))) \n",
    "\n"
   ]
  },
  {
   "cell_type": "code",
   "execution_count": 54,
   "id": "4b9c20e7",
   "metadata": {},
   "outputs": [
    {
     "data": {
      "image/png": "[encoded data removed]",
      "text/plain": [
       "<Figure size 432x288 with 1 Axes>"
      ]
     },
     "metadata": {
      "needs_background": "light"
     },
     "output_type": "display_data"
    }
   ],
   "source": [
    "# Plot outputsst\n",
    "plt.scatter(X_test, y_test,  color='black')\n",
    "plt.scatter(X_test, y_pred, color='blue')\n",
    "#plt.plot(X_test, y_pred, color='blue', linewidth=3)\n",
    "plt.show()"
   ]
  },
  {
   "cell_type": "code",
   "execution_count": null,
   "id": "8fed7f03",
   "metadata": {},
   "outputs": [],
   "source": []
  }
 ],
 "metadata": {
  "kernelspec": {
   "display_name": "Python 3",
   "language": "python",
   "name": "python3"
  },
  "language_info": {
   "codemirror_mode": {
    "name": "ipython",
    "version": 3
   },
   "file_extension": ".py",
   "mimetype": "text/x-python",
   "name": "python",
   "nbconvert_exporter": "python",
   "pygments_lexer": "ipython3",
   "version": "3.9.2"
  }
 },
 "nbformat": 4,
 "nbformat_minor": 5
}
