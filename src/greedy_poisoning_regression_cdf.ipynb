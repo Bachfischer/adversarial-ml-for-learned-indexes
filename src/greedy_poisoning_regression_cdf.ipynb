{
 "cells": [
  {
   "cell_type": "markdown",
   "id": "27c37249",
   "metadata": {},
   "source": [
    "## Introduction\n",
    "\n",
    "This notebook is an implementation of the greedy poissoning attack on regression models as described in Kornaropoulos et. al - *The Price of Tailoring the Index to Your Data: Poisoning Attacks on Learned Index Structures* (paper available on [Arxiv](https://arxiv.org/abs/2008.00297))\n",
    "\n",
    "**TODO**: \n",
    "* Write proper documentation\n",
    "* Speed-up implementation of Algorithm 1"
   ]
  },
  {
   "cell_type": "code",
   "execution_count": 1,
   "id": "83cb5582",
   "metadata": {},
   "outputs": [],
   "source": [
    "import csv\n",
    "import numpy as np\n",
    "import pandas as pd\n",
    "from itertools import groupby\n",
    "\n",
    "from sklearn.linear_model import LinearRegression\n",
    "from sklearn.model_selection import train_test_split\n",
    "from sklearn import metrics \n",
    "import matplotlib.pyplot as plt  \n",
    "import warnings, datetime\n",
    "import scipy.stats as ss"
   ]
  },
  {
   "cell_type": "markdown",
   "id": "402c708f",
   "metadata": {},
   "source": [
    "## Greedy Poisoning Regression CDF\n",
    "\n",
    "The following code implements Algorithm 1 (Greedy Poisoning Regression CDF) as described in the paper."
   ]
  },
  {
   "cell_type": "code",
   "execution_count": 2,
   "id": "72c7d114",
   "metadata": {},
   "outputs": [],
   "source": [
    "# Extracts non-occupied keys for a given sequence\n",
    "def extract_non_occupied_keys(keyset):\n",
    "    n = keyset.shape[0]\n",
    "    \n",
    "    lower_bound = int(keyset[0]-1)\n",
    "    upper_bound = int(keyset[n-1]+1)\n",
    "    \n",
    "    non_occupied_keys = []\n",
    "    for i in range(lower_bound, upper_bound + 1):\n",
    "        if i not in keyset:\n",
    "            non_occupied_keys.append(i)\n",
    "        \n",
    "    return non_occupied_keys\n",
    "\n",
    "# Groups a list of keys into subsequences of consecutive keys \n",
    "def extract_seq(seq):\n",
    "    return [\n",
    "        [x for _, x in g]\n",
    "        for k, g in groupby(\n",
    "            enumerate(seq), \n",
    "            lambda i_x : i_x[0] - i_x[1]\n",
    "        )\n",
    "    ]   \n",
    "\n",
    "# Extract the endpoints of each subsequence\n",
    "def extract_endpoints(subsequences):\n",
    "    endpoints = []\n",
    "    for sequence in subsequences:\n",
    "        if len(sequence) == 1:\n",
    "            endpoints.append(sequence[0])\n",
    "        else:\n",
    "            endpoints.append(sequence[0])\n",
    "            endpoints.append(sequence[len(sequence)-1])\n",
    "            \n",
    "    return endpoints\n",
    "\n",
    "# Partition the non-occupied keys, i.e., keys not in K ∪ P, into subsequences such that each subsequence consists of consecutive non-occupied keys;\n",
    "def partition_non_occupied_keys(K, P):\n",
    "    keyset = np.append(K, list(P))\n",
    "    keyset = np.sort(keyset)\n",
    "\n",
    "    non_occupied_keys = extract_non_occupied_keys(keyset)\n",
    "    \n",
    "    subsequences = extract_seq(non_occupied_keys)\n",
    "    endpoints = extract_endpoints(subsequences)\n",
    "    return np.array(endpoints)\n",
    "\n",
    "# Compute the rank that key S(i) would have if it was inserted in K ∪ P and assign this rank as the i-th element of the new sequence\n",
    "def compute_rank_for_endpoints(endpoints, keyset):\n",
    "    computed_rank_for_endpoint = []\n",
    "    \n",
    "    for endpoint in endpoints:\n",
    "        keyset_extended = np.append(keyset, endpoint)\n",
    "        rank = list(ss.rankdata(keyset_extended))\n",
    "        # extract rank for the last element in the list (endpoint)\n",
    "        computed_rank_for_endpoint.append(int(rank[len(rank)-1]))\n",
    "    \n",
    "    return computed_rank_for_endpoint\n",
    "    "
   ]
  },
  {
   "cell_type": "code",
   "execution_count": 3,
   "id": "c9cba96b",
   "metadata": {},
   "outputs": [],
   "source": [
    "import operator\n",
    "from statistics import mean\n",
    "\n",
    "def obtain_poisoning_keys(p, keyset, rankset):\n",
    "    # Total number of elements\n",
    "    n = keyset.shape[0]\n",
    "\n",
    "    # Number of posoning keys p\n",
    "    P = p * n\n",
    "    poisoning_keys = set()\n",
    "\n",
    "    for j in range(int(P)):\n",
    "        # Partition the non-occupied keys into subsequences such that each subsequence consists of consecutive non-occupied keys;\n",
    "        # Extract the endpoints of each subsequence and sort them to construct the new sequence of endpoints S(i), where i <= 2(n + j);\n",
    "        endpoints = partition_non_occupied_keys(keyset, poisoning_keys)\n",
    "\n",
    "        # Compute the rank that key S(i) would have if it was inserted in K ∪ P and assign this rank as the i-th element of the new sequence T (i), where i <= 2(n + j) ;\n",
    "        list_rank = compute_rank_for_endpoints(endpoints, keyset)\n",
    "\n",
    "        # Compute the effect of choosing S(1) as a poisoning key and inserting it to K ∪ P with the appropriate rank adjustments. \n",
    "        # Specifically, evaluate the sequences each of which is the mean M for a different variable, e.g., K, R, KR. Compute MK (1), MK2 (1), MKR(1), and L(1) ;\n",
    "        S = endpoints\n",
    "        T = list_rank\n",
    "        \n",
    "        delta_S = {}\n",
    "        M_K = {}\n",
    "        M_K_square = {}\n",
    "        M_R = {}\n",
    "        M_R_square = {}\n",
    "        M_KR = {}\n",
    "        L = {}\n",
    "        \n",
    "        # Calculate M_K(1), M_R(1) etc.\n",
    "        current_keyset = np.append(keyset, S[0])\n",
    "        M_K[0] = np.mean(keyset)\n",
    "\n",
    "        current_rankset = np.append(rankset, T[0])\n",
    "        M_R[0] = np.mean(rankset)\n",
    "\n",
    "        M_K_square[0] = np.mean(keyset**2)\n",
    "\n",
    "        M_R_square[0] = np.mean(rankset**2)\n",
    "\n",
    "        M_KR[0] = np.mean(keyset*rankset)\n",
    "\n",
    "        nominator = (M_KR[0] - (M_K[0] * M_R[0]))**2\n",
    "        denominator = M_K_square[0] - (M_K[0])**2\n",
    "        L[0] = - (nominator / denominator) + M_R_square[0] - (M_R[0])**2\n",
    "\n",
    "        for i in range(1, len(endpoints)-1):\n",
    "            # Calculate M_K(i), M_R(i) etc.\n",
    "            delta_S[i] = S[i+1] - S[i] \n",
    "\n",
    "            M_K[i] = M_K[i-1] + delta_S[i] / (n) \n",
    "            M_K_square[i] = M_K_square[i-1] + (( 2 * S[i] + delta_S[i]) * delta_S[i]) / (n + 1) \n",
    "\n",
    "            M_R[i] = (n + 2) / 2\n",
    "            M_R_square[i] = ((n+2)*(2*n+3)) / 6\n",
    "            M_KR[i] = M_KR[i-1] + ( T[i-1] * delta_S[i]) / (n + 1)\n",
    "\n",
    "            nominator = (M_KR[i] - M_K[i]*M_R[i])**2\n",
    "            denominator = M_K_square[i] - (M_K[i])**2\n",
    "            L[i] = - (nominator / denominator) + M_R_square[i] - (M_R[i])**2\n",
    "\n",
    "        # get argmax of items in L\n",
    "        optimal_key_index = max(L.items(), key=operator.itemgetter(1))[0]\n",
    "        poisoning_keys.add(S[optimal_key_index])\n",
    "    \n",
    "    return poisoning_keys"
   ]
  },
  {
   "cell_type": "markdown",
   "id": "37995ee7",
   "metadata": {},
   "source": [
    "## Linear regression with non-poissoned keys"
   ]
  },
  {
   "cell_type": "code",
   "execution_count": 4,
   "id": "e805681a",
   "metadata": {},
   "outputs": [],
   "source": [
    "df=pd.read_csv('data/random_500.csv', sep=',',header=None)\n",
    "\n",
    "X = np.array(df[0]).reshape(-1, 1)\n",
    "y = np.array(df[1])\n",
    "regressor_legitimate = LinearRegression()\n",
    "regressor_legitimate.fit(X, y) \n",
    "\n",
    "y_pred = regressor_legitimate.predict(X)\n",
    "mse_legitimate = metrics.mean_squared_error(y, y_pred)"
   ]
  },
  {
   "cell_type": "code",
   "execution_count": 5,
   "id": "e8f98efe",
   "metadata": {},
   "outputs": [
    {
     "name": "stdout",
     "output_type": "stream",
     "text": [
      "Mean Squared Error: 14.705531571425096\n"
     ]
    }
   ],
   "source": [
    "print('Mean Squared Error:', metrics.mean_squared_error(y, y_pred))  "
   ]
  },
  {
   "cell_type": "code",
   "execution_count": 6,
   "id": "f28d559b",
   "metadata": {},
   "outputs": [
    {
     "data": {
      "image/png": "[encoded data removed]",
      "text/plain": [
       "<Figure size 432x288 with 1 Axes>"
      ]
     },
     "metadata": {
      "needs_background": "light"
     },
     "output_type": "display_data"
    }
   ],
   "source": [
    "def abline(slope, intercept, color, label):\n",
    "    \"\"\"Plot a line from slope and intercept\"\"\"\n",
    "    axes = plt.gca()\n",
    "    x_vals = np.array(axes.get_xlim())\n",
    "    y_vals = intercept + slope * x_vals\n",
    "    plt.plot(x_vals, y_vals, '--', color=color, label = label)\n",
    "    plt.legend()\n",
    "    plt.xlabel('Keys')\n",
    "    plt.ylabel('Rank')\n",
    "\n",
    "# Plot outputs\n",
    "plt.scatter(X, y,  color='black')\n",
    "abline(regressor_legitimate.coef_, regressor_legitimate.intercept_, color=\"blue\", label=\"Non-poisoned regression line\")\n",
    " \n",
    "plt.show()"
   ]
  },
  {
   "cell_type": "markdown",
   "id": "7cf48ca5",
   "metadata": {},
   "source": [
    "## Linear regression with poissoned keys"
   ]
  },
  {
   "cell_type": "code",
   "execution_count": 7,
   "id": "81ce2a30",
   "metadata": {},
   "outputs": [],
   "source": [
    "poisoning_keys = obtain_poisoning_keys(p = 0.2, keyset=X, rankset=y)"
   ]
  },
  {
   "cell_type": "code",
   "execution_count": 8,
   "id": "bb4651fc",
   "metadata": {},
   "outputs": [
    {
     "data": {
      "image/png": "[encoded data removed]",
      "text/plain": [
       "<Figure size 432x288 with 1 Axes>"
      ]
     },
     "metadata": {
      "needs_background": "light"
     },
     "output_type": "display_data"
    }
   ],
   "source": [
    "import matplotlib.pyplot as plt\n",
    "import numpy as np\n",
    "from matplotlib import colors\n",
    "from matplotlib.ticker import PercentFormatter\n",
    "\n",
    "def plot_distribution_of_poisoning_keys(poisoning_keys):\n",
    "    # we observe that poissoning keys are densly populated together\n",
    "    plt.hist(poisoning_keys, bins = 100, range=[0, df[0][len(df)-1]])\n",
    "    plt.show()\n",
    "\n",
    "plot_distribution_of_poisoning_keys(poisoning_keys)"
   ]
  },
  {
   "cell_type": "code",
   "execution_count": 9,
   "id": "b4e99055",
   "metadata": {},
   "outputs": [],
   "source": [
    "X_poissoned = np.append(X, list(poisoning_keys))\n",
    "y_poissoned = ss.rankdata(X_poissoned)"
   ]
  },
  {
   "cell_type": "code",
   "execution_count": 10,
   "id": "153cc50d",
   "metadata": {},
   "outputs": [],
   "source": [
    "X_poissoned = X_poissoned.reshape(-1,1)\n",
    "regressor_poissoned = LinearRegression()\n",
    "regressor_poissoned.fit(X_poissoned, y_poissoned)  \n",
    "\n",
    "y_poissoned_pred = regressor_poissoned.predict(X_poissoned)"
   ]
  },
  {
   "cell_type": "code",
   "execution_count": 11,
   "id": "5ad4d846",
   "metadata": {},
   "outputs": [
    {
     "name": "stdout",
     "output_type": "stream",
     "text": [
      "------------------\n",
      "Mean Squared Error: 300.3537350757655\n"
     ]
    }
   ],
   "source": [
    "print(\"------------------\")\n",
    "print('Mean Squared Error:', metrics.mean_squared_error(y_poissoned, y_poissoned_pred))  \n",
    "mse_poissoned = metrics.mean_squared_error(y_poissoned, y_poissoned_pred)"
   ]
  },
  {
   "cell_type": "code",
   "execution_count": 12,
   "id": "dccb54c9",
   "metadata": {},
   "outputs": [],
   "source": [
    "ratio_loss =  mse_poissoned / mse_legitimate"
   ]
  },
  {
   "cell_type": "code",
   "execution_count": 13,
   "id": "f7635e30",
   "metadata": {},
   "outputs": [
    {
     "data": {
      "image/png": "[encoded data removed]",
      "text/plain": [
       "<Figure size 432x288 with 1 Axes>"
      ]
     },
     "metadata": {
      "needs_background": "light"
     },
     "output_type": "display_data"
    }
   ],
   "source": [
    "# Plot outputs\n",
    "plt.scatter(X_poissoned, y_poissoned,  color='black')\n",
    "abline(regressor_poissoned.coef_, regressor_poissoned.intercept_, color=\"red\", label=\"Poisoned regression line\")\n",
    "abline(regressor_legitimate.coef_, regressor_legitimate.intercept_, color=\"blue\", label=\"Non-poisoned regression line\")\n",
    "label= \"Poissoned vs. non-poissoned regression line for n=\"+ str(X.shape[0]) + \" keys\"\n",
    "plt.title(label=label)\n",
    "plt.show()"
   ]
  },
  {
   "cell_type": "markdown",
   "id": "223d60a5",
   "metadata": {},
   "source": [
    "## Experiments with different key sizes / different poisoning percentages"
   ]
  },
  {
   "cell_type": "code",
   "execution_count": 14,
   "id": "18670b18",
   "metadata": {},
   "outputs": [],
   "source": [
    "import random\n",
    "\n",
    "def generate_uniform_data(size):\n",
    "    \n",
    "    data = random.sample(range(2, size * 2), size)\n",
    "    data.sort()\n",
    "    return data"
   ]
  },
  {
   "cell_type": "code",
   "execution_count": 15,
   "id": "271bd77b",
   "metadata": {},
   "outputs": [
    {
     "name": "stdout",
     "output_type": "stream",
     "text": [
      "-------------------------\n",
      "Dataset size:  500\n",
      "Mean Squared Error: 7.845747708891319\n",
      "Mean Squared Error: 8.467732440858795\n",
      "Mean Squared Error: 11.215226613024686\n",
      "Mean Squared Error: 14.661377720869043\n",
      "Mean Squared Error: 21.13336447719464\n",
      "Mean Squared Error: 28.2468308702524\n",
      "Mean Squared Error: 37.08176092935949\n",
      "Mean Squared Error: 50.63552820301346\n",
      "Mean Squared Error: 63.4473907753315\n",
      "Mean Squared Error: 82.32308846398377\n",
      "Mean Squared Error: 99.50007423571904\n",
      "Mean Squared Error: 123.66999547116096\n",
      "Mean Squared Error: 133.47076607001554\n",
      "Mean Squared Error: 154.84625666818457\n",
      "Mean Squared Error: 183.20491606433845\n"
     ]
    },
    {
     "data": {
      "image/png": "[encoded data removed]",
      "text/plain": [
       "<Figure size 432x288 with 1 Axes>"
      ]
     },
     "metadata": {
      "needs_background": "light"
     },
     "output_type": "display_data"
    },
    {
     "name": "stdout",
     "output_type": "stream",
     "text": [
      "-------------------------\n",
      "Dataset size:  1000\n",
      "Mean Squared Error: 29.20950930243165\n",
      "Mean Squared Error: 28.73936339676178\n",
      "Mean Squared Error: 32.176791227817205\n",
      "Mean Squared Error: 35.08883783354708\n",
      "Mean Squared Error: 43.4970883239061\n",
      "Mean Squared Error: 57.27114342477894\n",
      "Mean Squared Error: 79.48961558384141\n",
      "Mean Squared Error: 107.037448688015\n",
      "Mean Squared Error: 150.24940791934952\n",
      "Mean Squared Error: 200.01366051889022\n",
      "Mean Squared Error: 246.29860679595322\n",
      "Mean Squared Error: 321.75532496782773\n",
      "Mean Squared Error: 400.6066224418165\n",
      "Mean Squared Error: 489.25487135241497\n",
      "Mean Squared Error: 575.3709363962691\n"
     ]
    },
    {
     "data": {
      "image/png": "[encoded data removed]",
      "text/plain": [
       "<Figure size 432x288 with 1 Axes>"
      ]
     },
     "metadata": {
      "needs_background": "light"
     },
     "output_type": "display_data"
    },
    {
     "name": "stdout",
     "output_type": "stream",
     "text": [
      "-------------------------\n",
      "Dataset size:  2000\n",
      "Mean Squared Error: 81.7259680092871\n",
      "Mean Squared Error: 83.39374369438958\n",
      "Mean Squared Error: 97.83046158865788\n",
      "Mean Squared Error: 129.27163177440735\n",
      "Mean Squared Error: 193.5721128499538\n",
      "Mean Squared Error: 285.3018410924501\n",
      "Mean Squared Error: 394.81214837080097\n",
      "Mean Squared Error: 546.1966426604505\n",
      "Mean Squared Error: 718.6174443889815\n",
      "Mean Squared Error: 930.9965828677326\n",
      "Mean Squared Error: 1176.0809444324789\n",
      "Mean Squared Error: 1452.351946913503\n",
      "Mean Squared Error: 1702.1694537844708\n",
      "Mean Squared Error: 2053.641956018204\n",
      "Mean Squared Error: 2413.6704405061255\n"
     ]
    },
    {
     "data": {
      "image/png": "[encoded data removed]",
      "text/plain": [
       "<Figure size 432x288 with 1 Axes>"
      ]
     },
     "metadata": {
      "needs_background": "light"
     },
     "output_type": "display_data"
    }
   ],
   "source": [
    "dataset_sizes = [500, 1000, 2000]\n",
    "\n",
    "for dataset_size in dataset_sizes:\n",
    "    \n",
    "    print(\"-------------------------\")\n",
    "    print(\"Dataset size: \", dataset_size)\n",
    "    X = generate_uniform_data(dataset_size)\n",
    "    X = np.array(X).reshape(-1, 1)\n",
    "    \n",
    "    y = np.linspace(1, dataset_size, num=dataset_size)\n",
    "\n",
    "    poisoning_percentages = np.linspace(0.01, 0.15, num= 15)\n",
    "\n",
    "    ratio_losses = []\n",
    "    \n",
    "    regressor_legitimate = LinearRegression()\n",
    "    regressor_legitimate.fit(X, y) \n",
    "\n",
    "    y_pred = regressor_legitimate.predict(X)\n",
    "    mse_legitimate = metrics.mean_squared_error(y, y_pred)\n",
    "\n",
    "    for percentage in poisoning_percentages:\n",
    "        poisoning_keys = obtain_poisoning_keys(p = percentage, keyset = X, rankset = y)\n",
    "\n",
    "        #plot_poisoning_keys(poisoning_keys)\n",
    "\n",
    "        X_poissoned = np.append(X, list(poisoning_keys))\n",
    "        y_poissoned = ss.rankdata(X_poissoned)\n",
    "\n",
    "        X_poissoned = X_poissoned.reshape(-1,1)\n",
    "        regressor_poissoned = LinearRegression()\n",
    "        regressor_poissoned.fit(X_poissoned, y_poissoned)  \n",
    "\n",
    "        y_poissoned_pred = regressor_poissoned.predict(X_poissoned)\n",
    "\n",
    "        print('Mean Squared Error:', metrics.mean_squared_error(y_poissoned, y_poissoned_pred))  \n",
    "        mse_poissoned = metrics.mean_squared_error(y_poissoned, y_poissoned_pred)\n",
    "        ratio_loss =  mse_poissoned / mse_legitimate\n",
    "\n",
    "        ratio_losses.append(ratio_loss)\n",
    "\n",
    "    plt.scatter(poisoning_percentages, ratio_losses,  color='black', marker=\"x\")\n",
    "    plt.xlabel('Poisoning Percentage')\n",
    "    plt.ylabel('Ratio Loss')\n",
    "    plt.show()"
   ]
  },
  {
   "cell_type": "code",
   "execution_count": null,
   "id": "6b118b1e",
   "metadata": {},
   "outputs": [],
   "source": []
  }
 ],
 "metadata": {
  "kernelspec": {
   "display_name": "Python 3",
   "language": "python",
   "name": "python3"
  },
  "language_info": {
   "codemirror_mode": {
    "name": "ipython",
    "version": 3
   },
   "file_extension": ".py",
   "mimetype": "text/x-python",
   "name": "python",
   "nbconvert_exporter": "python",
   "pygments_lexer": "ipython3",
   "version": "3.9.2"
  }
 },
 "nbformat": 4,
 "nbformat_minor": 5
}
