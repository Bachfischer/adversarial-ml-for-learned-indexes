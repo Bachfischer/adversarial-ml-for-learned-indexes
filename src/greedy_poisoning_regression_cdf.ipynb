{
 "cells": [
  {
   "cell_type": "markdown",
   "id": "0b039c51",
   "metadata": {},
   "source": [
    "## Introduction\n",
    "\n",
    "This notebook is an implementation of the greedy poisoning attack on regression models as described in Kornaropoulos et. al - *The Price of Tailoring the Index to Your Data: Poisoning Attacks on Learned Index Structures* (paper available on [Arxiv](https://arxiv.org/abs/2008.00297))\n",
    "\n",
    "**TODO**: \n",
    "* Write proper documentation\n",
    "* Speed-up implementation of Algorithm 1"
   ]
  },
  {
   "cell_type": "code",
   "execution_count": 1,
   "id": "777c9564",
   "metadata": {},
   "outputs": [],
   "source": [
    "import csv\n",
    "import numpy as np\n",
    "import pandas as pd\n",
    "from itertools import groupby\n",
    "\n",
    "from sklearn.linear_model import LinearRegression\n",
    "from sklearn.model_selection import train_test_split\n",
    "from sklearn import metrics \n",
    "import matplotlib.pyplot as plt  \n",
    "import warnings, datetime\n",
    "import scipy.stats as ss"
   ]
  },
  {
   "cell_type": "markdown",
   "id": "1b7b8451",
   "metadata": {},
   "source": [
    "## Greedy Poisoning Regression CDF\n",
    "\n",
    "The following code implements **Algorithm 1 (Greedy Poisoning Regression CDF)** as described in the paper \"*The Price of Tailoring the Index to Your Data: Poisoning Attacks on Learned Index Structures*\"."
   ]
  },
  {
   "cell_type": "code",
   "execution_count": 2,
   "id": "57577dc4",
   "metadata": {},
   "outputs": [],
   "source": [
    "# Extracts non-occupied keys for a given sequence\n",
    "def extract_non_occupied_keys(keyset):\n",
    "    n = keyset.shape[0]\n",
    "    \n",
    "    lower_bound = int(keyset[0]-1)\n",
    "    upper_bound = int(keyset[n-1]+1)\n",
    "    \n",
    "    non_occupied_keys = []\n",
    "    for i in range(lower_bound, upper_bound + 1):\n",
    "        if i not in keyset:\n",
    "            non_occupied_keys.append(i)\n",
    "        \n",
    "    return non_occupied_keys\n",
    "\n",
    "# Groups a list of keys into subsequences of consecutive keys \n",
    "def extract_seq(seq):\n",
    "    return [\n",
    "        [x for _, x in g]\n",
    "        for k, g in groupby(\n",
    "            enumerate(seq), \n",
    "            lambda i_x : i_x[0] - i_x[1]\n",
    "        )\n",
    "    ]   \n",
    "\n",
    "# Extract the endpoints of each subsequence\n",
    "def extract_endpoints(subsequences):\n",
    "    endpoints = []\n",
    "    for sequence in subsequences:\n",
    "        if len(sequence) == 1:\n",
    "            endpoints.append(sequence[0])\n",
    "        else:\n",
    "            endpoints.append(sequence[0])\n",
    "            endpoints.append(sequence[len(sequence)-1])\n",
    "            \n",
    "    return endpoints\n",
    "\n",
    "# Partition the non-occupied keys, i.e., keys not in K ∪ P, into subsequences such that each subsequence consists of consecutive non-occupied keys;\n",
    "def partition_non_occupied_keys(K, P):\n",
    "    keyset = np.append(K, list(P))\n",
    "    keyset = np.sort(keyset)\n",
    "\n",
    "    non_occupied_keys = extract_non_occupied_keys(keyset)\n",
    "    \n",
    "    subsequences = extract_seq(non_occupied_keys)\n",
    "    endpoints = extract_endpoints(subsequences)\n",
    "    return np.array(endpoints)\n",
    "\n",
    "# Compute the rank that key S(i) would have if it was inserted in K ∪ P and assign this rank as the i-th element of the new sequence\n",
    "def compute_rank_for_endpoints(endpoints, keyset):\n",
    "    computed_rank_for_endpoint = []\n",
    "    \n",
    "    for endpoint in endpoints:\n",
    "        keyset_extended = np.append(keyset, endpoint)\n",
    "        rank = list(ss.rankdata(keyset_extended))\n",
    "        # extract rank for the last element in the list (endpoint)\n",
    "        computed_rank_for_endpoint.append(int(rank[len(rank)-1]))\n",
    "    \n",
    "    return computed_rank_for_endpoint\n",
    "    "
   ]
  },
  {
   "cell_type": "code",
   "execution_count": 3,
   "id": "178faf76",
   "metadata": {},
   "outputs": [],
   "source": [
    "import operator\n",
    "from statistics import mean\n",
    "\n",
    "def obtain_poisoning_keys(p, keyset, rankset):\n",
    "    # Total number of elements\n",
    "    n = keyset.shape[0]\n",
    "\n",
    "    # Number of posoning keys p\n",
    "    P = p * n\n",
    "    poisoning_keys = set()\n",
    "\n",
    "    for j in range(int(P)):\n",
    "        # Partition the non-occupied keys into subsequences such that each subsequence consists of consecutive non-occupied keys;\n",
    "        # Extract the endpoints of each subsequence and sort them to construct the new sequence of endpoints S(i), where i <= 2(n + j);\n",
    "        endpoints = partition_non_occupied_keys(keyset, poisoning_keys)\n",
    "\n",
    "        # Compute the rank that key S(i) would have if it was inserted in K ∪ P and assign this rank as the i-th element of the new sequence T (i), where i <= 2(n + j) ;\n",
    "        list_rank = compute_rank_for_endpoints(endpoints, keyset)\n",
    "\n",
    "        # Compute the effect of choosing S(1) as a poisoning key and inserting it to K ∪ P with the appropriate rank adjustments. \n",
    "        # Specifically, evaluate the sequences each of which is the mean M for a different variable, e.g., K, R, KR. Compute MK (1), MK2 (1), MKR(1), and L(1) ;\n",
    "        S = endpoints\n",
    "        T = list_rank\n",
    "        \n",
    "        delta_S = {}\n",
    "        M_K = {}\n",
    "        M_K_square = {}\n",
    "        M_R = {}\n",
    "        M_R_square = {}\n",
    "        M_KR = {}\n",
    "        L = {}\n",
    "        \n",
    "        # Calculate M_K(1), M_R(1) etc.\n",
    "        current_keyset = np.append(keyset, S[0])\n",
    "        M_K[0] = np.mean(keyset)\n",
    "\n",
    "        current_rankset = np.append(rankset, T[0])\n",
    "        M_R[0] = np.mean(rankset)\n",
    "\n",
    "        M_K_square[0] = np.mean(keyset**2)\n",
    "\n",
    "        M_R_square[0] = np.mean(rankset**2)\n",
    "\n",
    "        M_KR[0] = np.mean(keyset*rankset)\n",
    "\n",
    "        nominator = (M_KR[0] - (M_K[0] * M_R[0]))**2\n",
    "        denominator = M_K_square[0] - (M_K[0])**2\n",
    "        L[0] = - (nominator / denominator) + M_R_square[0] - (M_R[0])**2\n",
    "\n",
    "        for i in range(1, len(endpoints)-1):\n",
    "            # Calculate M_K(i), M_R(i) etc.\n",
    "            delta_S[i] = S[i+1] - S[i] \n",
    "\n",
    "            M_K[i] = M_K[i-1] + delta_S[i] / (n) \n",
    "            M_K_square[i] = M_K_square[i-1] + (( 2 * S[i] + delta_S[i]) * delta_S[i]) / (n + 1) \n",
    "\n",
    "            M_R[i] = (n + 2) / 2\n",
    "            M_R_square[i] = ((n+2)*(2*n+3)) / 6\n",
    "            M_KR[i] = M_KR[i-1] + ( T[i-1] * delta_S[i]) / (n + 1)\n",
    "\n",
    "            nominator = (M_KR[i] - M_K[i]*M_R[i])**2\n",
    "            denominator = M_K_square[i] - (M_K[i])**2\n",
    "            L[i] = - (nominator / denominator) + M_R_square[i] - (M_R[i])**2\n",
    "\n",
    "        # get argmax of items in L\n",
    "        optimal_key_index = max(L.items(), key=operator.itemgetter(1))[0]\n",
    "        poisoning_keys.add(S[optimal_key_index])\n",
    "    \n",
    "    return poisoning_keys"
   ]
  },
  {
   "cell_type": "markdown",
   "id": "3dd91094",
   "metadata": {},
   "source": [
    "## Linear regression with non-poisoned keys"
   ]
  },
  {
   "cell_type": "code",
   "execution_count": 4,
   "id": "afd02089",
   "metadata": {},
   "outputs": [],
   "source": [
    "df=pd.read_csv('../data/random_500.csv', sep=',',header=None)\n",
    "\n",
    "X = np.array(df[0]).reshape(-1, 1)\n",
    "y = np.array(df[1])\n",
    "regressor_legitimate = LinearRegression()\n",
    "regressor_legitimate.fit(X, y) \n",
    "\n",
    "y_pred = regressor_legitimate.predict(X)\n",
    "mse_legitimate = metrics.mean_squared_error(y, y_pred)"
   ]
  },
  {
   "cell_type": "code",
   "execution_count": 5,
   "id": "86ce098f",
   "metadata": {},
   "outputs": [
    {
     "name": "stdout",
     "output_type": "stream",
     "text": [
      "Mean Squared Error: 14.705531571425096\n"
     ]
    }
   ],
   "source": [
    "print('Mean Squared Error:', metrics.mean_squared_error(y, y_pred))  "
   ]
  },
  {
   "cell_type": "code",
   "execution_count": 6,
   "id": "d9fad6c7",
   "metadata": {},
   "outputs": [
    {
     "data": {
      "image/png": "[encoded data removed]",
      "text/plain": [
       "<Figure size 432x288 with 1 Axes>"
      ]
     },
     "metadata": {
      "needs_background": "light"
     },
     "output_type": "display_data"
    }
   ],
   "source": [
    "def abline(slope, intercept, color, label):\n",
    "    \"\"\"Plot a line from slope and intercept\"\"\"\n",
    "    axes = plt.gca()\n",
    "    x_vals = np.array(axes.get_xlim())\n",
    "    y_vals = intercept + slope * x_vals\n",
    "    plt.plot(x_vals, y_vals, '--', color=color, label = label)\n",
    "    plt.legend()\n",
    "    plt.xlabel('Keys')\n",
    "    plt.ylabel('Rank')\n",
    "\n",
    "# Plot outputs\n",
    "plt.scatter(X, y,  color='black')\n",
    "abline(regressor_legitimate.coef_, regressor_legitimate.intercept_, color=\"blue\", label=\"Non-poisoned regression line\")\n",
    " \n",
    "plt.show()"
   ]
  },
  {
   "cell_type": "markdown",
   "id": "ceb41315",
   "metadata": {},
   "source": [
    "## Linear regression with poisoned keys"
   ]
  },
  {
   "cell_type": "code",
   "execution_count": 7,
   "id": "485596be",
   "metadata": {},
   "outputs": [],
   "source": [
    "poisoning_keys = obtain_poisoning_keys(p = 0.2, keyset=X, rankset=y)"
   ]
  },
  {
   "cell_type": "code",
   "execution_count": 8,
   "id": "0671b65a",
   "metadata": {},
   "outputs": [
    {
     "data": {
      "image/png": "[encoded data removed]",
      "text/plain": [
       "<Figure size 432x288 with 1 Axes>"
      ]
     },
     "metadata": {
      "needs_background": "light"
     },
     "output_type": "display_data"
    }
   ],
   "source": [
    "import matplotlib.pyplot as plt\n",
    "import numpy as np\n",
    "from matplotlib import colors\n",
    "from matplotlib.ticker import PercentFormatter\n",
    "\n",
    "def plot_distribution_of_poisoning_keys(poisoning_keys):\n",
    "    # we observe that poisoning keys are densly populated together\n",
    "    plt.hist(poisoning_keys, bins = 100, range=[0, df[0][len(df)-1]])\n",
    "    plt.show()\n",
    "\n",
    "plot_distribution_of_poisoning_keys(poisoning_keys)"
   ]
  },
  {
   "cell_type": "code",
   "execution_count": 9,
   "id": "66ea4f0c",
   "metadata": {},
   "outputs": [],
   "source": [
    "X_poisoned = np.append(X, list(poisoning_keys))\n",
    "y_poisoned = ss.rankdata(X_poisoned)"
   ]
  },
  {
   "cell_type": "code",
   "execution_count": 10,
   "id": "09b92533",
   "metadata": {},
   "outputs": [],
   "source": [
    "X_poisoned = X_poisoned.reshape(-1,1)\n",
    "regressor_poisoned = LinearRegression()\n",
    "regressor_poisoned.fit(X_poisoned, y_poisoned)  \n",
    "\n",
    "y_poisoned_pred = regressor_poisoned.predict(X_poisoned)"
   ]
  },
  {
   "cell_type": "code",
   "execution_count": 11,
   "id": "6ddd9ce3",
   "metadata": {},
   "outputs": [
    {
     "name": "stdout",
     "output_type": "stream",
     "text": [
      "------------------\n",
      "Mean Squared Error: 300.3537350757655\n"
     ]
    }
   ],
   "source": [
    "print(\"------------------\")\n",
    "print('Mean Squared Error:', metrics.mean_squared_error(y_poisoned, y_poisoned_pred))  \n",
    "mse_poisoned = metrics.mean_squared_error(y_poisoned, y_poisoned_pred)"
   ]
  },
  {
   "cell_type": "code",
   "execution_count": 12,
   "id": "acadd8c6",
   "metadata": {},
   "outputs": [],
   "source": [
    "ratio_loss =  mse_poisoned / mse_legitimate"
   ]
  },
  {
   "cell_type": "code",
   "execution_count": 13,
   "id": "47a1dde0",
   "metadata": {},
   "outputs": [
    {
     "data": {
      "image/png": "[encoded data removed]",
      "text/plain": [
       "<Figure size 432x288 with 1 Axes>"
      ]
     },
     "metadata": {
      "needs_background": "light"
     },
     "output_type": "display_data"
    }
   ],
   "source": [
    "# Plot outputs\n",
    "plt.scatter(X_poisoned, y_poisoned,  color='black')\n",
    "abline(regressor_poisoned.coef_, regressor_poisoned.intercept_, color=\"red\", label=\"Poisoned regression line\")\n",
    "abline(regressor_legitimate.coef_, regressor_legitimate.intercept_, color=\"blue\", label=\"Non-poisoned regression line\")\n",
    "label= \"Poisoned vs. non-poisoned regression line for n=\"+ str(X.shape[0]) + \" keys\"\n",
    "plt.title(label=label)\n",
    "plt.show()"
   ]
  },
  {
   "cell_type": "markdown",
   "id": "704d3d8a",
   "metadata": {},
   "source": [
    "## Linear regression experiments with different key sizes / different poisoning percentages"
   ]
  },
  {
   "cell_type": "code",
   "execution_count": 14,
   "id": "14882091",
   "metadata": {},
   "outputs": [],
   "source": [
    "import random\n",
    "\n",
    "def generate_uniform_data(size):\n",
    "    \n",
    "    data = random.sample(range(2, size * 2), size)\n",
    "    data.sort()\n",
    "    return data"
   ]
  },
  {
   "cell_type": "code",
   "execution_count": 15,
   "id": "3768080d",
   "metadata": {},
   "outputs": [
    {
     "name": "stdout",
     "output_type": "stream",
     "text": [
      "-------------------------\n",
      "Dataset size:  500\n",
      "Mean Squared Error: 11.438367291466596\n",
      "Mean Squared Error: 11.858762266352725\n",
      "Mean Squared Error: 14.111506091412153\n",
      "Mean Squared Error: 17.121765176063224\n",
      "Mean Squared Error: 23.006499229059845\n",
      "Mean Squared Error: 31.644463374352963\n",
      "Mean Squared Error: 43.24551248691862\n",
      "Mean Squared Error: 58.00331521357664\n",
      "Mean Squared Error: 76.01952385673384\n",
      "Mean Squared Error: 92.7353993428838\n",
      "Mean Squared Error: 106.08240441481969\n",
      "Mean Squared Error: 120.21065606126979\n",
      "Mean Squared Error: 140.9385995768486\n",
      "Mean Squared Error: 163.18972435105084\n",
      "Mean Squared Error: 192.8370077125325\n"
     ]
    },
    {
     "data": {
      "image/png": "[encoded data removed]",
      "text/plain": [
       "<Figure size 432x288 with 1 Axes>"
      ]
     },
     "metadata": {
      "needs_background": "light"
     },
     "output_type": "display_data"
    },
    {
     "name": "stdout",
     "output_type": "stream",
     "text": [
      "-------------------------\n",
      "Dataset size:  1000\n",
      "Mean Squared Error: 73.29572755554196\n",
      "Mean Squared Error: 70.68675961799951\n",
      "Mean Squared Error: 65.7165341941833\n",
      "Mean Squared Error: 62.90307435917802\n",
      "Mean Squared Error: 64.85107650925042\n",
      "Mean Squared Error: 73.15557936551608\n",
      "Mean Squared Error: 89.18804770041262\n",
      "Mean Squared Error: 112.99390437241411\n",
      "Mean Squared Error: 145.4640859528803\n",
      "Mean Squared Error: 187.4259014893971\n",
      "Mean Squared Error: 238.99752486816047\n",
      "Mean Squared Error: 301.78792327073864\n",
      "Mean Squared Error: 376.1432636221279\n",
      "Mean Squared Error: 461.1045609199862\n",
      "Mean Squared Error: 566.6007806303757\n"
     ]
    },
    {
     "data": {
      "image/png": "[encoded data removed]",
      "text/plain": [
       "<Figure size 432x288 with 1 Axes>"
      ]
     },
     "metadata": {
      "needs_background": "light"
     },
     "output_type": "display_data"
    }
   ],
   "source": [
    "dataset_sizes = [500, 1000]\n",
    "\n",
    "for dataset_size in dataset_sizes:\n",
    "    \n",
    "    print(\"-------------------------\")\n",
    "    print(\"Dataset size: \", dataset_size)\n",
    "    X = generate_uniform_data(dataset_size)\n",
    "    X = np.array(X).reshape(-1, 1)\n",
    "    \n",
    "    y = np.linspace(1, dataset_size, num=dataset_size)\n",
    "\n",
    "    poisoning_percentages = np.linspace(0.01, 0.15, num= 15)\n",
    "\n",
    "    ratio_losses = []\n",
    "    \n",
    "    regressor_legitimate = LinearRegression()\n",
    "    regressor_legitimate.fit(X, y) \n",
    "\n",
    "    y_pred = regressor_legitimate.predict(X)\n",
    "    mse_legitimate = metrics.mean_squared_error(y, y_pred)\n",
    "\n",
    "    for percentage in poisoning_percentages:\n",
    "        poisoning_keys = obtain_poisoning_keys(p = percentage, keyset = X, rankset = y)\n",
    "\n",
    "        #plot_poisoning_keys(poisoning_keys)\n",
    "\n",
    "        X_poisoned = np.append(X, list(poisoning_keys))\n",
    "        y_poisoned = ss.rankdata(X_poisoned)\n",
    "\n",
    "        X_poisoned = X_poisoned.reshape(-1,1)\n",
    "        regressor_poisoned = LinearRegression()\n",
    "        regressor_poisoned.fit(X_poisoned, y_poisoned)  \n",
    "\n",
    "        y_poisoned_pred = regressor_poisoned.predict(X_poisoned)\n",
    "\n",
    "        print('Mean Squared Error:', metrics.mean_squared_error(y_poisoned, y_poisoned_pred))  \n",
    "        mse_poisoned = metrics.mean_squared_error(y_poisoned, y_poisoned_pred)\n",
    "        ratio_loss =  mse_poisoned / mse_legitimate\n",
    "\n",
    "        ratio_losses.append(ratio_loss)\n",
    "\n",
    "    plt.scatter(poisoning_percentages, ratio_losses,  color='black', marker=\"x\")\n",
    "    plt.xlabel('Poisoning Percentage')\n",
    "    plt.ylabel('Ratio Loss')\n",
    "    plt.show()"
   ]
  },
  {
   "cell_type": "code",
   "execution_count": null,
   "id": "5315855a",
   "metadata": {},
   "outputs": [],
   "source": [
    "\n"
   ]
  },
  {
   "cell_type": "markdown",
   "id": "bored-luxembourg",
   "metadata": {},
   "source": [
    "## Greedy poisoining RMI\n",
    "\n",
    "The following code implements **Algorithm 2 (Greedy Poisoning RMI)** as described in the paper \"*The Price of Tailoring the Index to Your Data: Poisoning Attacks on Learned Index Structures*\"."
   ]
  },
  {
   "cell_type": "code",
   "execution_count": 23,
   "id": "opponent-niger",
   "metadata": {},
   "outputs": [],
   "source": [
    "from numpy import unravel_index\n",
    "\n",
    "# smoothing constant alpha = {2, 3}\n",
    "alpha = 1\n",
    "\n",
    "# overall poisoning percentage\n",
    "phi = 0.1\n",
    "\n",
    "# number of second-stage models\n",
    "N = 5\n",
    "\n",
    "# key set size \n",
    "n = df[0].shape[0]\n",
    "\n",
    "# max. number of poisoning keys per model\n",
    "t = (alpha*phi*n) / N\n",
    "\n",
    "# initial size of keysets prior to poisoning\n",
    "initial_size = n/N\n",
    "\n",
    "epsilon = 5\n",
    "\n",
    "    \n",
    "df=pd.read_csv('../data/random_500.csv', sep=',',header=None)\n",
    "\n",
    "X = np.array(df[0]).reshape(-1, 1)\n",
    "y = np.array(df[1])"
   ]
  },
  {
   "cell_type": "code",
   "execution_count": 24,
   "id": "korean-flash",
   "metadata": {},
   "outputs": [],
   "source": [
    "def compute_loss_rmi(X, y):\n",
    "    \n",
    "    regressor_poisoned = LinearRegression()\n",
    "    regressor_poisoned.fit(X, y)\n",
    "\n",
    "    y_pred = regressor_poisoned.predict(X)\n",
    "    mse_poisoned = metrics.mean_squared_error(y, y_pred)\n",
    "    #print('Mean Squared Error:', mse_poisoned) \n",
    "    return mse_poisoned\n",
    "\n",
    "\n",
    "def compute_move_forward(keyset_per_model, poisoning_keys_per_model, changeloss, L_RMI):\n",
    "\n",
    "\n",
    "    poisoning_keys_per_model_dup = poisoning_keys_per_model.copy()\n",
    "    keyset_per_model_dup = keyset_per_model.copy()\n",
    "\n",
    "\n",
    "    for i in range(N-1):\n",
    "    \n",
    "        # (A) Add poisoning key to P_i+1\n",
    "        #\n",
    "        #\n",
    "        X_poisoned = np.append(keyset_per_model_dup[i+1], list(poisoning_keys_per_model_dup[i+1]))\n",
    "        X_poisoned = np.sort(X_poisoned)\n",
    "        y_poisoned = ss.rankdata(X_poisoned)\n",
    "\n",
    "        # set percentage such that we obtain exactly **one** additional poisoning key\n",
    "        p = 1/X_poisoned.shape[0]\n",
    "\n",
    "\n",
    "        # obtain **one** additional poisoning key\n",
    "        poisoning_key =  obtain_poisoning_keys(p = p, keyset = X_poisoned, rankset = y_poisoned)\n",
    "        # append additional poisoning_key to set\n",
    "        poisoning_keys_per_model_dup[i+1].update(poisoning_key)\n",
    "\n",
    "\n",
    "        # (B) Move smallest legitimate key from (i+1)-th to i-th\n",
    "        #\n",
    "        #\n",
    "        keyset_per_model_dup[i] = np.append(keyset_per_model_dup[i], keyset_per_model_dup[i+1][0])\n",
    "\n",
    "        # delete smallest legitimate key\n",
    "        keyset_per_model_dup[i+1] = np.delete(keyset_per_model_dup[i+1], 0)\n",
    "\n",
    "\n",
    "        # (C) Remove poisoning key from P_i\n",
    "        #\n",
    "        #\n",
    "        removed_poisoning_key = poisoning_keys_per_model_dup[i].pop()\n",
    "\n",
    "        # Store updated loss for every model after completing the key moves above\n",
    "        loss_per_model_changed = {}\n",
    "\n",
    "        for j in range(N-1):\n",
    "            X_poisoned = np.append(keyset_per_model_dup[j], list(poisoning_keys_per_model_dup[j]))\n",
    "            y_poisoned = ss.rankdata(X_poisoned)\n",
    "\n",
    "            X_poisoned = X_poisoned.reshape(-1,1)\n",
    "\n",
    "            loss_per_model_changed[i] = compute_loss_rmi(X_poisoned, y_poisoned)\n",
    "\n",
    "\n",
    "        # Compute updated L_RMI by averaging the loss of second-sage models\n",
    "        L_RMI_changed = np.array(list(loss_per_model_changed.values())).mean()\n",
    "        changeloss[i, i+1] = L_RMI_changed - L_RMI\n",
    "\n",
    "    return changeloss\n",
    "\n",
    "\n",
    "\n",
    "def compute_move_backward(keyset_per_model, poisoning_keys_per_model, changeloss, L_RMI):\n",
    "\n",
    "    keyset_per_model_dup = keyset_per_model.copy()\n",
    "    poisoning_keys_per_model_dup = poisoning_keys_per_model.copy()\n",
    "\n",
    "\n",
    "    for i in range(N-1):\n",
    "\n",
    "        # (A) Add poisoning key to P_i\n",
    "        #\n",
    "        #\n",
    "        X_poisoned = np.append(keyset_per_model_dup[i], list(poisoning_keys_per_model_dup[i]))\n",
    "        X_poisoned = np.sort(X_poisoned)\n",
    "        y_poisoned = ss.rankdata(X_poisoned)\n",
    "\n",
    "        # set percentage such that we obtain exactly **one** poisoning key\n",
    "        p = 1/X_poisoned.shape[0]\n",
    "\n",
    "\n",
    "        # obtain one additional poisoning key\n",
    "        poisoning_key =  obtain_poisoning_keys(p = p, keyset = X_poisoned, rankset = y_poisoned)\n",
    "        # append additional poisoning_key to set\n",
    "        poisoning_keys_per_model_dup[i].update(poisoning_key)\n",
    "\n",
    "\n",
    "        # (B) Move smallest legitimate key from i-th to (i+1)-th\n",
    "        #\n",
    "        #\n",
    "        keyset_per_model_dup[i+1] = np.append(keyset_per_model_dup[i+1], keyset_per_model_dup[i][-1])\n",
    "\n",
    "        # delete largest legitimate key\n",
    "        keyset_per_model_dup[i] = np.delete(keyset_per_model_dup[i], len(keyset_per_model_dup[i]) -1)\n",
    "\n",
    "\n",
    "        # (C) Remove poosoning key from P_i+1\n",
    "        #\n",
    "        #\n",
    "        removed_poisoning_key = poisoning_keys_per_model_dup[i+1].pop()\n",
    "\n",
    "        # Store updated loss for every model after completing the key moves above\n",
    "        loss_per_model_changed = {}\n",
    "\n",
    "        for j in range(N-1):\n",
    "            X_poisoned = np.append(keyset_per_model_dup[j], list(poisoning_keys_per_model_dup[j]))\n",
    "            y_poisoned = ss.rankdata(X_poisoned)\n",
    "\n",
    "            X_poisoned = X_poisoned.reshape(-1,1)\n",
    "\n",
    "            loss_per_model_changed[i] = compute_loss_rmi(X_poisoned, y_poisoned)\n",
    "\n",
    "\n",
    "        # Compute updated L_RMI by averaging the loss of second-sage models\n",
    "        L_RMI_changed = np.array(list(loss_per_model_changed.values())).mean()\n",
    "\n",
    "        changeloss[i+1, i] = L_RMI_changed - L_RMI\n",
    "    \n",
    "    return changeloss"
   ]
  },
  {
   "cell_type": "code",
   "execution_count": 25,
   "id": "alert-syracuse",
   "metadata": {},
   "outputs": [],
   "source": [
    "def update_changeloss(keyset_per_model, poisoning_keys_per_model, L_RMI, N):\n",
    "    \n",
    "    # Initialize changeloss\n",
    "    changeloss = np.zeros(shape = (N, N))\n",
    "    \n",
    "    \n",
    "    # Store effect of exchange i -> i+1 in changeloss \n",
    "    changeloss = compute_move_forward(keyset_per_model, poisoning_keys_per_model, changeloss, L_RMI)\n",
    "    \n",
    "    # Store the effect of exchange i <- i+1 in Changeloss\n",
    "    changeloss = compute_move_backward(keyset_per_model, poisoning_keys_per_model, changeloss, L_RMI)\n",
    "    \n",
    "    return changeloss\n",
    "    "
   ]
  },
  {
   "cell_type": "code",
   "execution_count": 26,
   "id": "twenty-robertson",
   "metadata": {},
   "outputs": [],
   "source": [
    "def greedy_poisoning_regression_rmi(p, X, y, N, visualize = False):\n",
    "    \n",
    "    # keep track of poisoning keys\n",
    "    num_poisoning_keys = {}\n",
    "    for i in range(N):\n",
    "        num_poisoning_keys[i] = 0\n",
    "    \n",
    "    # Split keyset and rankset into N parts and obtain poisoned keys\n",
    "    keyset_per_model = np.split(X, N)\n",
    "    rankset_per_model = np.split(y, N)\n",
    "\n",
    "    # Keep original keyset / rankset for further references\n",
    "    keyset_per_model_orig = keyset_per_model.copy()\n",
    "    rankset_per_model_orig = rankset_per_model.copy()\n",
    "\n",
    "    poisoning_keys_per_model = {}\n",
    "    loss_per_model = {}\n",
    "\n",
    "    # Initial volume allocation\n",
    "    # Iterate through all the regression models of the second-stage and for the i-th model, initialize P_i by injecting ϕ*n / N poisoning keys\n",
    "    # using Algorithm 1\n",
    "    for i in range(N):\n",
    "        poisoning_keys_per_model[i] = obtain_poisoning_keys(p = p, keyset = keyset_per_model[i], rankset = rankset_per_model[i])\n",
    "\n",
    "        X_poisoned = np.append(keyset_per_model[i], list(poisoning_keys_per_model[i]))\n",
    "        # calculate updated rank\n",
    "        y_poisoned = ss.rankdata(X_poisoned)\n",
    "\n",
    "        \n",
    "        X_poisoned = X_poisoned.reshape(-1,1)\n",
    "        # compute MSE loss for current second-stage model\n",
    "        loss_per_model[i]  = compute_loss_rmi(X_poisoned, y_poisoned)\n",
    "\n",
    "    # Compute baseline L_RMI by averaging the loss of second-sage models\n",
    "    L_RMI = np.array(list(loss_per_model.values())).mean()\n",
    "    \n",
    "    # Update changeloss\n",
    "    changeloss = update_changeloss(keyset_per_model, poisoning_keys_per_model, L_RMI, N)\n",
    "\n",
    "\n",
    "    # Greedy iteration that increases the loss of the RMI\n",
    "    while True:\n",
    "\n",
    "        # Find indices (i, j) that correspond to largest entry in changeloss\n",
    "        i, j = unravel_index(changeloss.argmax(), changeloss.shape)\n",
    "\n",
    "        # print(\"Considering index: (\" + str(i) + \", \" + str(j) + \")\")\n",
    "            \n",
    "        # If indices (i, j) violate the poisoning threshold t, we obtain the next largest item in changeloss\n",
    "        while num_poisoning_keys[j] >= t:\n",
    "            # if poisoning threshold for selected model j has been reached, we ignore changeloss value\n",
    "            changeloss[i, j] = 0\n",
    "\n",
    "            i, j = unravel_index(changeloss.argmax(), changeloss.shape)\n",
    "            # print(\"Max. # of poisoning keys reached - using: (\" + str(i) + \", \" + str(j) + \")\")\n",
    "            \n",
    "            if changeloss.argmax() < epsilon:\n",
    "                break\n",
    "    \n",
    "        # if changeloss is below certain threshold or every model has reached max number of poisoning keys, we stop\n",
    "        if changeloss.argmax() < epsilon or all(i > t for i in list(num_poisoning_keys.values())):\n",
    "            print(\"Maximum changeloss below epsilon = \" + str(epsilon))\n",
    "            break\n",
    "        \n",
    "\n",
    "        #\n",
    "        # Peform change i -> j between model i and j\n",
    "        #\n",
    "\n",
    "        # Move legitimate key from j-th to i-th\n",
    "        #\n",
    "        #\n",
    "        if i < j:\n",
    "            # take smallest element from model j\n",
    "            keyset_per_model[i] = np.append(keyset_per_model[i], keyset_per_model[j][0])\n",
    "            # delete smallest legitimate key\n",
    "            keyset_per_model[j] = np.delete(keyset_per_model[j], 0)\n",
    "        else: \n",
    "            # take largest element from model j\n",
    "            keyset_per_model[i] = np.append(keyset_per_model[i], keyset_per_model[j][-1])\n",
    "            # delete largest legitimate key\n",
    "            keyset_per_model[j] = np.delete(keyset_per_model[j], len(keyset_per_model[j])-1)\n",
    "\n",
    "        \n",
    "        # Add one new poisoning key from P_j to K_j\n",
    "        #\n",
    "        #\n",
    "        added_poisoning_key = poisoning_keys_per_model[j].pop()\n",
    "        keyset_per_model[j] = np.append(keyset_per_model[j], added_poisoning_key)\n",
    "\n",
    "\n",
    "        # Remove one poisoning key from P_i\n",
    "        #\n",
    "        #\n",
    "        removed_poisoning_key = poisoning_keys_per_model[i].pop()\n",
    "\n",
    "        # Obtain fresh potential poisoning keys for the models\n",
    "        poisoning_keys_per_model = {}\n",
    "        for k in range(N):\n",
    "            keyset_per_model[k] = np.sort(keyset_per_model[k])\n",
    "            rankset_per_model[k] = ss.rankdata(keyset_per_model[k])\n",
    "            poisoning_keys_per_model[k] = obtain_poisoning_keys(p = p, keyset = keyset_per_model[k], rankset = rankset_per_model[k])\n",
    "\n",
    "\n",
    "        # Update changeloss values\n",
    "        changeloss = update_changeloss(keyset_per_model, poisoning_keys_per_model, L_RMI, N)\n",
    "\n",
    "        #print(changeloss)\n",
    "\n",
    "        # Update number of poisoning keys for current model\n",
    "        num_poisoning_keys[j] += 1\n",
    "    \n",
    "    \n",
    "    # Visualize key distributions\n",
    "    if visualize:\n",
    "        for i in range(N):\n",
    "            rankset_poisoned = ss.rankdata(keyset_per_model[i])\n",
    "\n",
    "            # For visualization purposes we shift the rank to match the original data\n",
    "            rank_shift = i*(n/N)\n",
    "            rankset_poisoned += rank_shift\n",
    "\n",
    "            plt.scatter(keyset_per_model[i], rankset_poisoned,  color='red', label=\"Original + poisoned keys\")\n",
    "            plt.scatter(keyset_per_model_orig[i], rankset_per_model_orig[i],  color='black', label=\"Original keys\")\n",
    "            plt.xlabel(\"Keys\")\n",
    "            plt.ylabel(\"Rank\")\n",
    "            plt.legend()\n",
    "            plt.show()\n",
    "        \n",
    "    return keyset_per_model\n"
   ]
  },
  {
   "cell_type": "code",
   "execution_count": 27,
   "id": "defined-sample",
   "metadata": {},
   "outputs": [
    {
     "name": "stdout",
     "output_type": "stream",
     "text": [
      "Maximum changeloss below epsilon = 5\n"
     ]
    },
    {
     "data": {
      "image/png": "[encoded data removed]",
      "text/plain": [
       "<Figure size 432x288 with 1 Axes>"
      ]
     },
     "metadata": {
      "needs_background": "light"
     },
     "output_type": "display_data"
    },
    {
     "data": {
      "image/png": "[encoded data removed]",
      "text/plain": [
       "<Figure size 432x288 with 1 Axes>"
      ]
     },
     "metadata": {
      "needs_background": "light"
     },
     "output_type": "display_data"
    },
    {
     "data": {
      "image/png": "[encoded data removed]",
      "text/plain": [
       "<Figure size 432x288 with 1 Axes>"
      ]
     },
     "metadata": {
      "needs_background": "light"
     },
     "output_type": "display_data"
    },
    {
     "data": {
      "image/png": "[encoded data removed]",
      "text/plain": [
       "<Figure size 432x288 with 1 Axes>"
      ]
     },
     "metadata": {
      "needs_background": "light"
     },
     "output_type": "display_data"
    },
    {
     "data": {
      "image/png": "[encoded data removed]",
      "text/plain": [
       "<Figure size 432x288 with 1 Axes>"
      ]
     },
     "metadata": {
      "needs_background": "light"
     },
     "output_type": "display_data"
    },
    {
     "data": {
      "text/plain": [
       "[array([  2,   4,   5,   6,  14,  16,  18,  19,  20,  21,  22,  24,  25,\n",
       "         26,  27,  28,  30,  31,  32,  34,  35,  36,  37,  40,  44,  45,\n",
       "         46,  47,  48,  53,  56,  63,  68,  69,  70,  71,  73,  74,  76,\n",
       "         79,  81,  84,  85,  87,  88,  90,  93,  94,  95,  97,  98, 100,\n",
       "        101, 102, 103, 104, 105, 107, 114, 115, 117, 119, 120, 123, 124,\n",
       "        128, 131, 133, 139, 140, 141, 142, 143, 144, 146, 147, 148, 150,\n",
       "        151, 152, 156, 157, 158, 159, 160, 162, 163, 164, 166, 168, 169,\n",
       "        170, 171, 174, 175, 176, 179, 181, 182, 188]),\n",
       " array([189, 190, 191, 193, 194, 199, 201, 202, 204, 207, 208, 209, 212,\n",
       "        215, 218, 219, 223, 224, 225, 226, 227, 229, 230, 231, 233, 234,\n",
       "        235, 238, 239, 241, 243, 244, 246, 247, 250, 251, 252, 253, 255,\n",
       "        256, 257, 258, 259, 262, 264, 265, 266, 267, 268, 269, 272, 273,\n",
       "        274, 275, 276, 278, 279, 280, 281, 282, 283, 285, 286, 287, 289,\n",
       "        290, 291, 292, 293, 294, 295, 296, 297, 299, 303, 304, 313, 314,\n",
       "        315, 316, 317, 318, 321, 322, 323, 325, 327, 328, 332, 334, 336,\n",
       "        337, 338, 341, 348, 350, 352, 353, 358, 360, 361, 363, 366, 372,\n",
       "        374, 375, 376, 378, 379, 380]),\n",
       " array([383, 384, 386, 387, 388, 390, 391, 392, 395, 396, 397, 398, 399,\n",
       "        401, 402, 404, 407, 408, 409, 413, 414, 415, 416, 418, 419, 420,\n",
       "        423, 424, 426, 427, 428, 429, 434, 436, 437, 439, 441, 442, 444,\n",
       "        445, 447, 448, 449, 450, 451, 452, 453, 458, 460, 464, 465, 467,\n",
       "        468, 474, 476, 477, 478, 479, 480, 481, 482, 483, 489, 491, 493,\n",
       "        495, 496, 497, 499, 500, 501, 502, 504, 505, 506, 508, 510, 512,\n",
       "        513, 514, 515, 518, 519, 520, 521, 522, 523, 524, 525, 526, 527,\n",
       "        528, 530, 532, 539, 541, 544, 547, 548, 550, 557, 558, 562, 564,\n",
       "        565, 566, 568, 569, 571, 576, 578, 579]),\n",
       " array([582, 585, 587, 589, 590, 600, 602, 605, 606, 608, 609, 610, 611,\n",
       "        612, 613, 619, 621, 622, 623, 624, 625, 627, 628, 633, 638, 639,\n",
       "        640, 641, 643, 647, 650, 651, 652, 653, 657, 658, 659, 663, 668,\n",
       "        670, 671, 673, 675, 676, 677, 679, 681, 682, 683, 685, 686, 688,\n",
       "        689, 690, 691, 693, 694, 695, 696, 698, 699, 700, 701, 702, 703,\n",
       "        705, 706, 708, 709, 712, 713, 714, 716, 717, 719, 720, 721, 727,\n",
       "        729, 733, 736, 737, 738, 740, 741, 742, 743, 744, 745, 746, 747,\n",
       "        748, 749, 750, 751, 752, 753, 754, 755, 758, 759, 761, 762, 763,\n",
       "        764, 765, 766, 768, 769, 770]),\n",
       " array([772, 773, 774, 775, 777, 779, 781, 782, 783, 788, 790, 792, 794,\n",
       "        795, 796, 799, 803, 806, 807, 808, 809, 811, 813, 814, 816, 817,\n",
       "        818, 820, 823, 828, 833, 835, 838, 843, 846, 847, 850, 856, 863,\n",
       "        864, 865, 866, 867, 868, 869, 870, 874, 877, 881, 884, 886, 887,\n",
       "        890, 893, 897, 898, 899, 902, 904, 905, 907, 908, 910, 911, 912,\n",
       "        913, 914, 916, 917, 921, 922, 925, 935, 938, 940, 941, 942, 945,\n",
       "        946, 948, 950, 951, 955, 956, 960, 961, 963, 964, 968, 969, 970,\n",
       "        971, 973, 978, 979, 980, 981, 982, 983, 984, 987, 992, 995, 996])]"
      ]
     },
     "execution_count": 27,
     "metadata": {},
     "output_type": "execute_result"
    }
   ],
   "source": [
    "greedy_poisoning_regression_rmi(p=0.2, X, y, N=5, visualize = True)"
   ]
  },
  {
   "cell_type": "markdown",
   "id": "reflected-median",
   "metadata": {},
   "source": [
    "## Experiments with different key sizes / number of models"
   ]
  },
  {
   "cell_type": "code",
   "execution_count": 33,
   "id": "academic-reproduction",
   "metadata": {},
   "outputs": [
    {
     "name": "stdout",
     "output_type": "stream",
     "text": [
      "-------------------------\n",
      "Dataset size:  1000\n",
      "Maximum changeloss below epsilon = 5\n",
      "Difference in model 0: 0.7537366108787813\n",
      "Difference in model 1: -0.030710085875117255\n",
      "Difference in model 2: -3.9968028886505635e-15\n",
      "Difference in model 3: 0.0\n",
      "Difference in model 4: 0.0\n",
      "Difference in model 5: 0.0\n",
      "Difference in model 6: 0.0\n",
      "Difference in model 7: 1.2059813911939135\n",
      "Difference in model 8: 718.2913370183878\n",
      "Difference in model 9: -0.32440154329274584\n",
      "Maximum changeloss below epsilon = 5\n",
      "Difference in model 0: 0.0\n",
      "Difference in model 1: 0.0\n",
      "Difference in model 2: -3.9968028886505635e-15\n",
      "Difference in model 3: 0.0\n",
      "Difference in model 4: 0.0\n",
      "Difference in model 5: 0.0\n",
      "Difference in model 6: 0.0\n",
      "Difference in model 7: 0.04905307743416176\n",
      "Difference in model 8: 691.8559986780227\n",
      "Difference in model 9: -0.6265682080970043\n",
      "Maximum changeloss below epsilon = 5\n",
      "Difference in model 0: 0.0\n",
      "Difference in model 1: 0.0\n",
      "Difference in model 2: -3.9968028886505635e-15\n",
      "Difference in model 3: 0.0\n",
      "Difference in model 4: 0.0\n",
      "Difference in model 5: 0.0\n",
      "Difference in model 6: 0.0\n",
      "Difference in model 7: 646.7580743756641\n",
      "Difference in model 8: 5.245393569772742\n",
      "Difference in model 9: -0.7669594095302594\n"
     ]
    },
    {
     "data": {
      "image/png": "[encoded data removed]",
      "text/plain": [
       "<Figure size 432x288 with 1 Axes>"
      ]
     },
     "metadata": {
      "needs_background": "light"
     },
     "output_type": "display_data"
    }
   ],
   "source": [
    "dataset_sizes = [1000]\n",
    "\n",
    "# number of second-stage models\n",
    "N = 10\n",
    "\n",
    "for dataset_size in dataset_sizes:\n",
    "    \n",
    "    print(\"-------------------------\")\n",
    "    print(\"Dataset size: \", dataset_size)\n",
    "    X = generate_uniform_data(dataset_size)\n",
    "    X = np.array(X).reshape(-1, 1)\n",
    "    \n",
    "    y = np.linspace(1, dataset_size, num=dataset_size)\n",
    "    \n",
    "    # Split keyset and rankset into N parts and obtain poisoned keys\n",
    "    keyset_per_model = np.split(X, N)\n",
    "    rankset_per_model = np.split(y, N)\n",
    "\n",
    "    ratio_losses = []\n",
    "    \n",
    "    mse_legitimate_per_model = {}\n",
    "    \n",
    "    # Calculate MSE loss for legitimate (non-poisoned) keys\n",
    "    #print(\"Legitimate loss: \")\n",
    "    for i in range(N):\n",
    "        mse_legitimate_per_model[i] = compute_loss_rmi(keyset_per_model[i], rankset_per_model[i])\n",
    "        #print(\"Model \" + i + \": \" + mse_legitimate_per_model[i])\n",
    "    mse_legitimate = np.array(list(mse_legitimate_per_model.values())).mean()\n",
    "\n",
    "    poisoning_percentages = np.linspace(0.05, 0.15, num= 3)\n",
    "\n",
    "    for percentage in poisoning_percentages:\n",
    "        # Obtain poisoned dataset per model\n",
    "        X_poisoned = greedy_poisoning_regression_rmi(percentage, X, y, N)\n",
    "        \n",
    "        mse_poisoned_per_model = {}\n",
    "        \n",
    "        # Calculate MSE loss for poisoned model\n",
    "        #print(\"Poisoned loss:\")\n",
    "        for i in range(N):\n",
    "            X_poisoned[i] = X_poisoned[i].reshape(-1, 1)\n",
    "            \n",
    "            y_poisoned = ss.rankdata(X_poisoned[i])\n",
    "            loss = compute_loss_rmi(X_poisoned[i], y_poisoned)\n",
    "            diff = loss - mse_legitimate_per_model[i]\n",
    "            #print(\"Model \" + i + \": \" + loss)\n",
    "            print(\"Difference in model \" + str(i) + \": \" + str(diff))\n",
    "            mse_poisoned_per_model[i] = loss\n",
    "        mse_poisoned = np.array(list(mse_poisoned_per_model.values())).mean()\n",
    "        \n",
    "        # Calculate ratio loss over all second-stage RMI models\n",
    "        ratio_loss =  mse_poisoned / mse_legitimate\n",
    "        ratio_losses.append(ratio_loss)\n",
    "\n",
    "    plt.scatter(poisoning_percentages, ratio_losses,  color='black', marker=\"x\")\n",
    "    plt.xlabel('Poisoning Percentage')\n",
    "    plt.ylabel('Ratio Loss')\n",
    "    plt.show()"
   ]
  },
  {
   "cell_type": "code",
   "execution_count": null,
   "id": "thorough-point",
   "metadata": {},
   "outputs": [],
   "source": []
  }
 ],
 "metadata": {
  "kernelspec": {
   "display_name": "Python 3",
   "language": "python",
   "name": "python3"
  },
  "language_info": {
   "codemirror_mode": {
    "name": "ipython",
    "version": 3
   },
   "file_extension": ".py",
   "mimetype": "text/x-python",
   "name": "python",
   "nbconvert_exporter": "python",
   "pygments_lexer": "ipython3",
   "version": "3.8.5"
  }
 },
 "nbformat": 4,
 "nbformat_minor": 5
}
